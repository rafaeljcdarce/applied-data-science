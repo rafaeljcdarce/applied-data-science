{
 "metadata": {
  "language_info": {
   "codemirror_mode": {
    "name": "ipython",
    "version": 3
   },
   "file_extension": ".py",
   "mimetype": "text/x-python",
   "name": "python",
   "nbconvert_exporter": "python",
   "pygments_lexer": "ipython3",
   "version": "3.8.5"
  },
  "orig_nbformat": 2,
  "kernelspec": {
   "name": "python3",
   "display_name": "Python 3",
   "language": "python"
  }
 },
 "nbformat": 4,
 "nbformat_minor": 2,
 "cells": [
  {
   "cell_type": "code",
   "execution_count": 1,
   "metadata": {},
   "outputs": [
    {
     "output_type": "stream",
     "name": "stdout",
     "text": [
      "/home/rafael/Desktop/applied_data_science/applied-data-science\n"
     ]
    }
   ],
   "source": [
    "# How to use our code for the Applied Data Science coursework\n",
    "# 1. Import our package(s) and other useful tools\n",
    "import pandas as pd\n",
    "from applied_data_science.sentiment_pipeline import SentimentPipeline\n",
    "from applied_data_science.time_series import get_time_series, get_change_points\n",
    "from applied_data_science.data_access import get_filtered_stream_tweets as get_tweets\n",
    "from applied_data_science.geo_visualisation import clean_locations, plotGlobalSentiments, filter_locations\n",
    "from plotly.offline import iplot\n",
    "\n",
    "import matplotlib.pyplot as plt\n",
    "from datetime import date"
   ]
  },
  {
   "cell_type": "code",
   "execution_count": 2,
   "metadata": {},
   "outputs": [
    {
     "output_type": "stream",
     "name": "stderr",
     "text": [
      "Downloading: 100%|██████████| 397586/397586 [00:22<00:00, 17709.02rows/s]\n"
     ]
    }
   ],
   "source": [
    "# 2. Get some tweets and pickle them\n",
    "original_df = get_tweets(start_date= date(2021, 3, 23), end_date=date(2021, 4, 20))\n",
    "original_df.to_pickle(\"filter_data.pkl\")"
   ]
  },
  {
   "cell_type": "code",
   "execution_count": 3,
   "metadata": {},
   "outputs": [
    {
     "output_type": "execute_result",
     "data": {
      "text/plain": [
       "                    id                   location  \\\n",
       "0  1372636295479111684               Ferndale, MI   \n",
       "1  1332751430281801730  Belfast, Northern Ireland   \n",
       "2  1354175024622657548               Bethesda, MD   \n",
       "3  1336645501731696641                     NYC/FL   \n",
       "4  1341085941952172032                 New Mexico   \n",
       "5  1352805501914865665                  Everwhere   \n",
       "6  1360042627702349825          Staten Island, NY   \n",
       "7  1354183869352828929                  Heath, TX   \n",
       "8  1371864337929924618                Chicago, IL   \n",
       "9  1375478954358882309   ÜT: 40.794316,-74.349981   \n",
       "\n",
       "                                                text                      date  \n",
       "0  I'd like to thank pizza and @tacobell for maki... 2021-03-18 19:49:29+00:00  \n",
       "1  Santa could not have brought anything better t... 2020-11-28 18:21:16+00:00  \n",
       "2  ⁦@VP⁩ Harris got her second #COVID19 vaccine d... 2021-01-26 21:10:59+00:00  \n",
       "3  $PFE - Head of FDA Advisory Panel Predicts App... 2020-12-09 12:14:55+00:00  \n",
       "4  Marsha Castillo, Care Management Assistant, re... 2020-12-21 18:19:39+00:00  \n",
       "5  mRNA Vaccine for Multiple Sclerosis! Recent La... 2021-01-23 02:29:00+00:00  \n",
       "6  This is disgusting and it is criminal! \\n\\n@NY... 2021-02-12 01:46:45+00:00  \n",
       "7  The Biden administration is boosting the weekl... 2021-01-26 21:46:08+00:00  \n",
       "8  Ankit Bharat, MD @AnkitBharatMD, was featured ... 2021-03-16 16:42:00+00:00  \n",
       "9  . @govmurphy announces FEMA to open huge COVID... 2021-03-26 16:05:12+00:00  "
      ],
      "text/html": "<div>\n<style scoped>\n    .dataframe tbody tr th:only-of-type {\n        vertical-align: middle;\n    }\n\n    .dataframe tbody tr th {\n        vertical-align: top;\n    }\n\n    .dataframe thead th {\n        text-align: right;\n    }\n</style>\n<table border=\"1\" class=\"dataframe\">\n  <thead>\n    <tr style=\"text-align: right;\">\n      <th></th>\n      <th>id</th>\n      <th>location</th>\n      <th>text</th>\n      <th>date</th>\n    </tr>\n  </thead>\n  <tbody>\n    <tr>\n      <th>0</th>\n      <td>1372636295479111684</td>\n      <td>Ferndale, MI</td>\n      <td>I'd like to thank pizza and @tacobell for maki...</td>\n      <td>2021-03-18 19:49:29+00:00</td>\n    </tr>\n    <tr>\n      <th>1</th>\n      <td>1332751430281801730</td>\n      <td>Belfast, Northern Ireland</td>\n      <td>Santa could not have brought anything better t...</td>\n      <td>2020-11-28 18:21:16+00:00</td>\n    </tr>\n    <tr>\n      <th>2</th>\n      <td>1354175024622657548</td>\n      <td>Bethesda, MD</td>\n      <td>⁦@VP⁩ Harris got her second #COVID19 vaccine d...</td>\n      <td>2021-01-26 21:10:59+00:00</td>\n    </tr>\n    <tr>\n      <th>3</th>\n      <td>1336645501731696641</td>\n      <td>NYC/FL</td>\n      <td>$PFE - Head of FDA Advisory Panel Predicts App...</td>\n      <td>2020-12-09 12:14:55+00:00</td>\n    </tr>\n    <tr>\n      <th>4</th>\n      <td>1341085941952172032</td>\n      <td>New Mexico</td>\n      <td>Marsha Castillo, Care Management Assistant, re...</td>\n      <td>2020-12-21 18:19:39+00:00</td>\n    </tr>\n    <tr>\n      <th>5</th>\n      <td>1352805501914865665</td>\n      <td>Everwhere</td>\n      <td>mRNA Vaccine for Multiple Sclerosis! Recent La...</td>\n      <td>2021-01-23 02:29:00+00:00</td>\n    </tr>\n    <tr>\n      <th>6</th>\n      <td>1360042627702349825</td>\n      <td>Staten Island, NY</td>\n      <td>This is disgusting and it is criminal! \\n\\n@NY...</td>\n      <td>2021-02-12 01:46:45+00:00</td>\n    </tr>\n    <tr>\n      <th>7</th>\n      <td>1354183869352828929</td>\n      <td>Heath, TX</td>\n      <td>The Biden administration is boosting the weekl...</td>\n      <td>2021-01-26 21:46:08+00:00</td>\n    </tr>\n    <tr>\n      <th>8</th>\n      <td>1371864337929924618</td>\n      <td>Chicago, IL</td>\n      <td>Ankit Bharat, MD @AnkitBharatMD, was featured ...</td>\n      <td>2021-03-16 16:42:00+00:00</td>\n    </tr>\n    <tr>\n      <th>9</th>\n      <td>1375478954358882309</td>\n      <td>ÜT: 40.794316,-74.349981</td>\n      <td>. @govmurphy announces FEMA to open huge COVID...</td>\n      <td>2021-03-26 16:05:12+00:00</td>\n    </tr>\n  </tbody>\n</table>\n</div>"
     },
     "metadata": {},
     "execution_count": 3
    }
   ],
   "source": [
    "# Load tweets back in\n",
    "df = pd.read_pickle(\"vaccine_data.pkl\") # read from pickle\n",
    "df.columns = ['id', 'location', 'text', 'date'] # set headers\n",
    "df['date'] = pd.to_datetime(df['date']) # parse dates\n",
    "df.head(10)"
   ]
  },
  {
   "cell_type": "code",
   "execution_count": 4,
   "metadata": {},
   "outputs": [
    {
     "output_type": "stream",
     "name": "stdout",
     "text": [
      "\n",
      "CLEANING\n",
      "100%|██████████| 2128673/2128673 [00:04<00:00, 486886.87it/s]\n",
      "\n",
      "ANALYSING\n",
      "100%|██████████| 2128673/2128673 [00:36<00:00, 58548.62it/s]\n",
      "\n",
      "CLASSIFYING\n",
      "100%|██████████| 2128673/2128673 [00:01<00:00, 1497838.40it/s]\n",
      "\n",
      "DONE\n"
     ]
    },
    {
     "output_type": "execute_result",
     "data": {
      "text/plain": [
       "                    id                   location  \\\n",
       "0  1372636295479111684               Ferndale, MI   \n",
       "1  1332751430281801730  Belfast, Northern Ireland   \n",
       "2  1354175024622657548               Bethesda, MD   \n",
       "3  1336645501731696641                     NYC/FL   \n",
       "4  1341085941952172032                 New Mexico   \n",
       "5  1352805501914865665                  Everwhere   \n",
       "6  1360042627702349825          Staten Island, NY   \n",
       "7  1354183869352828929                  Heath, TX   \n",
       "8  1371864337929924618                Chicago, IL   \n",
       "9  1375478954358882309   ÜT: 40.794316,-74.349981   \n",
       "\n",
       "                                                text  \\\n",
       "0  I'd like to thank pizza and @tacobell for maki...   \n",
       "1  Santa could not have brought anything better t...   \n",
       "2  ⁦@VP⁩ Harris got her second #COVID19 vaccine d...   \n",
       "3  $PFE - Head of FDA Advisory Panel Predicts App...   \n",
       "4  Marsha Castillo, Care Management Assistant, re...   \n",
       "5  mRNA Vaccine for Multiple Sclerosis! Recent La...   \n",
       "6  This is disgusting and it is criminal! \\n\\n@NY...   \n",
       "7  The Biden administration is boosting the weekl...   \n",
       "8  Ankit Bharat, MD @AnkitBharatMD, was featured ...   \n",
       "9  . @govmurphy announces FEMA to open huge COVID...   \n",
       "\n",
       "                       date  \\\n",
       "0 2021-03-18 19:49:29+00:00   \n",
       "1 2020-11-28 18:21:16+00:00   \n",
       "2 2021-01-26 21:10:59+00:00   \n",
       "3 2020-12-09 12:14:55+00:00   \n",
       "4 2020-12-21 18:19:39+00:00   \n",
       "5 2021-01-23 02:29:00+00:00   \n",
       "6 2021-02-12 01:46:45+00:00   \n",
       "7 2021-01-26 21:46:08+00:00   \n",
       "8 2021-03-16 16:42:00+00:00   \n",
       "9 2021-03-26 16:05:12+00:00   \n",
       "\n",
       "                                         clean_texts  sent_scores  sents  \n",
       "0  I'd like to thank pizza and   for making me el...       0.6124      1  \n",
       "1  Santa could not have brought anything better t...       0.7003      1  \n",
       "2  ⁦  Harris got her second #COVID19 vaccine dose...       0.5972      1  \n",
       "3  $PFE - Head of FDA Advisory Panel Predicts App...       0.4767      1  \n",
       "4  Marsha Castillo, Care Management Assistant, re...       0.4939      1  \n",
       "5  mRNA Vaccine for Multiple Sclerosis! Recent La...       0.1511      1  \n",
       "6  This is disgusting and it is criminal! \\n\\n  a...       0.2629      1  \n",
       "7  The Biden administration is boosting the weekl...       0.3400      1  \n",
       "8  Ankit Bharat, MD   was featured in   magazine,...      -0.2732     -1  \n",
       "9  .   announces FEMA to open huge COVID vaccine ...       0.3182      1  "
      ],
      "text/html": "<div>\n<style scoped>\n    .dataframe tbody tr th:only-of-type {\n        vertical-align: middle;\n    }\n\n    .dataframe tbody tr th {\n        vertical-align: top;\n    }\n\n    .dataframe thead th {\n        text-align: right;\n    }\n</style>\n<table border=\"1\" class=\"dataframe\">\n  <thead>\n    <tr style=\"text-align: right;\">\n      <th></th>\n      <th>id</th>\n      <th>location</th>\n      <th>text</th>\n      <th>date</th>\n      <th>clean_texts</th>\n      <th>sent_scores</th>\n      <th>sents</th>\n    </tr>\n  </thead>\n  <tbody>\n    <tr>\n      <th>0</th>\n      <td>1372636295479111684</td>\n      <td>Ferndale, MI</td>\n      <td>I'd like to thank pizza and @tacobell for maki...</td>\n      <td>2021-03-18 19:49:29+00:00</td>\n      <td>I'd like to thank pizza and   for making me el...</td>\n      <td>0.6124</td>\n      <td>1</td>\n    </tr>\n    <tr>\n      <th>1</th>\n      <td>1332751430281801730</td>\n      <td>Belfast, Northern Ireland</td>\n      <td>Santa could not have brought anything better t...</td>\n      <td>2020-11-28 18:21:16+00:00</td>\n      <td>Santa could not have brought anything better t...</td>\n      <td>0.7003</td>\n      <td>1</td>\n    </tr>\n    <tr>\n      <th>2</th>\n      <td>1354175024622657548</td>\n      <td>Bethesda, MD</td>\n      <td>⁦@VP⁩ Harris got her second #COVID19 vaccine d...</td>\n      <td>2021-01-26 21:10:59+00:00</td>\n      <td>⁦  Harris got her second #COVID19 vaccine dose...</td>\n      <td>0.5972</td>\n      <td>1</td>\n    </tr>\n    <tr>\n      <th>3</th>\n      <td>1336645501731696641</td>\n      <td>NYC/FL</td>\n      <td>$PFE - Head of FDA Advisory Panel Predicts App...</td>\n      <td>2020-12-09 12:14:55+00:00</td>\n      <td>$PFE - Head of FDA Advisory Panel Predicts App...</td>\n      <td>0.4767</td>\n      <td>1</td>\n    </tr>\n    <tr>\n      <th>4</th>\n      <td>1341085941952172032</td>\n      <td>New Mexico</td>\n      <td>Marsha Castillo, Care Management Assistant, re...</td>\n      <td>2020-12-21 18:19:39+00:00</td>\n      <td>Marsha Castillo, Care Management Assistant, re...</td>\n      <td>0.4939</td>\n      <td>1</td>\n    </tr>\n    <tr>\n      <th>5</th>\n      <td>1352805501914865665</td>\n      <td>Everwhere</td>\n      <td>mRNA Vaccine for Multiple Sclerosis! Recent La...</td>\n      <td>2021-01-23 02:29:00+00:00</td>\n      <td>mRNA Vaccine for Multiple Sclerosis! Recent La...</td>\n      <td>0.1511</td>\n      <td>1</td>\n    </tr>\n    <tr>\n      <th>6</th>\n      <td>1360042627702349825</td>\n      <td>Staten Island, NY</td>\n      <td>This is disgusting and it is criminal! \\n\\n@NY...</td>\n      <td>2021-02-12 01:46:45+00:00</td>\n      <td>This is disgusting and it is criminal! \\n\\n  a...</td>\n      <td>0.2629</td>\n      <td>1</td>\n    </tr>\n    <tr>\n      <th>7</th>\n      <td>1354183869352828929</td>\n      <td>Heath, TX</td>\n      <td>The Biden administration is boosting the weekl...</td>\n      <td>2021-01-26 21:46:08+00:00</td>\n      <td>The Biden administration is boosting the weekl...</td>\n      <td>0.3400</td>\n      <td>1</td>\n    </tr>\n    <tr>\n      <th>8</th>\n      <td>1371864337929924618</td>\n      <td>Chicago, IL</td>\n      <td>Ankit Bharat, MD @AnkitBharatMD, was featured ...</td>\n      <td>2021-03-16 16:42:00+00:00</td>\n      <td>Ankit Bharat, MD   was featured in   magazine,...</td>\n      <td>-0.2732</td>\n      <td>-1</td>\n    </tr>\n    <tr>\n      <th>9</th>\n      <td>1375478954358882309</td>\n      <td>ÜT: 40.794316,-74.349981</td>\n      <td>. @govmurphy announces FEMA to open huge COVID...</td>\n      <td>2021-03-26 16:05:12+00:00</td>\n      <td>.   announces FEMA to open huge COVID vaccine ...</td>\n      <td>0.3182</td>\n      <td>1</td>\n    </tr>\n  </tbody>\n</table>\n</div>"
     },
     "metadata": {},
     "execution_count": 4
    }
   ],
   "source": [
    "# 3. Process your tweets in the sentiment pipelien\n",
    "# set workers <= CPU cores, set chunksize based on dataset size (use no greater than dataset_size/workers)\n",
    "# threshold reccommended by VADER docs, change default labels if you want\n",
    "# configure cleaning techniques (making text lower case, removing URLs, removing usernames, remove the # of a hashtag but keeping the text)\n",
    "pipe = SentimentPipeline(workers=10, chunksize=10000, make_lower=False, remove_url=True, remove_user=True, remove_hash=False, threshold=0.05, pos_label=1, neu_label=0, neg_label=-1) \n",
    "df = pipe(df)\n",
    "# df.to_pickle('sentimentDf.pkl')\n",
    "df.head(10) # note it is now indexed by time"
   ]
  },
  {
   "cell_type": "code",
   "execution_count": 5,
   "metadata": {},
   "outputs": [
    {
     "output_type": "execute_result",
     "data": {
      "text/plain": [
       "<AxesSubplot:ylabel='Frequency'>"
      ]
     },
     "metadata": {},
     "execution_count": 5
    },
    {
     "output_type": "display_data",
     "data": {
      "text/plain": "<Figure size 432x288 with 1 Axes>",
      "image/svg+xml": "<?xml version=\"1.0\" encoding=\"utf-8\" standalone=\"no\"?>\n<!DOCTYPE svg PUBLIC \"-//W3C//DTD SVG 1.1//EN\"\n  \"http://www.w3.org/Graphics/SVG/1.1/DTD/svg11.dtd\">\n<svg height=\"248.518125pt\" version=\"1.1\" viewBox=\"0 0 415.315412 248.518125\" width=\"415.315412pt\" xmlns=\"http://www.w3.org/2000/svg\" xmlns:xlink=\"http://www.w3.org/1999/xlink\">\n <metadata>\n  <rdf:RDF xmlns:cc=\"http://creativecommons.org/ns#\" xmlns:dc=\"http://purl.org/dc/elements/1.1/\" xmlns:rdf=\"http://www.w3.org/1999/02/22-rdf-syntax-ns#\">\n   <cc:Work>\n    <dc:type rdf:resource=\"http://purl.org/dc/dcmitype/StillImage\"/>\n    <dc:date>2021-04-23T17:30:40.870459</dc:date>\n    <dc:format>image/svg+xml</dc:format>\n    <dc:creator>\n     <cc:Agent>\n      <dc:title>Matplotlib v3.4.1, https://matplotlib.org/</dc:title>\n     </cc:Agent>\n    </dc:creator>\n   </cc:Work>\n  </rdf:RDF>\n </metadata>\n <defs>\n  <style type=\"text/css\">*{stroke-linecap:butt;stroke-linejoin:round;}</style>\n </defs>\n <g id=\"figure_1\">\n  <g id=\"patch_1\">\n   <path d=\"M 0 248.518125 \nL 415.315412 248.518125 \nL 415.315412 0 \nL 0 0 \nz\n\" style=\"fill:none;\"/>\n  </g>\n  <g id=\"axes_1\">\n   <g id=\"patch_2\">\n    <path d=\"M 66.053125 224.64 \nL 400.853125 224.64 \nL 400.853125 7.2 \nL 66.053125 7.2 \nz\n\" style=\"fill:#ffffff;\"/>\n   </g>\n   <g id=\"patch_3\">\n    <path clip-path=\"url(#pc83c388ec4)\" d=\"M 81.271307 224.64 \nL 88.880398 224.64 \nL 88.880398 224.64 \nL 81.271307 224.64 \nz\n\" style=\"fill:#1f77b4;opacity:0.5;\"/>\n   </g>\n   <g id=\"patch_4\">\n    <path clip-path=\"url(#pc83c388ec4)\" d=\"M 88.880398 224.64 \nL 96.489489 224.64 \nL 96.489489 224.64 \nL 88.880398 224.64 \nz\n\" style=\"fill:#1f77b4;opacity:0.5;\"/>\n   </g>\n   <g id=\"patch_5\">\n    <path clip-path=\"url(#pc83c388ec4)\" d=\"M 96.489489 224.64 \nL 104.09858 224.64 \nL 104.09858 224.64 \nL 96.489489 224.64 \nz\n\" style=\"fill:#1f77b4;opacity:0.5;\"/>\n   </g>\n   <g id=\"patch_6\">\n    <path clip-path=\"url(#pc83c388ec4)\" d=\"M 104.09858 224.64 \nL 111.70767 224.64 \nL 111.70767 224.64 \nL 104.09858 224.64 \nz\n\" style=\"fill:#1f77b4;opacity:0.5;\"/>\n   </g>\n   <g id=\"patch_7\">\n    <path clip-path=\"url(#pc83c388ec4)\" d=\"M 111.70767 224.64 \nL 119.316761 224.64 \nL 119.316761 224.64 \nL 111.70767 224.64 \nz\n\" style=\"fill:#1f77b4;opacity:0.5;\"/>\n   </g>\n   <g id=\"patch_8\">\n    <path clip-path=\"url(#pc83c388ec4)\" d=\"M 119.316761 224.64 \nL 126.925852 224.64 \nL 126.925852 224.64 \nL 119.316761 224.64 \nz\n\" style=\"fill:#1f77b4;opacity:0.5;\"/>\n   </g>\n   <g id=\"patch_9\">\n    <path clip-path=\"url(#pc83c388ec4)\" d=\"M 126.925852 224.64 \nL 134.534943 224.64 \nL 134.534943 224.64 \nL 126.925852 224.64 \nz\n\" style=\"fill:#1f77b4;opacity:0.5;\"/>\n   </g>\n   <g id=\"patch_10\">\n    <path clip-path=\"url(#pc83c388ec4)\" d=\"M 134.534943 224.64 \nL 142.144034 224.64 \nL 142.144034 224.64 \nL 134.534943 224.64 \nz\n\" style=\"fill:#1f77b4;opacity:0.5;\"/>\n   </g>\n   <g id=\"patch_11\">\n    <path clip-path=\"url(#pc83c388ec4)\" d=\"M 142.144034 224.64 \nL 149.753125 224.64 \nL 149.753125 224.64 \nL 142.144034 224.64 \nz\n\" style=\"fill:#1f77b4;opacity:0.5;\"/>\n   </g>\n   <g id=\"patch_12\">\n    <path clip-path=\"url(#pc83c388ec4)\" d=\"M 149.753125 224.64 \nL 157.362216 224.64 \nL 157.362216 224.64 \nL 149.753125 224.64 \nz\n\" style=\"fill:#1f77b4;opacity:0.5;\"/>\n   </g>\n   <g id=\"patch_13\">\n    <path clip-path=\"url(#pc83c388ec4)\" d=\"M 157.362216 224.64 \nL 164.971307 224.64 \nL 164.971307 224.64 \nL 157.362216 224.64 \nz\n\" style=\"fill:#1f77b4;opacity:0.5;\"/>\n   </g>\n   <g id=\"patch_14\">\n    <path clip-path=\"url(#pc83c388ec4)\" d=\"M 164.971307 224.64 \nL 172.580398 224.64 \nL 172.580398 224.64 \nL 164.971307 224.64 \nz\n\" style=\"fill:#1f77b4;opacity:0.5;\"/>\n   </g>\n   <g id=\"patch_15\">\n    <path clip-path=\"url(#pc83c388ec4)\" d=\"M 172.580398 224.64 \nL 180.189489 224.64 \nL 180.189489 224.64 \nL 172.580398 224.64 \nz\n\" style=\"fill:#1f77b4;opacity:0.5;\"/>\n   </g>\n   <g id=\"patch_16\">\n    <path clip-path=\"url(#pc83c388ec4)\" d=\"M 180.189489 224.64 \nL 187.79858 224.64 \nL 187.79858 224.64 \nL 180.189489 224.64 \nz\n\" style=\"fill:#1f77b4;opacity:0.5;\"/>\n   </g>\n   <g id=\"patch_17\">\n    <path clip-path=\"url(#pc83c388ec4)\" d=\"M 187.79858 224.64 \nL 195.40767 224.64 \nL 195.40767 224.64 \nL 187.79858 224.64 \nz\n\" style=\"fill:#1f77b4;opacity:0.5;\"/>\n   </g>\n   <g id=\"patch_18\">\n    <path clip-path=\"url(#pc83c388ec4)\" d=\"M 195.40767 224.64 \nL 203.016761 224.64 \nL 203.016761 224.64 \nL 195.40767 224.64 \nz\n\" style=\"fill:#1f77b4;opacity:0.5;\"/>\n   </g>\n   <g id=\"patch_19\">\n    <path clip-path=\"url(#pc83c388ec4)\" d=\"M 203.016761 224.64 \nL 210.625852 224.64 \nL 210.625852 224.64 \nL 203.016761 224.64 \nz\n\" style=\"fill:#1f77b4;opacity:0.5;\"/>\n   </g>\n   <g id=\"patch_20\">\n    <path clip-path=\"url(#pc83c388ec4)\" d=\"M 210.625852 224.64 \nL 218.234943 224.64 \nL 218.234943 224.64 \nL 210.625852 224.64 \nz\n\" style=\"fill:#1f77b4;opacity:0.5;\"/>\n   </g>\n   <g id=\"patch_21\">\n    <path clip-path=\"url(#pc83c388ec4)\" d=\"M 218.234943 224.64 \nL 225.844034 224.64 \nL 225.844034 224.64 \nL 218.234943 224.64 \nz\n\" style=\"fill:#1f77b4;opacity:0.5;\"/>\n   </g>\n   <g id=\"patch_22\">\n    <path clip-path=\"url(#pc83c388ec4)\" d=\"M 225.844034 224.64 \nL 233.453125 224.64 \nL 233.453125 224.64 \nL 225.844034 224.64 \nz\n\" style=\"fill:#1f77b4;opacity:0.5;\"/>\n   </g>\n   <g id=\"patch_23\">\n    <path clip-path=\"url(#pc83c388ec4)\" d=\"M 233.453125 224.64 \nL 241.062216 224.64 \nL 241.062216 224.64 \nL 233.453125 224.64 \nz\n\" style=\"fill:#1f77b4;opacity:0.5;\"/>\n   </g>\n   <g id=\"patch_24\">\n    <path clip-path=\"url(#pc83c388ec4)\" d=\"M 241.062216 224.64 \nL 248.671307 224.64 \nL 248.671307 224.64 \nL 241.062216 224.64 \nz\n\" style=\"fill:#1f77b4;opacity:0.5;\"/>\n   </g>\n   <g id=\"patch_25\">\n    <path clip-path=\"url(#pc83c388ec4)\" d=\"M 248.671307 224.64 \nL 256.280398 224.64 \nL 256.280398 224.64 \nL 248.671307 224.64 \nz\n\" style=\"fill:#1f77b4;opacity:0.5;\"/>\n   </g>\n   <g id=\"patch_26\">\n    <path clip-path=\"url(#pc83c388ec4)\" d=\"M 256.280398 224.64 \nL 263.889489 224.64 \nL 263.889489 224.64 \nL 256.280398 224.64 \nz\n\" style=\"fill:#1f77b4;opacity:0.5;\"/>\n   </g>\n   <g id=\"patch_27\">\n    <path clip-path=\"url(#pc83c388ec4)\" d=\"M 263.889489 224.64 \nL 271.49858 224.64 \nL 271.49858 224.64 \nL 263.889489 224.64 \nz\n\" style=\"fill:#1f77b4;opacity:0.5;\"/>\n   </g>\n   <g id=\"patch_28\">\n    <path clip-path=\"url(#pc83c388ec4)\" d=\"M 271.49858 224.64 \nL 279.10767 224.64 \nL 279.10767 224.64 \nL 271.49858 224.64 \nz\n\" style=\"fill:#1f77b4;opacity:0.5;\"/>\n   </g>\n   <g id=\"patch_29\">\n    <path clip-path=\"url(#pc83c388ec4)\" d=\"M 279.10767 224.64 \nL 286.716761 224.64 \nL 286.716761 224.64 \nL 279.10767 224.64 \nz\n\" style=\"fill:#1f77b4;opacity:0.5;\"/>\n   </g>\n   <g id=\"patch_30\">\n    <path clip-path=\"url(#pc83c388ec4)\" d=\"M 286.716761 224.64 \nL 294.325852 224.64 \nL 294.325852 224.64 \nL 286.716761 224.64 \nz\n\" style=\"fill:#1f77b4;opacity:0.5;\"/>\n   </g>\n   <g id=\"patch_31\">\n    <path clip-path=\"url(#pc83c388ec4)\" d=\"M 294.325852 224.64 \nL 301.934943 224.64 \nL 301.934943 224.64 \nL 294.325852 224.64 \nz\n\" style=\"fill:#1f77b4;opacity:0.5;\"/>\n   </g>\n   <g id=\"patch_32\">\n    <path clip-path=\"url(#pc83c388ec4)\" d=\"M 301.934943 224.64 \nL 309.544034 224.64 \nL 309.544034 224.64 \nL 301.934943 224.64 \nz\n\" style=\"fill:#1f77b4;opacity:0.5;\"/>\n   </g>\n   <g id=\"patch_33\">\n    <path clip-path=\"url(#pc83c388ec4)\" d=\"M 309.544034 224.64 \nL 317.153125 224.64 \nL 317.153125 224.64 \nL 309.544034 224.64 \nz\n\" style=\"fill:#1f77b4;opacity:0.5;\"/>\n   </g>\n   <g id=\"patch_34\">\n    <path clip-path=\"url(#pc83c388ec4)\" d=\"M 317.153125 224.64 \nL 324.762216 224.64 \nL 324.762216 224.64 \nL 317.153125 224.64 \nz\n\" style=\"fill:#1f77b4;opacity:0.5;\"/>\n   </g>\n   <g id=\"patch_35\">\n    <path clip-path=\"url(#pc83c388ec4)\" d=\"M 324.762216 224.64 \nL 332.371307 224.64 \nL 332.371307 224.64 \nL 324.762216 224.64 \nz\n\" style=\"fill:#1f77b4;opacity:0.5;\"/>\n   </g>\n   <g id=\"patch_36\">\n    <path clip-path=\"url(#pc83c388ec4)\" d=\"M 332.371307 224.64 \nL 339.980398 224.64 \nL 339.980398 224.64 \nL 332.371307 224.64 \nz\n\" style=\"fill:#1f77b4;opacity:0.5;\"/>\n   </g>\n   <g id=\"patch_37\">\n    <path clip-path=\"url(#pc83c388ec4)\" d=\"M 339.980398 224.64 \nL 347.589489 224.64 \nL 347.589489 224.64 \nL 339.980398 224.64 \nz\n\" style=\"fill:#1f77b4;opacity:0.5;\"/>\n   </g>\n   <g id=\"patch_38\">\n    <path clip-path=\"url(#pc83c388ec4)\" d=\"M 347.589489 224.64 \nL 355.19858 224.64 \nL 355.19858 224.64 \nL 347.589489 224.64 \nz\n\" style=\"fill:#1f77b4;opacity:0.5;\"/>\n   </g>\n   <g id=\"patch_39\">\n    <path clip-path=\"url(#pc83c388ec4)\" d=\"M 355.19858 224.64 \nL 362.80767 224.64 \nL 362.80767 224.64 \nL 355.19858 224.64 \nz\n\" style=\"fill:#1f77b4;opacity:0.5;\"/>\n   </g>\n   <g id=\"patch_40\">\n    <path clip-path=\"url(#pc83c388ec4)\" d=\"M 362.80767 224.64 \nL 370.416761 224.64 \nL 370.416761 224.64 \nL 362.80767 224.64 \nz\n\" style=\"fill:#1f77b4;opacity:0.5;\"/>\n   </g>\n   <g id=\"patch_41\">\n    <path clip-path=\"url(#pc83c388ec4)\" d=\"M 370.416761 224.64 \nL 378.025852 224.64 \nL 378.025852 224.64 \nL 370.416761 224.64 \nz\n\" style=\"fill:#1f77b4;opacity:0.5;\"/>\n   </g>\n   <g id=\"patch_42\">\n    <path clip-path=\"url(#pc83c388ec4)\" d=\"M 378.025852 224.64 \nL 385.634943 224.64 \nL 385.634943 224.64 \nL 378.025852 224.64 \nz\n\" style=\"fill:#1f77b4;opacity:0.5;\"/>\n   </g>\n   <g id=\"patch_43\">\n    <path clip-path=\"url(#pc83c388ec4)\" d=\"M 81.271307 224.64 \nL 88.880398 224.64 \nL 88.880398 223.718524 \nL 81.271307 223.718524 \nz\n\" style=\"fill:#ff7f0e;opacity:0.5;\"/>\n   </g>\n   <g id=\"patch_44\">\n    <path clip-path=\"url(#pc83c388ec4)\" d=\"M 88.880398 224.64 \nL 96.489489 224.64 \nL 96.489489 221.31586 \nL 88.880398 221.31586 \nz\n\" style=\"fill:#ff7f0e;opacity:0.5;\"/>\n   </g>\n   <g id=\"patch_45\">\n    <path clip-path=\"url(#pc83c388ec4)\" d=\"M 96.489489 224.64 \nL 104.09858 224.64 \nL 104.09858 220.036059 \nL 96.489489 220.036059 \nz\n\" style=\"fill:#ff7f0e;opacity:0.5;\"/>\n   </g>\n   <g id=\"patch_46\">\n    <path clip-path=\"url(#pc83c388ec4)\" d=\"M 104.09858 224.64 \nL 111.70767 224.64 \nL 111.70767 219.069449 \nL 104.09858 219.069449 \nz\n\" style=\"fill:#ff7f0e;opacity:0.5;\"/>\n   </g>\n   <g id=\"patch_47\">\n    <path clip-path=\"url(#pc83c388ec4)\" d=\"M 111.70767 224.64 \nL 119.316761 224.64 \nL 119.316761 218.450168 \nL 111.70767 218.450168 \nz\n\" style=\"fill:#ff7f0e;opacity:0.5;\"/>\n   </g>\n   <g id=\"patch_48\">\n    <path clip-path=\"url(#pc83c388ec4)\" d=\"M 119.316761 224.64 \nL 126.925852 224.64 \nL 126.925852 218.257258 \nL 119.316761 218.257258 \nz\n\" style=\"fill:#ff7f0e;opacity:0.5;\"/>\n   </g>\n   <g id=\"patch_49\">\n    <path clip-path=\"url(#pc83c388ec4)\" d=\"M 126.925852 224.64 \nL 134.534943 224.64 \nL 134.534943 218.437338 \nL 126.925852 218.437338 \nz\n\" style=\"fill:#ff7f0e;opacity:0.5;\"/>\n   </g>\n   <g id=\"patch_50\">\n    <path clip-path=\"url(#pc83c388ec4)\" d=\"M 134.534943 224.64 \nL 142.144034 224.64 \nL 142.144034 217.975912 \nL 134.534943 217.975912 \nz\n\" style=\"fill:#ff7f0e;opacity:0.5;\"/>\n   </g>\n   <g id=\"patch_51\">\n    <path clip-path=\"url(#pc83c388ec4)\" d=\"M 142.144034 224.64 \nL 149.753125 224.64 \nL 149.753125 214.918914 \nL 142.144034 214.918914 \nz\n\" style=\"fill:#ff7f0e;opacity:0.5;\"/>\n   </g>\n   <g id=\"patch_52\">\n    <path clip-path=\"url(#pc83c388ec4)\" d=\"M 149.753125 224.64 \nL 157.362216 224.64 \nL 157.362216 217.016405 \nL 149.753125 217.016405 \nz\n\" style=\"fill:#ff7f0e;opacity:0.5;\"/>\n   </g>\n   <g id=\"patch_53\">\n    <path clip-path=\"url(#pc83c388ec4)\" d=\"M 157.362216 224.64 \nL 164.971307 224.64 \nL 164.971307 215.906373 \nL 157.362216 215.906373 \nz\n\" style=\"fill:#ff7f0e;opacity:0.5;\"/>\n   </g>\n   <g id=\"patch_54\">\n    <path clip-path=\"url(#pc83c388ec4)\" d=\"M 164.971307 224.64 \nL 172.580398 224.64 \nL 172.580398 215.441511 \nL 164.971307 215.441511 \nz\n\" style=\"fill:#ff7f0e;opacity:0.5;\"/>\n   </g>\n   <g id=\"patch_55\">\n    <path clip-path=\"url(#pc83c388ec4)\" d=\"M 172.580398 224.64 \nL 180.189489 224.64 \nL 180.189489 214.768847 \nL 172.580398 214.768847 \nz\n\" style=\"fill:#ff7f0e;opacity:0.5;\"/>\n   </g>\n   <g id=\"patch_56\">\n    <path clip-path=\"url(#pc83c388ec4)\" d=\"M 180.189489 224.64 \nL 187.79858 224.64 \nL 187.79858 215.904082 \nL 180.189489 215.904082 \nz\n\" style=\"fill:#ff7f0e;opacity:0.5;\"/>\n   </g>\n   <g id=\"patch_57\">\n    <path clip-path=\"url(#pc83c388ec4)\" d=\"M 187.79858 224.64 \nL 195.40767 224.64 \nL 195.40767 213.160962 \nL 187.79858 213.160962 \nz\n\" style=\"fill:#ff7f0e;opacity:0.5;\"/>\n   </g>\n   <g id=\"patch_58\">\n    <path clip-path=\"url(#pc83c388ec4)\" d=\"M 195.40767 224.64 \nL 203.016761 224.64 \nL 203.016761 216.291046 \nL 195.40767 216.291046 \nz\n\" style=\"fill:#ff7f0e;opacity:0.5;\"/>\n   </g>\n   <g id=\"patch_59\">\n    <path clip-path=\"url(#pc83c388ec4)\" d=\"M 203.016761 224.64 \nL 210.625852 224.64 \nL 210.625852 219.163383 \nL 203.016761 219.163383 \nz\n\" style=\"fill:#ff7f0e;opacity:0.5;\"/>\n   </g>\n   <g id=\"patch_60\">\n    <path clip-path=\"url(#pc83c388ec4)\" d=\"M 210.625852 224.64 \nL 218.234943 224.64 \nL 218.234943 218.805057 \nL 210.625852 218.805057 \nz\n\" style=\"fill:#ff7f0e;opacity:0.5;\"/>\n   </g>\n   <g id=\"patch_61\">\n    <path clip-path=\"url(#pc83c388ec4)\" d=\"M 218.234943 224.64 \nL 225.844034 224.64 \nL 225.844034 219.877286 \nL 218.234943 219.877286 \nz\n\" style=\"fill:#ff7f0e;opacity:0.5;\"/>\n   </g>\n   <g id=\"patch_62\">\n    <path clip-path=\"url(#pc83c388ec4)\" d=\"M 225.844034 224.64 \nL 233.453125 224.64 \nL 233.453125 221.851059 \nL 225.844034 221.851059 \nz\n\" style=\"fill:#ff7f0e;opacity:0.5;\"/>\n   </g>\n   <g id=\"patch_63\">\n    <path clip-path=\"url(#pc83c388ec4)\" d=\"M 233.453125 224.64 \nL 241.062216 224.64 \nL 241.062216 76.452888 \nL 233.453125 76.452888 \nz\n\" style=\"fill:#ff7f0e;opacity:0.5;\"/>\n   </g>\n   <g id=\"patch_64\">\n    <path clip-path=\"url(#pc83c388ec4)\" d=\"M 241.062216 224.64 \nL 248.671307 224.64 \nL 248.671307 217.262009 \nL 241.062216 217.262009 \nz\n\" style=\"fill:#ff7f0e;opacity:0.5;\"/>\n   </g>\n   <g id=\"patch_65\">\n    <path clip-path=\"url(#pc83c388ec4)\" d=\"M 248.671307 224.64 \nL 256.280398 224.64 \nL 256.280398 218.015777 \nL 248.671307 218.015777 \nz\n\" style=\"fill:#ff7f0e;opacity:0.5;\"/>\n   </g>\n   <g id=\"patch_66\">\n    <path clip-path=\"url(#pc83c388ec4)\" d=\"M 256.280398 224.64 \nL 263.889489 224.64 \nL 263.889489 218.469413 \nL 256.280398 218.469413 \nz\n\" style=\"fill:#ff7f0e;opacity:0.5;\"/>\n   </g>\n   <g id=\"patch_67\">\n    <path clip-path=\"url(#pc83c388ec4)\" d=\"M 263.889489 224.64 \nL 271.49858 224.64 \nL 271.49858 215.921036 \nL 263.889489 215.921036 \nz\n\" style=\"fill:#ff7f0e;opacity:0.5;\"/>\n   </g>\n   <g id=\"patch_68\">\n    <path clip-path=\"url(#pc83c388ec4)\" d=\"M 271.49858 224.64 \nL 279.10767 224.64 \nL 279.10767 212.615225 \nL 271.49858 212.615225 \nz\n\" style=\"fill:#ff7f0e;opacity:0.5;\"/>\n   </g>\n   <g id=\"patch_69\">\n    <path clip-path=\"url(#pc83c388ec4)\" d=\"M 279.10767 224.64 \nL 286.716761 224.64 \nL 286.716761 213.352726 \nL 279.10767 213.352726 \nz\n\" style=\"fill:#ff7f0e;opacity:0.5;\"/>\n   </g>\n   <g id=\"patch_70\">\n    <path clip-path=\"url(#pc83c388ec4)\" d=\"M 286.716761 224.64 \nL 294.325852 224.64 \nL 294.325852 212.595292 \nL 286.716761 212.595292 \nz\n\" style=\"fill:#ff7f0e;opacity:0.5;\"/>\n   </g>\n   <g id=\"patch_71\">\n    <path clip-path=\"url(#pc83c388ec4)\" d=\"M 294.325852 224.64 \nL 301.934943 224.64 \nL 301.934943 199.437574 \nL 294.325852 199.437574 \nz\n\" style=\"fill:#ff7f0e;opacity:0.5;\"/>\n   </g>\n   <g id=\"patch_72\">\n    <path clip-path=\"url(#pc83c388ec4)\" d=\"M 301.934943 224.64 \nL 309.544034 224.64 \nL 309.544034 206.22538 \nL 301.934943 206.22538 \nz\n\" style=\"fill:#ff7f0e;opacity:0.5;\"/>\n   </g>\n   <g id=\"patch_73\">\n    <path clip-path=\"url(#pc83c388ec4)\" d=\"M 309.544034 224.64 \nL 317.153125 224.64 \nL 317.153125 212.947662 \nL 309.544034 212.947662 \nz\n\" style=\"fill:#ff7f0e;opacity:0.5;\"/>\n   </g>\n   <g id=\"patch_74\">\n    <path clip-path=\"url(#pc83c388ec4)\" d=\"M 317.153125 224.64 \nL 324.762216 224.64 \nL 324.762216 210.391037 \nL 317.153125 210.391037 \nz\n\" style=\"fill:#ff7f0e;opacity:0.5;\"/>\n   </g>\n   <g id=\"patch_75\">\n    <path clip-path=\"url(#pc83c388ec4)\" d=\"M 324.762216 224.64 \nL 332.371307 224.64 \nL 332.371307 212.81707 \nL 324.762216 212.81707 \nz\n\" style=\"fill:#ff7f0e;opacity:0.5;\"/>\n   </g>\n   <g id=\"patch_76\">\n    <path clip-path=\"url(#pc83c388ec4)\" d=\"M 332.371307 224.64 \nL 339.980398 224.64 \nL 339.980398 214.41075 \nL 332.371307 214.41075 \nz\n\" style=\"fill:#ff7f0e;opacity:0.5;\"/>\n   </g>\n   <g id=\"patch_77\">\n    <path clip-path=\"url(#pc83c388ec4)\" d=\"M 339.980398 224.64 \nL 347.589489 224.64 \nL 347.589489 212.928646 \nL 339.980398 212.928646 \nz\n\" style=\"fill:#ff7f0e;opacity:0.5;\"/>\n   </g>\n   <g id=\"patch_78\">\n    <path clip-path=\"url(#pc83c388ec4)\" d=\"M 347.589489 224.64 \nL 355.19858 224.64 \nL 355.19858 213.650109 \nL 347.589489 213.650109 \nz\n\" style=\"fill:#ff7f0e;opacity:0.5;\"/>\n   </g>\n   <g id=\"patch_79\">\n    <path clip-path=\"url(#pc83c388ec4)\" d=\"M 355.19858 224.64 \nL 362.80767 224.64 \nL 362.80767 213.841873 \nL 355.19858 213.841873 \nz\n\" style=\"fill:#ff7f0e;opacity:0.5;\"/>\n   </g>\n   <g id=\"patch_80\">\n    <path clip-path=\"url(#pc83c388ec4)\" d=\"M 362.80767 224.64 \nL 370.416761 224.64 \nL 370.416761 215.182618 \nL 362.80767 215.182618 \nz\n\" style=\"fill:#ff7f0e;opacity:0.5;\"/>\n   </g>\n   <g id=\"patch_81\">\n    <path clip-path=\"url(#pc83c388ec4)\" d=\"M 370.416761 224.64 \nL 378.025852 224.64 \nL 378.025852 218.301018 \nL 370.416761 218.301018 \nz\n\" style=\"fill:#ff7f0e;opacity:0.5;\"/>\n   </g>\n   <g id=\"patch_82\">\n    <path clip-path=\"url(#pc83c388ec4)\" d=\"M 378.025852 224.64 \nL 385.634943 224.64 \nL 385.634943 222.718694 \nL 378.025852 222.718694 \nz\n\" style=\"fill:#ff7f0e;opacity:0.5;\"/>\n   </g>\n   <g id=\"patch_83\">\n    <path clip-path=\"url(#pc83c388ec4)\" d=\"M 81.271307 224.64 \nL 88.880398 224.64 \nL 88.880398 94.994434 \nL 81.271307 94.994434 \nz\n\" style=\"fill:#2ca02c;opacity:0.5;\"/>\n   </g>\n   <g id=\"patch_84\">\n    <path clip-path=\"url(#pc83c388ec4)\" d=\"M 88.880398 224.64 \nL 96.489489 224.64 \nL 96.489489 224.64 \nL 88.880398 224.64 \nz\n\" style=\"fill:#2ca02c;opacity:0.5;\"/>\n   </g>\n   <g id=\"patch_85\">\n    <path clip-path=\"url(#pc83c388ec4)\" d=\"M 96.489489 224.64 \nL 104.09858 224.64 \nL 104.09858 224.64 \nL 96.489489 224.64 \nz\n\" style=\"fill:#2ca02c;opacity:0.5;\"/>\n   </g>\n   <g id=\"patch_86\">\n    <path clip-path=\"url(#pc83c388ec4)\" d=\"M 104.09858 224.64 \nL 111.70767 224.64 \nL 111.70767 224.64 \nL 104.09858 224.64 \nz\n\" style=\"fill:#2ca02c;opacity:0.5;\"/>\n   </g>\n   <g id=\"patch_87\">\n    <path clip-path=\"url(#pc83c388ec4)\" d=\"M 111.70767 224.64 \nL 119.316761 224.64 \nL 119.316761 224.64 \nL 111.70767 224.64 \nz\n\" style=\"fill:#2ca02c;opacity:0.5;\"/>\n   </g>\n   <g id=\"patch_88\">\n    <path clip-path=\"url(#pc83c388ec4)\" d=\"M 119.316761 224.64 \nL 126.925852 224.64 \nL 126.925852 224.64 \nL 119.316761 224.64 \nz\n\" style=\"fill:#2ca02c;opacity:0.5;\"/>\n   </g>\n   <g id=\"patch_89\">\n    <path clip-path=\"url(#pc83c388ec4)\" d=\"M 126.925852 224.64 \nL 134.534943 224.64 \nL 134.534943 224.64 \nL 126.925852 224.64 \nz\n\" style=\"fill:#2ca02c;opacity:0.5;\"/>\n   </g>\n   <g id=\"patch_90\">\n    <path clip-path=\"url(#pc83c388ec4)\" d=\"M 134.534943 224.64 \nL 142.144034 224.64 \nL 142.144034 224.64 \nL 134.534943 224.64 \nz\n\" style=\"fill:#2ca02c;opacity:0.5;\"/>\n   </g>\n   <g id=\"patch_91\">\n    <path clip-path=\"url(#pc83c388ec4)\" d=\"M 142.144034 224.64 \nL 149.753125 224.64 \nL 149.753125 224.64 \nL 142.144034 224.64 \nz\n\" style=\"fill:#2ca02c;opacity:0.5;\"/>\n   </g>\n   <g id=\"patch_92\">\n    <path clip-path=\"url(#pc83c388ec4)\" d=\"M 149.753125 224.64 \nL 157.362216 224.64 \nL 157.362216 224.64 \nL 149.753125 224.64 \nz\n\" style=\"fill:#2ca02c;opacity:0.5;\"/>\n   </g>\n   <g id=\"patch_93\">\n    <path clip-path=\"url(#pc83c388ec4)\" d=\"M 157.362216 224.64 \nL 164.971307 224.64 \nL 164.971307 224.64 \nL 157.362216 224.64 \nz\n\" style=\"fill:#2ca02c;opacity:0.5;\"/>\n   </g>\n   <g id=\"patch_94\">\n    <path clip-path=\"url(#pc83c388ec4)\" d=\"M 164.971307 224.64 \nL 172.580398 224.64 \nL 172.580398 224.64 \nL 164.971307 224.64 \nz\n\" style=\"fill:#2ca02c;opacity:0.5;\"/>\n   </g>\n   <g id=\"patch_95\">\n    <path clip-path=\"url(#pc83c388ec4)\" d=\"M 172.580398 224.64 \nL 180.189489 224.64 \nL 180.189489 224.64 \nL 172.580398 224.64 \nz\n\" style=\"fill:#2ca02c;opacity:0.5;\"/>\n   </g>\n   <g id=\"patch_96\">\n    <path clip-path=\"url(#pc83c388ec4)\" d=\"M 180.189489 224.64 \nL 187.79858 224.64 \nL 187.79858 224.64 \nL 180.189489 224.64 \nz\n\" style=\"fill:#2ca02c;opacity:0.5;\"/>\n   </g>\n   <g id=\"patch_97\">\n    <path clip-path=\"url(#pc83c388ec4)\" d=\"M 187.79858 224.64 \nL 195.40767 224.64 \nL 195.40767 224.64 \nL 187.79858 224.64 \nz\n\" style=\"fill:#2ca02c;opacity:0.5;\"/>\n   </g>\n   <g id=\"patch_98\">\n    <path clip-path=\"url(#pc83c388ec4)\" d=\"M 195.40767 224.64 \nL 203.016761 224.64 \nL 203.016761 224.64 \nL 195.40767 224.64 \nz\n\" style=\"fill:#2ca02c;opacity:0.5;\"/>\n   </g>\n   <g id=\"patch_99\">\n    <path clip-path=\"url(#pc83c388ec4)\" d=\"M 203.016761 224.64 \nL 210.625852 224.64 \nL 210.625852 224.64 \nL 203.016761 224.64 \nz\n\" style=\"fill:#2ca02c;opacity:0.5;\"/>\n   </g>\n   <g id=\"patch_100\">\n    <path clip-path=\"url(#pc83c388ec4)\" d=\"M 210.625852 224.64 \nL 218.234943 224.64 \nL 218.234943 224.64 \nL 210.625852 224.64 \nz\n\" style=\"fill:#2ca02c;opacity:0.5;\"/>\n   </g>\n   <g id=\"patch_101\">\n    <path clip-path=\"url(#pc83c388ec4)\" d=\"M 218.234943 224.64 \nL 225.844034 224.64 \nL 225.844034 224.64 \nL 218.234943 224.64 \nz\n\" style=\"fill:#2ca02c;opacity:0.5;\"/>\n   </g>\n   <g id=\"patch_102\">\n    <path clip-path=\"url(#pc83c388ec4)\" d=\"M 225.844034 224.64 \nL 233.453125 224.64 \nL 233.453125 224.64 \nL 225.844034 224.64 \nz\n\" style=\"fill:#2ca02c;opacity:0.5;\"/>\n   </g>\n   <g id=\"patch_103\">\n    <path clip-path=\"url(#pc83c388ec4)\" d=\"M 233.453125 224.64 \nL 241.062216 224.64 \nL 241.062216 73.673569 \nL 233.453125 73.673569 \nz\n\" style=\"fill:#2ca02c;opacity:0.5;\"/>\n   </g>\n   <g id=\"patch_104\">\n    <path clip-path=\"url(#pc83c388ec4)\" d=\"M 241.062216 224.64 \nL 248.671307 224.64 \nL 248.671307 224.64 \nL 241.062216 224.64 \nz\n\" style=\"fill:#2ca02c;opacity:0.5;\"/>\n   </g>\n   <g id=\"patch_105\">\n    <path clip-path=\"url(#pc83c388ec4)\" d=\"M 248.671307 224.64 \nL 256.280398 224.64 \nL 256.280398 224.64 \nL 248.671307 224.64 \nz\n\" style=\"fill:#2ca02c;opacity:0.5;\"/>\n   </g>\n   <g id=\"patch_106\">\n    <path clip-path=\"url(#pc83c388ec4)\" d=\"M 256.280398 224.64 \nL 263.889489 224.64 \nL 263.889489 224.64 \nL 256.280398 224.64 \nz\n\" style=\"fill:#2ca02c;opacity:0.5;\"/>\n   </g>\n   <g id=\"patch_107\">\n    <path clip-path=\"url(#pc83c388ec4)\" d=\"M 263.889489 224.64 \nL 271.49858 224.64 \nL 271.49858 224.64 \nL 263.889489 224.64 \nz\n\" style=\"fill:#2ca02c;opacity:0.5;\"/>\n   </g>\n   <g id=\"patch_108\">\n    <path clip-path=\"url(#pc83c388ec4)\" d=\"M 271.49858 224.64 \nL 279.10767 224.64 \nL 279.10767 224.64 \nL 271.49858 224.64 \nz\n\" style=\"fill:#2ca02c;opacity:0.5;\"/>\n   </g>\n   <g id=\"patch_109\">\n    <path clip-path=\"url(#pc83c388ec4)\" d=\"M 279.10767 224.64 \nL 286.716761 224.64 \nL 286.716761 224.64 \nL 279.10767 224.64 \nz\n\" style=\"fill:#2ca02c;opacity:0.5;\"/>\n   </g>\n   <g id=\"patch_110\">\n    <path clip-path=\"url(#pc83c388ec4)\" d=\"M 286.716761 224.64 \nL 294.325852 224.64 \nL 294.325852 224.64 \nL 286.716761 224.64 \nz\n\" style=\"fill:#2ca02c;opacity:0.5;\"/>\n   </g>\n   <g id=\"patch_111\">\n    <path clip-path=\"url(#pc83c388ec4)\" d=\"M 294.325852 224.64 \nL 301.934943 224.64 \nL 301.934943 224.64 \nL 294.325852 224.64 \nz\n\" style=\"fill:#2ca02c;opacity:0.5;\"/>\n   </g>\n   <g id=\"patch_112\">\n    <path clip-path=\"url(#pc83c388ec4)\" d=\"M 301.934943 224.64 \nL 309.544034 224.64 \nL 309.544034 224.64 \nL 301.934943 224.64 \nz\n\" style=\"fill:#2ca02c;opacity:0.5;\"/>\n   </g>\n   <g id=\"patch_113\">\n    <path clip-path=\"url(#pc83c388ec4)\" d=\"M 309.544034 224.64 \nL 317.153125 224.64 \nL 317.153125 224.64 \nL 309.544034 224.64 \nz\n\" style=\"fill:#2ca02c;opacity:0.5;\"/>\n   </g>\n   <g id=\"patch_114\">\n    <path clip-path=\"url(#pc83c388ec4)\" d=\"M 317.153125 224.64 \nL 324.762216 224.64 \nL 324.762216 224.64 \nL 317.153125 224.64 \nz\n\" style=\"fill:#2ca02c;opacity:0.5;\"/>\n   </g>\n   <g id=\"patch_115\">\n    <path clip-path=\"url(#pc83c388ec4)\" d=\"M 324.762216 224.64 \nL 332.371307 224.64 \nL 332.371307 224.64 \nL 324.762216 224.64 \nz\n\" style=\"fill:#2ca02c;opacity:0.5;\"/>\n   </g>\n   <g id=\"patch_116\">\n    <path clip-path=\"url(#pc83c388ec4)\" d=\"M 332.371307 224.64 \nL 339.980398 224.64 \nL 339.980398 224.64 \nL 332.371307 224.64 \nz\n\" style=\"fill:#2ca02c;opacity:0.5;\"/>\n   </g>\n   <g id=\"patch_117\">\n    <path clip-path=\"url(#pc83c388ec4)\" d=\"M 339.980398 224.64 \nL 347.589489 224.64 \nL 347.589489 224.64 \nL 339.980398 224.64 \nz\n\" style=\"fill:#2ca02c;opacity:0.5;\"/>\n   </g>\n   <g id=\"patch_118\">\n    <path clip-path=\"url(#pc83c388ec4)\" d=\"M 347.589489 224.64 \nL 355.19858 224.64 \nL 355.19858 224.64 \nL 347.589489 224.64 \nz\n\" style=\"fill:#2ca02c;opacity:0.5;\"/>\n   </g>\n   <g id=\"patch_119\">\n    <path clip-path=\"url(#pc83c388ec4)\" d=\"M 355.19858 224.64 \nL 362.80767 224.64 \nL 362.80767 224.64 \nL 355.19858 224.64 \nz\n\" style=\"fill:#2ca02c;opacity:0.5;\"/>\n   </g>\n   <g id=\"patch_120\">\n    <path clip-path=\"url(#pc83c388ec4)\" d=\"M 362.80767 224.64 \nL 370.416761 224.64 \nL 370.416761 224.64 \nL 362.80767 224.64 \nz\n\" style=\"fill:#2ca02c;opacity:0.5;\"/>\n   </g>\n   <g id=\"patch_121\">\n    <path clip-path=\"url(#pc83c388ec4)\" d=\"M 370.416761 224.64 \nL 378.025852 224.64 \nL 378.025852 224.64 \nL 370.416761 224.64 \nz\n\" style=\"fill:#2ca02c;opacity:0.5;\"/>\n   </g>\n   <g id=\"patch_122\">\n    <path clip-path=\"url(#pc83c388ec4)\" d=\"M 378.025852 224.64 \nL 385.634943 224.64 \nL 385.634943 17.554286 \nL 378.025852 17.554286 \nz\n\" style=\"fill:#2ca02c;opacity:0.5;\"/>\n   </g>\n   <g id=\"matplotlib.axis_1\">\n    <g id=\"xtick_1\">\n     <g id=\"line2d_1\">\n      <defs>\n       <path d=\"M 0 0 \nL 0 3.5 \n\" id=\"m03ea2ee6e8\" style=\"stroke:#000000;stroke-width:0.8;\"/>\n      </defs>\n      <g>\n       <use style=\"stroke:#000000;stroke-width:0.8;\" x=\"81.271307\" xlink:href=\"#m03ea2ee6e8\" y=\"224.64\"/>\n      </g>\n     </g>\n     <g id=\"text_1\">\n      <!-- 12-31 00 -->\n      <g transform=\"translate(58.790838 239.238437)scale(0.1 -0.1)\">\n       <defs>\n        <path d=\"M 794 531 \nL 1825 531 \nL 1825 4091 \nL 703 3866 \nL 703 4441 \nL 1819 4666 \nL 2450 4666 \nL 2450 531 \nL 3481 531 \nL 3481 0 \nL 794 0 \nL 794 531 \nz\n\" id=\"DejaVuSans-31\" transform=\"scale(0.015625)\"/>\n        <path d=\"M 1228 531 \nL 3431 531 \nL 3431 0 \nL 469 0 \nL 469 531 \nQ 828 903 1448 1529 \nQ 2069 2156 2228 2338 \nQ 2531 2678 2651 2914 \nQ 2772 3150 2772 3378 \nQ 2772 3750 2511 3984 \nQ 2250 4219 1831 4219 \nQ 1534 4219 1204 4116 \nQ 875 4013 500 3803 \nL 500 4441 \nQ 881 4594 1212 4672 \nQ 1544 4750 1819 4750 \nQ 2544 4750 2975 4387 \nQ 3406 4025 3406 3419 \nQ 3406 3131 3298 2873 \nQ 3191 2616 2906 2266 \nQ 2828 2175 2409 1742 \nQ 1991 1309 1228 531 \nz\n\" id=\"DejaVuSans-32\" transform=\"scale(0.015625)\"/>\n        <path d=\"M 313 2009 \nL 1997 2009 \nL 1997 1497 \nL 313 1497 \nL 313 2009 \nz\n\" id=\"DejaVuSans-2d\" transform=\"scale(0.015625)\"/>\n        <path d=\"M 2597 2516 \nQ 3050 2419 3304 2112 \nQ 3559 1806 3559 1356 \nQ 3559 666 3084 287 \nQ 2609 -91 1734 -91 \nQ 1441 -91 1130 -33 \nQ 819 25 488 141 \nL 488 750 \nQ 750 597 1062 519 \nQ 1375 441 1716 441 \nQ 2309 441 2620 675 \nQ 2931 909 2931 1356 \nQ 2931 1769 2642 2001 \nQ 2353 2234 1838 2234 \nL 1294 2234 \nL 1294 2753 \nL 1863 2753 \nQ 2328 2753 2575 2939 \nQ 2822 3125 2822 3475 \nQ 2822 3834 2567 4026 \nQ 2313 4219 1838 4219 \nQ 1578 4219 1281 4162 \nQ 984 4106 628 3988 \nL 628 4550 \nQ 988 4650 1302 4700 \nQ 1616 4750 1894 4750 \nQ 2613 4750 3031 4423 \nQ 3450 4097 3450 3541 \nQ 3450 3153 3228 2886 \nQ 3006 2619 2597 2516 \nz\n\" id=\"DejaVuSans-33\" transform=\"scale(0.015625)\"/>\n        <path id=\"DejaVuSans-20\" transform=\"scale(0.015625)\"/>\n        <path d=\"M 2034 4250 \nQ 1547 4250 1301 3770 \nQ 1056 3291 1056 2328 \nQ 1056 1369 1301 889 \nQ 1547 409 2034 409 \nQ 2525 409 2770 889 \nQ 3016 1369 3016 2328 \nQ 3016 3291 2770 3770 \nQ 2525 4250 2034 4250 \nz\nM 2034 4750 \nQ 2819 4750 3233 4129 \nQ 3647 3509 3647 2328 \nQ 3647 1150 3233 529 \nQ 2819 -91 2034 -91 \nQ 1250 -91 836 529 \nQ 422 1150 422 2328 \nQ 422 3509 836 4129 \nQ 1250 4750 2034 4750 \nz\n\" id=\"DejaVuSans-30\" transform=\"scale(0.015625)\"/>\n       </defs>\n       <use xlink:href=\"#DejaVuSans-31\"/>\n       <use x=\"63.623047\" xlink:href=\"#DejaVuSans-32\"/>\n       <use x=\"127.246094\" xlink:href=\"#DejaVuSans-2d\"/>\n       <use x=\"163.330078\" xlink:href=\"#DejaVuSans-33\"/>\n       <use x=\"226.953125\" xlink:href=\"#DejaVuSans-31\"/>\n       <use x=\"290.576172\" xlink:href=\"#DejaVuSans-20\"/>\n       <use x=\"322.363281\" xlink:href=\"#DejaVuSans-30\"/>\n       <use x=\"385.986328\" xlink:href=\"#DejaVuSans-30\"/>\n      </g>\n     </g>\n    </g>\n    <g id=\"xtick_2\">\n     <g id=\"line2d_2\">\n      <g>\n       <use style=\"stroke:#000000;stroke-width:0.8;\" x=\"119.316761\" xlink:href=\"#m03ea2ee6e8\" y=\"224.64\"/>\n      </g>\n     </g>\n     <g id=\"text_2\">\n      <!-- 12-31 06 -->\n      <g transform=\"translate(96.836293 239.238437)scale(0.1 -0.1)\">\n       <defs>\n        <path d=\"M 2113 2584 \nQ 1688 2584 1439 2293 \nQ 1191 2003 1191 1497 \nQ 1191 994 1439 701 \nQ 1688 409 2113 409 \nQ 2538 409 2786 701 \nQ 3034 994 3034 1497 \nQ 3034 2003 2786 2293 \nQ 2538 2584 2113 2584 \nz\nM 3366 4563 \nL 3366 3988 \nQ 3128 4100 2886 4159 \nQ 2644 4219 2406 4219 \nQ 1781 4219 1451 3797 \nQ 1122 3375 1075 2522 \nQ 1259 2794 1537 2939 \nQ 1816 3084 2150 3084 \nQ 2853 3084 3261 2657 \nQ 3669 2231 3669 1497 \nQ 3669 778 3244 343 \nQ 2819 -91 2113 -91 \nQ 1303 -91 875 529 \nQ 447 1150 447 2328 \nQ 447 3434 972 4092 \nQ 1497 4750 2381 4750 \nQ 2619 4750 2861 4703 \nQ 3103 4656 3366 4563 \nz\n\" id=\"DejaVuSans-36\" transform=\"scale(0.015625)\"/>\n       </defs>\n       <use xlink:href=\"#DejaVuSans-31\"/>\n       <use x=\"63.623047\" xlink:href=\"#DejaVuSans-32\"/>\n       <use x=\"127.246094\" xlink:href=\"#DejaVuSans-2d\"/>\n       <use x=\"163.330078\" xlink:href=\"#DejaVuSans-33\"/>\n       <use x=\"226.953125\" xlink:href=\"#DejaVuSans-31\"/>\n       <use x=\"290.576172\" xlink:href=\"#DejaVuSans-20\"/>\n       <use x=\"322.363281\" xlink:href=\"#DejaVuSans-30\"/>\n       <use x=\"385.986328\" xlink:href=\"#DejaVuSans-36\"/>\n      </g>\n     </g>\n    </g>\n    <g id=\"xtick_3\">\n     <g id=\"line2d_3\">\n      <g>\n       <use style=\"stroke:#000000;stroke-width:0.8;\" x=\"157.362216\" xlink:href=\"#m03ea2ee6e8\" y=\"224.64\"/>\n      </g>\n     </g>\n     <g id=\"text_3\">\n      <!-- 12-31 12 -->\n      <g transform=\"translate(134.881747 239.238437)scale(0.1 -0.1)\">\n       <use xlink:href=\"#DejaVuSans-31\"/>\n       <use x=\"63.623047\" xlink:href=\"#DejaVuSans-32\"/>\n       <use x=\"127.246094\" xlink:href=\"#DejaVuSans-2d\"/>\n       <use x=\"163.330078\" xlink:href=\"#DejaVuSans-33\"/>\n       <use x=\"226.953125\" xlink:href=\"#DejaVuSans-31\"/>\n       <use x=\"290.576172\" xlink:href=\"#DejaVuSans-20\"/>\n       <use x=\"322.363281\" xlink:href=\"#DejaVuSans-31\"/>\n       <use x=\"385.986328\" xlink:href=\"#DejaVuSans-32\"/>\n      </g>\n     </g>\n    </g>\n    <g id=\"xtick_4\">\n     <g id=\"line2d_4\">\n      <g>\n       <use style=\"stroke:#000000;stroke-width:0.8;\" x=\"195.40767\" xlink:href=\"#m03ea2ee6e8\" y=\"224.64\"/>\n      </g>\n     </g>\n     <g id=\"text_4\">\n      <!-- 12-31 18 -->\n      <g transform=\"translate(172.927202 239.238437)scale(0.1 -0.1)\">\n       <defs>\n        <path d=\"M 2034 2216 \nQ 1584 2216 1326 1975 \nQ 1069 1734 1069 1313 \nQ 1069 891 1326 650 \nQ 1584 409 2034 409 \nQ 2484 409 2743 651 \nQ 3003 894 3003 1313 \nQ 3003 1734 2745 1975 \nQ 2488 2216 2034 2216 \nz\nM 1403 2484 \nQ 997 2584 770 2862 \nQ 544 3141 544 3541 \nQ 544 4100 942 4425 \nQ 1341 4750 2034 4750 \nQ 2731 4750 3128 4425 \nQ 3525 4100 3525 3541 \nQ 3525 3141 3298 2862 \nQ 3072 2584 2669 2484 \nQ 3125 2378 3379 2068 \nQ 3634 1759 3634 1313 \nQ 3634 634 3220 271 \nQ 2806 -91 2034 -91 \nQ 1263 -91 848 271 \nQ 434 634 434 1313 \nQ 434 1759 690 2068 \nQ 947 2378 1403 2484 \nz\nM 1172 3481 \nQ 1172 3119 1398 2916 \nQ 1625 2713 2034 2713 \nQ 2441 2713 2670 2916 \nQ 2900 3119 2900 3481 \nQ 2900 3844 2670 4047 \nQ 2441 4250 2034 4250 \nQ 1625 4250 1398 4047 \nQ 1172 3844 1172 3481 \nz\n\" id=\"DejaVuSans-38\" transform=\"scale(0.015625)\"/>\n       </defs>\n       <use xlink:href=\"#DejaVuSans-31\"/>\n       <use x=\"63.623047\" xlink:href=\"#DejaVuSans-32\"/>\n       <use x=\"127.246094\" xlink:href=\"#DejaVuSans-2d\"/>\n       <use x=\"163.330078\" xlink:href=\"#DejaVuSans-33\"/>\n       <use x=\"226.953125\" xlink:href=\"#DejaVuSans-31\"/>\n       <use x=\"290.576172\" xlink:href=\"#DejaVuSans-20\"/>\n       <use x=\"322.363281\" xlink:href=\"#DejaVuSans-31\"/>\n       <use x=\"385.986328\" xlink:href=\"#DejaVuSans-38\"/>\n      </g>\n     </g>\n    </g>\n    <g id=\"xtick_5\">\n     <g id=\"line2d_5\">\n      <g>\n       <use style=\"stroke:#000000;stroke-width:0.8;\" x=\"233.453125\" xlink:href=\"#m03ea2ee6e8\" y=\"224.64\"/>\n      </g>\n     </g>\n     <g id=\"text_5\">\n      <!-- 01-01 00 -->\n      <g transform=\"translate(210.972656 239.238437)scale(0.1 -0.1)\">\n       <use xlink:href=\"#DejaVuSans-30\"/>\n       <use x=\"63.623047\" xlink:href=\"#DejaVuSans-31\"/>\n       <use x=\"127.246094\" xlink:href=\"#DejaVuSans-2d\"/>\n       <use x=\"163.330078\" xlink:href=\"#DejaVuSans-30\"/>\n       <use x=\"226.953125\" xlink:href=\"#DejaVuSans-31\"/>\n       <use x=\"290.576172\" xlink:href=\"#DejaVuSans-20\"/>\n       <use x=\"322.363281\" xlink:href=\"#DejaVuSans-30\"/>\n       <use x=\"385.986328\" xlink:href=\"#DejaVuSans-30\"/>\n      </g>\n     </g>\n    </g>\n    <g id=\"xtick_6\">\n     <g id=\"line2d_6\">\n      <g>\n       <use style=\"stroke:#000000;stroke-width:0.8;\" x=\"271.49858\" xlink:href=\"#m03ea2ee6e8\" y=\"224.64\"/>\n      </g>\n     </g>\n     <g id=\"text_6\">\n      <!-- 01-01 06 -->\n      <g transform=\"translate(249.018111 239.238437)scale(0.1 -0.1)\">\n       <use xlink:href=\"#DejaVuSans-30\"/>\n       <use x=\"63.623047\" xlink:href=\"#DejaVuSans-31\"/>\n       <use x=\"127.246094\" xlink:href=\"#DejaVuSans-2d\"/>\n       <use x=\"163.330078\" xlink:href=\"#DejaVuSans-30\"/>\n       <use x=\"226.953125\" xlink:href=\"#DejaVuSans-31\"/>\n       <use x=\"290.576172\" xlink:href=\"#DejaVuSans-20\"/>\n       <use x=\"322.363281\" xlink:href=\"#DejaVuSans-30\"/>\n       <use x=\"385.986328\" xlink:href=\"#DejaVuSans-36\"/>\n      </g>\n     </g>\n    </g>\n    <g id=\"xtick_7\">\n     <g id=\"line2d_7\">\n      <g>\n       <use style=\"stroke:#000000;stroke-width:0.8;\" x=\"309.544034\" xlink:href=\"#m03ea2ee6e8\" y=\"224.64\"/>\n      </g>\n     </g>\n     <g id=\"text_7\">\n      <!-- 01-01 12 -->\n      <g transform=\"translate(287.063565 239.238437)scale(0.1 -0.1)\">\n       <use xlink:href=\"#DejaVuSans-30\"/>\n       <use x=\"63.623047\" xlink:href=\"#DejaVuSans-31\"/>\n       <use x=\"127.246094\" xlink:href=\"#DejaVuSans-2d\"/>\n       <use x=\"163.330078\" xlink:href=\"#DejaVuSans-30\"/>\n       <use x=\"226.953125\" xlink:href=\"#DejaVuSans-31\"/>\n       <use x=\"290.576172\" xlink:href=\"#DejaVuSans-20\"/>\n       <use x=\"322.363281\" xlink:href=\"#DejaVuSans-31\"/>\n       <use x=\"385.986328\" xlink:href=\"#DejaVuSans-32\"/>\n      </g>\n     </g>\n    </g>\n    <g id=\"xtick_8\">\n     <g id=\"line2d_8\">\n      <g>\n       <use style=\"stroke:#000000;stroke-width:0.8;\" x=\"347.589489\" xlink:href=\"#m03ea2ee6e8\" y=\"224.64\"/>\n      </g>\n     </g>\n     <g id=\"text_8\">\n      <!-- 01-01 18 -->\n      <g transform=\"translate(325.10902 239.238437)scale(0.1 -0.1)\">\n       <use xlink:href=\"#DejaVuSans-30\"/>\n       <use x=\"63.623047\" xlink:href=\"#DejaVuSans-31\"/>\n       <use x=\"127.246094\" xlink:href=\"#DejaVuSans-2d\"/>\n       <use x=\"163.330078\" xlink:href=\"#DejaVuSans-30\"/>\n       <use x=\"226.953125\" xlink:href=\"#DejaVuSans-31\"/>\n       <use x=\"290.576172\" xlink:href=\"#DejaVuSans-20\"/>\n       <use x=\"322.363281\" xlink:href=\"#DejaVuSans-31\"/>\n       <use x=\"385.986328\" xlink:href=\"#DejaVuSans-38\"/>\n      </g>\n     </g>\n    </g>\n    <g id=\"xtick_9\">\n     <g id=\"line2d_9\">\n      <g>\n       <use style=\"stroke:#000000;stroke-width:0.8;\" x=\"385.634943\" xlink:href=\"#m03ea2ee6e8\" y=\"224.64\"/>\n      </g>\n     </g>\n     <g id=\"text_9\">\n      <!-- 01-02 00 -->\n      <g transform=\"translate(363.154474 239.238437)scale(0.1 -0.1)\">\n       <use xlink:href=\"#DejaVuSans-30\"/>\n       <use x=\"63.623047\" xlink:href=\"#DejaVuSans-31\"/>\n       <use x=\"127.246094\" xlink:href=\"#DejaVuSans-2d\"/>\n       <use x=\"163.330078\" xlink:href=\"#DejaVuSans-30\"/>\n       <use x=\"226.953125\" xlink:href=\"#DejaVuSans-32\"/>\n       <use x=\"290.576172\" xlink:href=\"#DejaVuSans-20\"/>\n       <use x=\"322.363281\" xlink:href=\"#DejaVuSans-30\"/>\n       <use x=\"385.986328\" xlink:href=\"#DejaVuSans-30\"/>\n      </g>\n     </g>\n    </g>\n   </g>\n   <g id=\"matplotlib.axis_2\">\n    <g id=\"ytick_1\">\n     <g id=\"line2d_10\">\n      <defs>\n       <path d=\"M 0 0 \nL -3.5 0 \n\" id=\"m7b1e62740c\" style=\"stroke:#000000;stroke-width:0.8;\"/>\n      </defs>\n      <g>\n       <use style=\"stroke:#000000;stroke-width:0.8;\" x=\"66.053125\" xlink:href=\"#m7b1e62740c\" y=\"224.64\"/>\n      </g>\n     </g>\n     <g id=\"text_10\">\n      <!-- 0 -->\n      <g transform=\"translate(52.690625 228.439219)scale(0.1 -0.1)\">\n       <use xlink:href=\"#DejaVuSans-30\"/>\n      </g>\n     </g>\n    </g>\n    <g id=\"ytick_2\">\n     <g id=\"line2d_11\">\n      <g>\n       <use style=\"stroke:#000000;stroke-width:0.8;\" x=\"66.053125\" xlink:href=\"#m7b1e62740c\" y=\"178.818241\"/>\n      </g>\n     </g>\n     <g id=\"text_11\">\n      <!-- 200000 -->\n      <g transform=\"translate(20.878125 182.617459)scale(0.1 -0.1)\">\n       <use xlink:href=\"#DejaVuSans-32\"/>\n       <use x=\"63.623047\" xlink:href=\"#DejaVuSans-30\"/>\n       <use x=\"127.246094\" xlink:href=\"#DejaVuSans-30\"/>\n       <use x=\"190.869141\" xlink:href=\"#DejaVuSans-30\"/>\n       <use x=\"254.492188\" xlink:href=\"#DejaVuSans-30\"/>\n       <use x=\"318.115234\" xlink:href=\"#DejaVuSans-30\"/>\n      </g>\n     </g>\n    </g>\n    <g id=\"ytick_3\">\n     <g id=\"line2d_12\">\n      <g>\n       <use style=\"stroke:#000000;stroke-width:0.8;\" x=\"66.053125\" xlink:href=\"#m7b1e62740c\" y=\"132.996481\"/>\n      </g>\n     </g>\n     <g id=\"text_12\">\n      <!-- 400000 -->\n      <g transform=\"translate(20.878125 136.7957)scale(0.1 -0.1)\">\n       <defs>\n        <path d=\"M 2419 4116 \nL 825 1625 \nL 2419 1625 \nL 2419 4116 \nz\nM 2253 4666 \nL 3047 4666 \nL 3047 1625 \nL 3713 1625 \nL 3713 1100 \nL 3047 1100 \nL 3047 0 \nL 2419 0 \nL 2419 1100 \nL 313 1100 \nL 313 1709 \nL 2253 4666 \nz\n\" id=\"DejaVuSans-34\" transform=\"scale(0.015625)\"/>\n       </defs>\n       <use xlink:href=\"#DejaVuSans-34\"/>\n       <use x=\"63.623047\" xlink:href=\"#DejaVuSans-30\"/>\n       <use x=\"127.246094\" xlink:href=\"#DejaVuSans-30\"/>\n       <use x=\"190.869141\" xlink:href=\"#DejaVuSans-30\"/>\n       <use x=\"254.492188\" xlink:href=\"#DejaVuSans-30\"/>\n       <use x=\"318.115234\" xlink:href=\"#DejaVuSans-30\"/>\n      </g>\n     </g>\n    </g>\n    <g id=\"ytick_4\">\n     <g id=\"line2d_13\">\n      <g>\n       <use style=\"stroke:#000000;stroke-width:0.8;\" x=\"66.053125\" xlink:href=\"#m7b1e62740c\" y=\"87.174722\"/>\n      </g>\n     </g>\n     <g id=\"text_13\">\n      <!-- 600000 -->\n      <g transform=\"translate(20.878125 90.97394)scale(0.1 -0.1)\">\n       <use xlink:href=\"#DejaVuSans-36\"/>\n       <use x=\"63.623047\" xlink:href=\"#DejaVuSans-30\"/>\n       <use x=\"127.246094\" xlink:href=\"#DejaVuSans-30\"/>\n       <use x=\"190.869141\" xlink:href=\"#DejaVuSans-30\"/>\n       <use x=\"254.492188\" xlink:href=\"#DejaVuSans-30\"/>\n       <use x=\"318.115234\" xlink:href=\"#DejaVuSans-30\"/>\n      </g>\n     </g>\n    </g>\n    <g id=\"ytick_5\">\n     <g id=\"line2d_14\">\n      <g>\n       <use style=\"stroke:#000000;stroke-width:0.8;\" x=\"66.053125\" xlink:href=\"#m7b1e62740c\" y=\"41.352962\"/>\n      </g>\n     </g>\n     <g id=\"text_14\">\n      <!-- 800000 -->\n      <g transform=\"translate(20.878125 45.152181)scale(0.1 -0.1)\">\n       <use xlink:href=\"#DejaVuSans-38\"/>\n       <use x=\"63.623047\" xlink:href=\"#DejaVuSans-30\"/>\n       <use x=\"127.246094\" xlink:href=\"#DejaVuSans-30\"/>\n       <use x=\"190.869141\" xlink:href=\"#DejaVuSans-30\"/>\n       <use x=\"254.492188\" xlink:href=\"#DejaVuSans-30\"/>\n       <use x=\"318.115234\" xlink:href=\"#DejaVuSans-30\"/>\n      </g>\n     </g>\n    </g>\n    <g id=\"text_15\">\n     <!-- Frequency -->\n     <g transform=\"translate(14.798438 141.749687)rotate(-90)scale(0.1 -0.1)\">\n      <defs>\n       <path d=\"M 628 4666 \nL 3309 4666 \nL 3309 4134 \nL 1259 4134 \nL 1259 2759 \nL 3109 2759 \nL 3109 2228 \nL 1259 2228 \nL 1259 0 \nL 628 0 \nL 628 4666 \nz\n\" id=\"DejaVuSans-46\" transform=\"scale(0.015625)\"/>\n       <path d=\"M 2631 2963 \nQ 2534 3019 2420 3045 \nQ 2306 3072 2169 3072 \nQ 1681 3072 1420 2755 \nQ 1159 2438 1159 1844 \nL 1159 0 \nL 581 0 \nL 581 3500 \nL 1159 3500 \nL 1159 2956 \nQ 1341 3275 1631 3429 \nQ 1922 3584 2338 3584 \nQ 2397 3584 2469 3576 \nQ 2541 3569 2628 3553 \nL 2631 2963 \nz\n\" id=\"DejaVuSans-72\" transform=\"scale(0.015625)\"/>\n       <path d=\"M 3597 1894 \nL 3597 1613 \nL 953 1613 \nQ 991 1019 1311 708 \nQ 1631 397 2203 397 \nQ 2534 397 2845 478 \nQ 3156 559 3463 722 \nL 3463 178 \nQ 3153 47 2828 -22 \nQ 2503 -91 2169 -91 \nQ 1331 -91 842 396 \nQ 353 884 353 1716 \nQ 353 2575 817 3079 \nQ 1281 3584 2069 3584 \nQ 2775 3584 3186 3129 \nQ 3597 2675 3597 1894 \nz\nM 3022 2063 \nQ 3016 2534 2758 2815 \nQ 2500 3097 2075 3097 \nQ 1594 3097 1305 2825 \nQ 1016 2553 972 2059 \nL 3022 2063 \nz\n\" id=\"DejaVuSans-65\" transform=\"scale(0.015625)\"/>\n       <path d=\"M 947 1747 \nQ 947 1113 1208 752 \nQ 1469 391 1925 391 \nQ 2381 391 2643 752 \nQ 2906 1113 2906 1747 \nQ 2906 2381 2643 2742 \nQ 2381 3103 1925 3103 \nQ 1469 3103 1208 2742 \nQ 947 2381 947 1747 \nz\nM 2906 525 \nQ 2725 213 2448 61 \nQ 2172 -91 1784 -91 \nQ 1150 -91 751 415 \nQ 353 922 353 1747 \nQ 353 2572 751 3078 \nQ 1150 3584 1784 3584 \nQ 2172 3584 2448 3432 \nQ 2725 3281 2906 2969 \nL 2906 3500 \nL 3481 3500 \nL 3481 -1331 \nL 2906 -1331 \nL 2906 525 \nz\n\" id=\"DejaVuSans-71\" transform=\"scale(0.015625)\"/>\n       <path d=\"M 544 1381 \nL 544 3500 \nL 1119 3500 \nL 1119 1403 \nQ 1119 906 1312 657 \nQ 1506 409 1894 409 \nQ 2359 409 2629 706 \nQ 2900 1003 2900 1516 \nL 2900 3500 \nL 3475 3500 \nL 3475 0 \nL 2900 0 \nL 2900 538 \nQ 2691 219 2414 64 \nQ 2138 -91 1772 -91 \nQ 1169 -91 856 284 \nQ 544 659 544 1381 \nz\nM 1991 3584 \nL 1991 3584 \nz\n\" id=\"DejaVuSans-75\" transform=\"scale(0.015625)\"/>\n       <path d=\"M 3513 2113 \nL 3513 0 \nL 2938 0 \nL 2938 2094 \nQ 2938 2591 2744 2837 \nQ 2550 3084 2163 3084 \nQ 1697 3084 1428 2787 \nQ 1159 2491 1159 1978 \nL 1159 0 \nL 581 0 \nL 581 3500 \nL 1159 3500 \nL 1159 2956 \nQ 1366 3272 1645 3428 \nQ 1925 3584 2291 3584 \nQ 2894 3584 3203 3211 \nQ 3513 2838 3513 2113 \nz\n\" id=\"DejaVuSans-6e\" transform=\"scale(0.015625)\"/>\n       <path d=\"M 3122 3366 \nL 3122 2828 \nQ 2878 2963 2633 3030 \nQ 2388 3097 2138 3097 \nQ 1578 3097 1268 2742 \nQ 959 2388 959 1747 \nQ 959 1106 1268 751 \nQ 1578 397 2138 397 \nQ 2388 397 2633 464 \nQ 2878 531 3122 666 \nL 3122 134 \nQ 2881 22 2623 -34 \nQ 2366 -91 2075 -91 \nQ 1284 -91 818 406 \nQ 353 903 353 1747 \nQ 353 2603 823 3093 \nQ 1294 3584 2113 3584 \nQ 2378 3584 2631 3529 \nQ 2884 3475 3122 3366 \nz\n\" id=\"DejaVuSans-63\" transform=\"scale(0.015625)\"/>\n       <path d=\"M 2059 -325 \nQ 1816 -950 1584 -1140 \nQ 1353 -1331 966 -1331 \nL 506 -1331 \nL 506 -850 \nL 844 -850 \nQ 1081 -850 1212 -737 \nQ 1344 -625 1503 -206 \nL 1606 56 \nL 191 3500 \nL 800 3500 \nL 1894 763 \nL 2988 3500 \nL 3597 3500 \nL 2059 -325 \nz\n\" id=\"DejaVuSans-79\" transform=\"scale(0.015625)\"/>\n      </defs>\n      <use xlink:href=\"#DejaVuSans-46\"/>\n      <use x=\"50.269531\" xlink:href=\"#DejaVuSans-72\"/>\n      <use x=\"89.132812\" xlink:href=\"#DejaVuSans-65\"/>\n      <use x=\"150.65625\" xlink:href=\"#DejaVuSans-71\"/>\n      <use x=\"214.132812\" xlink:href=\"#DejaVuSans-75\"/>\n      <use x=\"277.511719\" xlink:href=\"#DejaVuSans-65\"/>\n      <use x=\"339.035156\" xlink:href=\"#DejaVuSans-6e\"/>\n      <use x=\"402.414062\" xlink:href=\"#DejaVuSans-63\"/>\n      <use x=\"457.394531\" xlink:href=\"#DejaVuSans-79\"/>\n     </g>\n    </g>\n   </g>\n   <g id=\"patch_123\">\n    <path d=\"M 66.053125 224.64 \nL 66.053125 7.2 \n\" style=\"fill:none;stroke:#000000;stroke-linecap:square;stroke-linejoin:miter;stroke-width:0.8;\"/>\n   </g>\n   <g id=\"patch_124\">\n    <path d=\"M 400.853125 224.64 \nL 400.853125 7.2 \n\" style=\"fill:none;stroke:#000000;stroke-linecap:square;stroke-linejoin:miter;stroke-width:0.8;\"/>\n   </g>\n   <g id=\"patch_125\">\n    <path d=\"M 66.053125 224.64 \nL 400.853125 224.64 \n\" style=\"fill:none;stroke:#000000;stroke-linecap:square;stroke-linejoin:miter;stroke-width:0.8;\"/>\n   </g>\n   <g id=\"patch_126\">\n    <path d=\"M 66.053125 7.2 \nL 400.853125 7.2 \n\" style=\"fill:none;stroke:#000000;stroke-linecap:square;stroke-linejoin:miter;stroke-width:0.8;\"/>\n   </g>\n   <g id=\"legend_1\">\n    <g id=\"patch_127\">\n     <path d=\"M 73.053125 59.5125 \nL 163.748438 59.5125 \nQ 165.748438 59.5125 165.748438 57.5125 \nL 165.748438 14.2 \nQ 165.748438 12.2 163.748438 12.2 \nL 73.053125 12.2 \nQ 71.053125 12.2 71.053125 14.2 \nL 71.053125 57.5125 \nQ 71.053125 59.5125 73.053125 59.5125 \nz\n\" style=\"fill:#ffffff;opacity:0.8;stroke:#cccccc;stroke-linejoin:miter;\"/>\n    </g>\n    <g id=\"patch_128\">\n     <path d=\"M 75.053125 23.798437 \nL 95.053125 23.798437 \nL 95.053125 16.798437 \nL 75.053125 16.798437 \nz\n\" style=\"fill:#1f77b4;opacity:0.5;\"/>\n    </g>\n    <g id=\"text_16\">\n     <!-- date -->\n     <g transform=\"translate(103.053125 23.798437)scale(0.1 -0.1)\">\n      <defs>\n       <path d=\"M 2906 2969 \nL 2906 4863 \nL 3481 4863 \nL 3481 0 \nL 2906 0 \nL 2906 525 \nQ 2725 213 2448 61 \nQ 2172 -91 1784 -91 \nQ 1150 -91 751 415 \nQ 353 922 353 1747 \nQ 353 2572 751 3078 \nQ 1150 3584 1784 3584 \nQ 2172 3584 2448 3432 \nQ 2725 3281 2906 2969 \nz\nM 947 1747 \nQ 947 1113 1208 752 \nQ 1469 391 1925 391 \nQ 2381 391 2643 752 \nQ 2906 1113 2906 1747 \nQ 2906 2381 2643 2742 \nQ 2381 3103 1925 3103 \nQ 1469 3103 1208 2742 \nQ 947 2381 947 1747 \nz\n\" id=\"DejaVuSans-64\" transform=\"scale(0.015625)\"/>\n       <path d=\"M 2194 1759 \nQ 1497 1759 1228 1600 \nQ 959 1441 959 1056 \nQ 959 750 1161 570 \nQ 1363 391 1709 391 \nQ 2188 391 2477 730 \nQ 2766 1069 2766 1631 \nL 2766 1759 \nL 2194 1759 \nz\nM 3341 1997 \nL 3341 0 \nL 2766 0 \nL 2766 531 \nQ 2569 213 2275 61 \nQ 1981 -91 1556 -91 \nQ 1019 -91 701 211 \nQ 384 513 384 1019 \nQ 384 1609 779 1909 \nQ 1175 2209 1959 2209 \nL 2766 2209 \nL 2766 2266 \nQ 2766 2663 2505 2880 \nQ 2244 3097 1772 3097 \nQ 1472 3097 1187 3025 \nQ 903 2953 641 2809 \nL 641 3341 \nQ 956 3463 1253 3523 \nQ 1550 3584 1831 3584 \nQ 2591 3584 2966 3190 \nQ 3341 2797 3341 1997 \nz\n\" id=\"DejaVuSans-61\" transform=\"scale(0.015625)\"/>\n       <path d=\"M 1172 4494 \nL 1172 3500 \nL 2356 3500 \nL 2356 3053 \nL 1172 3053 \nL 1172 1153 \nQ 1172 725 1289 603 \nQ 1406 481 1766 481 \nL 2356 481 \nL 2356 0 \nL 1766 0 \nQ 1100 0 847 248 \nQ 594 497 594 1153 \nL 594 3053 \nL 172 3053 \nL 172 3500 \nL 594 3500 \nL 594 4494 \nL 1172 4494 \nz\n\" id=\"DejaVuSans-74\" transform=\"scale(0.015625)\"/>\n      </defs>\n      <use xlink:href=\"#DejaVuSans-64\"/>\n      <use x=\"63.476562\" xlink:href=\"#DejaVuSans-61\"/>\n      <use x=\"124.755859\" xlink:href=\"#DejaVuSans-74\"/>\n      <use x=\"163.964844\" xlink:href=\"#DejaVuSans-65\"/>\n     </g>\n    </g>\n    <g id=\"patch_129\">\n     <path d=\"M 75.053125 38.476562 \nL 95.053125 38.476562 \nL 95.053125 31.476562 \nL 75.053125 31.476562 \nz\n\" style=\"fill:#ff7f0e;opacity:0.5;\"/>\n    </g>\n    <g id=\"text_17\">\n     <!-- sent_scores -->\n     <g transform=\"translate(103.053125 38.476562)scale(0.1 -0.1)\">\n      <defs>\n       <path d=\"M 2834 3397 \nL 2834 2853 \nQ 2591 2978 2328 3040 \nQ 2066 3103 1784 3103 \nQ 1356 3103 1142 2972 \nQ 928 2841 928 2578 \nQ 928 2378 1081 2264 \nQ 1234 2150 1697 2047 \nL 1894 2003 \nQ 2506 1872 2764 1633 \nQ 3022 1394 3022 966 \nQ 3022 478 2636 193 \nQ 2250 -91 1575 -91 \nQ 1294 -91 989 -36 \nQ 684 19 347 128 \nL 347 722 \nQ 666 556 975 473 \nQ 1284 391 1588 391 \nQ 1994 391 2212 530 \nQ 2431 669 2431 922 \nQ 2431 1156 2273 1281 \nQ 2116 1406 1581 1522 \nL 1381 1569 \nQ 847 1681 609 1914 \nQ 372 2147 372 2553 \nQ 372 3047 722 3315 \nQ 1072 3584 1716 3584 \nQ 2034 3584 2315 3537 \nQ 2597 3491 2834 3397 \nz\n\" id=\"DejaVuSans-73\" transform=\"scale(0.015625)\"/>\n       <path d=\"M 3263 -1063 \nL 3263 -1509 \nL -63 -1509 \nL -63 -1063 \nL 3263 -1063 \nz\n\" id=\"DejaVuSans-5f\" transform=\"scale(0.015625)\"/>\n       <path d=\"M 1959 3097 \nQ 1497 3097 1228 2736 \nQ 959 2375 959 1747 \nQ 959 1119 1226 758 \nQ 1494 397 1959 397 \nQ 2419 397 2687 759 \nQ 2956 1122 2956 1747 \nQ 2956 2369 2687 2733 \nQ 2419 3097 1959 3097 \nz\nM 1959 3584 \nQ 2709 3584 3137 3096 \nQ 3566 2609 3566 1747 \nQ 3566 888 3137 398 \nQ 2709 -91 1959 -91 \nQ 1206 -91 779 398 \nQ 353 888 353 1747 \nQ 353 2609 779 3096 \nQ 1206 3584 1959 3584 \nz\n\" id=\"DejaVuSans-6f\" transform=\"scale(0.015625)\"/>\n      </defs>\n      <use xlink:href=\"#DejaVuSans-73\"/>\n      <use x=\"52.099609\" xlink:href=\"#DejaVuSans-65\"/>\n      <use x=\"113.623047\" xlink:href=\"#DejaVuSans-6e\"/>\n      <use x=\"177.001953\" xlink:href=\"#DejaVuSans-74\"/>\n      <use x=\"216.210938\" xlink:href=\"#DejaVuSans-5f\"/>\n      <use x=\"266.210938\" xlink:href=\"#DejaVuSans-73\"/>\n      <use x=\"318.310547\" xlink:href=\"#DejaVuSans-63\"/>\n      <use x=\"373.291016\" xlink:href=\"#DejaVuSans-6f\"/>\n      <use x=\"434.472656\" xlink:href=\"#DejaVuSans-72\"/>\n      <use x=\"473.335938\" xlink:href=\"#DejaVuSans-65\"/>\n      <use x=\"534.859375\" xlink:href=\"#DejaVuSans-73\"/>\n     </g>\n    </g>\n    <g id=\"patch_130\">\n     <path d=\"M 75.053125 53.432812 \nL 95.053125 53.432812 \nL 95.053125 46.432812 \nL 75.053125 46.432812 \nz\n\" style=\"fill:#2ca02c;opacity:0.5;\"/>\n    </g>\n    <g id=\"text_18\">\n     <!-- sents -->\n     <g transform=\"translate(103.053125 53.432812)scale(0.1 -0.1)\">\n      <use xlink:href=\"#DejaVuSans-73\"/>\n      <use x=\"52.099609\" xlink:href=\"#DejaVuSans-65\"/>\n      <use x=\"113.623047\" xlink:href=\"#DejaVuSans-6e\"/>\n      <use x=\"177.001953\" xlink:href=\"#DejaVuSans-74\"/>\n      <use x=\"216.210938\" xlink:href=\"#DejaVuSans-73\"/>\n     </g>\n    </g>\n   </g>\n  </g>\n </g>\n <defs>\n  <clipPath id=\"pc83c388ec4\">\n   <rect height=\"217.44\" width=\"334.8\" x=\"66.053125\" y=\"7.2\"/>\n  </clipPath>\n </defs>\n</svg>\n",
      "image/png": "[encoded data removed]"
     },
     "metadata": {
      "needs_background": "light"
     }
    }
   ],
   "source": [
    "# Optional: visualise sentiment distribution\n",
    "df.plot.hist(bins=40, alpha=0.5)"
   ]
  },
  {
   "cell_type": "code",
   "execution_count": 6,
   "metadata": {},
   "outputs": [
    {
     "output_type": "display_data",
     "data": {
      "text/plain": "<Figure size 432x288 with 1 Axes>",
      "image/svg+xml": "<?xml version=\"1.0\" encoding=\"utf-8\" standalone=\"no\"?>\n<!DOCTYPE svg PUBLIC \"-//W3C//DTD SVG 1.1//EN\"\n  \"http://www.w3.org/Graphics/SVG/1.1/DTD/svg11.dtd\">\n<svg height=\"273.394062pt\" version=\"1.1\" viewBox=\"0 0 381.65 273.394062\" width=\"381.65pt\" xmlns=\"http://www.w3.org/2000/svg\" xmlns:xlink=\"http://www.w3.org/1999/xlink\">\n <metadata>\n  <rdf:RDF xmlns:cc=\"http://creativecommons.org/ns#\" xmlns:dc=\"http://purl.org/dc/elements/1.1/\" xmlns:rdf=\"http://www.w3.org/1999/02/22-rdf-syntax-ns#\">\n   <cc:Work>\n    <dc:type rdf:resource=\"http://purl.org/dc/dcmitype/StillImage\"/>\n    <dc:date>2021-04-23T17:30:44.330143</dc:date>\n    <dc:format>image/svg+xml</dc:format>\n    <dc:creator>\n     <cc:Agent>\n      <dc:title>Matplotlib v3.4.1, https://matplotlib.org/</dc:title>\n     </cc:Agent>\n    </dc:creator>\n   </cc:Work>\n  </rdf:RDF>\n </metadata>\n <defs>\n  <style type=\"text/css\">*{stroke-linecap:butt;stroke-linejoin:round;}</style>\n </defs>\n <g id=\"figure_1\">\n  <g id=\"patch_1\">\n   <path d=\"M -0 273.394062 \nL 381.65 273.394062 \nL 381.65 0 \nL -0 0 \nz\n\" style=\"fill:none;\"/>\n  </g>\n  <g id=\"axes_1\">\n   <g id=\"patch_2\">\n    <path d=\"M 39.65 224.64 \nL 374.45 224.64 \nL 374.45 7.2 \nL 39.65 7.2 \nz\n\" style=\"fill:#ffffff;\"/>\n   </g>\n   <g id=\"matplotlib.axis_1\">\n    <g id=\"xtick_1\">\n     <g id=\"line2d_1\">\n      <defs>\n       <path d=\"M 0 0 \nL 0 3.5 \n\" id=\"m980c46c2eb\" style=\"stroke:#000000;stroke-width:0.8;\"/>\n      </defs>\n      <g>\n       <use style=\"stroke:#000000;stroke-width:0.8;\" x=\"39.65\" xlink:href=\"#m980c46c2eb\" y=\"224.64\"/>\n      </g>\n     </g>\n    </g>\n    <g id=\"xtick_2\">\n     <g id=\"line2d_2\">\n      <g>\n       <use style=\"stroke:#000000;stroke-width:0.8;\" x=\"106.15137\" xlink:href=\"#m980c46c2eb\" y=\"224.64\"/>\n      </g>\n     </g>\n     <g id=\"text_1\">\n      <!-- Dec -->\n      <g transform=\"translate(96.475589 239.238437)scale(0.1 -0.1)\">\n       <defs>\n        <path d=\"M 1259 4147 \nL 1259 519 \nL 2022 519 \nQ 2988 519 3436 956 \nQ 3884 1394 3884 2338 \nQ 3884 3275 3436 3711 \nQ 2988 4147 2022 4147 \nL 1259 4147 \nz\nM 628 4666 \nL 1925 4666 \nQ 3281 4666 3915 4102 \nQ 4550 3538 4550 2338 \nQ 4550 1131 3912 565 \nQ 3275 0 1925 0 \nL 628 0 \nL 628 4666 \nz\n\" id=\"DejaVuSans-44\" transform=\"scale(0.015625)\"/>\n        <path d=\"M 3597 1894 \nL 3597 1613 \nL 953 1613 \nQ 991 1019 1311 708 \nQ 1631 397 2203 397 \nQ 2534 397 2845 478 \nQ 3156 559 3463 722 \nL 3463 178 \nQ 3153 47 2828 -22 \nQ 2503 -91 2169 -91 \nQ 1331 -91 842 396 \nQ 353 884 353 1716 \nQ 353 2575 817 3079 \nQ 1281 3584 2069 3584 \nQ 2775 3584 3186 3129 \nQ 3597 2675 3597 1894 \nz\nM 3022 2063 \nQ 3016 2534 2758 2815 \nQ 2500 3097 2075 3097 \nQ 1594 3097 1305 2825 \nQ 1016 2553 972 2059 \nL 3022 2063 \nz\n\" id=\"DejaVuSans-65\" transform=\"scale(0.015625)\"/>\n        <path d=\"M 3122 3366 \nL 3122 2828 \nQ 2878 2963 2633 3030 \nQ 2388 3097 2138 3097 \nQ 1578 3097 1268 2742 \nQ 959 2388 959 1747 \nQ 959 1106 1268 751 \nQ 1578 397 2138 397 \nQ 2388 397 2633 464 \nQ 2878 531 3122 666 \nL 3122 134 \nQ 2881 22 2623 -34 \nQ 2366 -91 2075 -91 \nQ 1284 -91 818 406 \nQ 353 903 353 1747 \nQ 353 2603 823 3093 \nQ 1294 3584 2113 3584 \nQ 2378 3584 2631 3529 \nQ 2884 3475 3122 3366 \nz\n\" id=\"DejaVuSans-63\" transform=\"scale(0.015625)\"/>\n       </defs>\n       <use xlink:href=\"#DejaVuSans-44\"/>\n       <use x=\"77.001953\" xlink:href=\"#DejaVuSans-65\"/>\n       <use x=\"138.525391\" xlink:href=\"#DejaVuSans-63\"/>\n      </g>\n     </g>\n    </g>\n    <g id=\"xtick_3\">\n     <g id=\"line2d_3\">\n      <g>\n       <use style=\"stroke:#000000;stroke-width:0.8;\" x=\"177.239041\" xlink:href=\"#m980c46c2eb\" y=\"224.64\"/>\n      </g>\n     </g>\n     <g id=\"text_2\">\n      <!-- Jan -->\n      <g transform=\"translate(169.531229 239.238437)scale(0.1 -0.1)\">\n       <defs>\n        <path d=\"M 628 4666 \nL 1259 4666 \nL 1259 325 \nQ 1259 -519 939 -900 \nQ 619 -1281 -91 -1281 \nL -331 -1281 \nL -331 -750 \nL -134 -750 \nQ 284 -750 456 -515 \nQ 628 -281 628 325 \nL 628 4666 \nz\n\" id=\"DejaVuSans-4a\" transform=\"scale(0.015625)\"/>\n        <path d=\"M 2194 1759 \nQ 1497 1759 1228 1600 \nQ 959 1441 959 1056 \nQ 959 750 1161 570 \nQ 1363 391 1709 391 \nQ 2188 391 2477 730 \nQ 2766 1069 2766 1631 \nL 2766 1759 \nL 2194 1759 \nz\nM 3341 1997 \nL 3341 0 \nL 2766 0 \nL 2766 531 \nQ 2569 213 2275 61 \nQ 1981 -91 1556 -91 \nQ 1019 -91 701 211 \nQ 384 513 384 1019 \nQ 384 1609 779 1909 \nQ 1175 2209 1959 2209 \nL 2766 2209 \nL 2766 2266 \nQ 2766 2663 2505 2880 \nQ 2244 3097 1772 3097 \nQ 1472 3097 1187 3025 \nQ 903 2953 641 2809 \nL 641 3341 \nQ 956 3463 1253 3523 \nQ 1550 3584 1831 3584 \nQ 2591 3584 2966 3190 \nQ 3341 2797 3341 1997 \nz\n\" id=\"DejaVuSans-61\" transform=\"scale(0.015625)\"/>\n        <path d=\"M 3513 2113 \nL 3513 0 \nL 2938 0 \nL 2938 2094 \nQ 2938 2591 2744 2837 \nQ 2550 3084 2163 3084 \nQ 1697 3084 1428 2787 \nQ 1159 2491 1159 1978 \nL 1159 0 \nL 581 0 \nL 581 3500 \nL 1159 3500 \nL 1159 2956 \nQ 1366 3272 1645 3428 \nQ 1925 3584 2291 3584 \nQ 2894 3584 3203 3211 \nQ 3513 2838 3513 2113 \nz\n\" id=\"DejaVuSans-6e\" transform=\"scale(0.015625)\"/>\n       </defs>\n       <use xlink:href=\"#DejaVuSans-4a\"/>\n       <use x=\"29.492188\" xlink:href=\"#DejaVuSans-61\"/>\n       <use x=\"90.771484\" xlink:href=\"#DejaVuSans-6e\"/>\n      </g>\n      <!-- 2021 -->\n      <g transform=\"translate(164.514041 250.43625)scale(0.1 -0.1)\">\n       <defs>\n        <path d=\"M 1228 531 \nL 3431 531 \nL 3431 0 \nL 469 0 \nL 469 531 \nQ 828 903 1448 1529 \nQ 2069 2156 2228 2338 \nQ 2531 2678 2651 2914 \nQ 2772 3150 2772 3378 \nQ 2772 3750 2511 3984 \nQ 2250 4219 1831 4219 \nQ 1534 4219 1204 4116 \nQ 875 4013 500 3803 \nL 500 4441 \nQ 881 4594 1212 4672 \nQ 1544 4750 1819 4750 \nQ 2544 4750 2975 4387 \nQ 3406 4025 3406 3419 \nQ 3406 3131 3298 2873 \nQ 3191 2616 2906 2266 \nQ 2828 2175 2409 1742 \nQ 1991 1309 1228 531 \nz\n\" id=\"DejaVuSans-32\" transform=\"scale(0.015625)\"/>\n        <path d=\"M 2034 4250 \nQ 1547 4250 1301 3770 \nQ 1056 3291 1056 2328 \nQ 1056 1369 1301 889 \nQ 1547 409 2034 409 \nQ 2525 409 2770 889 \nQ 3016 1369 3016 2328 \nQ 3016 3291 2770 3770 \nQ 2525 4250 2034 4250 \nz\nM 2034 4750 \nQ 2819 4750 3233 4129 \nQ 3647 3509 3647 2328 \nQ 3647 1150 3233 529 \nQ 2819 -91 2034 -91 \nQ 1250 -91 836 529 \nQ 422 1150 422 2328 \nQ 422 3509 836 4129 \nQ 1250 4750 2034 4750 \nz\n\" id=\"DejaVuSans-30\" transform=\"scale(0.015625)\"/>\n        <path d=\"M 794 531 \nL 1825 531 \nL 1825 4091 \nL 703 3866 \nL 703 4441 \nL 1819 4666 \nL 2450 4666 \nL 2450 531 \nL 3481 531 \nL 3481 0 \nL 794 0 \nL 794 531 \nz\n\" id=\"DejaVuSans-31\" transform=\"scale(0.015625)\"/>\n       </defs>\n       <use xlink:href=\"#DejaVuSans-32\"/>\n       <use x=\"63.623047\" xlink:href=\"#DejaVuSans-30\"/>\n       <use x=\"127.246094\" xlink:href=\"#DejaVuSans-32\"/>\n       <use x=\"190.869141\" xlink:href=\"#DejaVuSans-31\"/>\n      </g>\n     </g>\n    </g>\n    <g id=\"xtick_4\">\n     <g id=\"line2d_4\">\n      <g>\n       <use style=\"stroke:#000000;stroke-width:0.8;\" x=\"248.326712\" xlink:href=\"#m980c46c2eb\" y=\"224.64\"/>\n      </g>\n     </g>\n     <g id=\"text_3\">\n      <!-- Feb -->\n      <g transform=\"translate(239.47515 239.238437)scale(0.1 -0.1)\">\n       <defs>\n        <path d=\"M 628 4666 \nL 3309 4666 \nL 3309 4134 \nL 1259 4134 \nL 1259 2759 \nL 3109 2759 \nL 3109 2228 \nL 1259 2228 \nL 1259 0 \nL 628 0 \nL 628 4666 \nz\n\" id=\"DejaVuSans-46\" transform=\"scale(0.015625)\"/>\n        <path d=\"M 3116 1747 \nQ 3116 2381 2855 2742 \nQ 2594 3103 2138 3103 \nQ 1681 3103 1420 2742 \nQ 1159 2381 1159 1747 \nQ 1159 1113 1420 752 \nQ 1681 391 2138 391 \nQ 2594 391 2855 752 \nQ 3116 1113 3116 1747 \nz\nM 1159 2969 \nQ 1341 3281 1617 3432 \nQ 1894 3584 2278 3584 \nQ 2916 3584 3314 3078 \nQ 3713 2572 3713 1747 \nQ 3713 922 3314 415 \nQ 2916 -91 2278 -91 \nQ 1894 -91 1617 61 \nQ 1341 213 1159 525 \nL 1159 0 \nL 581 0 \nL 581 4863 \nL 1159 4863 \nL 1159 2969 \nz\n\" id=\"DejaVuSans-62\" transform=\"scale(0.015625)\"/>\n       </defs>\n       <use xlink:href=\"#DejaVuSans-46\"/>\n       <use x=\"52.019531\" xlink:href=\"#DejaVuSans-65\"/>\n       <use x=\"113.542969\" xlink:href=\"#DejaVuSans-62\"/>\n      </g>\n     </g>\n    </g>\n    <g id=\"xtick_5\">\n     <g id=\"line2d_5\">\n      <g>\n       <use style=\"stroke:#000000;stroke-width:0.8;\" x=\"312.534932\" xlink:href=\"#m980c46c2eb\" y=\"224.64\"/>\n      </g>\n     </g>\n     <g id=\"text_4\">\n      <!-- Mar -->\n      <g transform=\"translate(303.101338 239.238437)scale(0.1 -0.1)\">\n       <defs>\n        <path d=\"M 628 4666 \nL 1569 4666 \nL 2759 1491 \nL 3956 4666 \nL 4897 4666 \nL 4897 0 \nL 4281 0 \nL 4281 4097 \nL 3078 897 \nL 2444 897 \nL 1241 4097 \nL 1241 0 \nL 628 0 \nL 628 4666 \nz\n\" id=\"DejaVuSans-4d\" transform=\"scale(0.015625)\"/>\n        <path d=\"M 2631 2963 \nQ 2534 3019 2420 3045 \nQ 2306 3072 2169 3072 \nQ 1681 3072 1420 2755 \nQ 1159 2438 1159 1844 \nL 1159 0 \nL 581 0 \nL 581 3500 \nL 1159 3500 \nL 1159 2956 \nQ 1341 3275 1631 3429 \nQ 1922 3584 2338 3584 \nQ 2397 3584 2469 3576 \nQ 2541 3569 2628 3553 \nL 2631 2963 \nz\n\" id=\"DejaVuSans-72\" transform=\"scale(0.015625)\"/>\n       </defs>\n       <use xlink:href=\"#DejaVuSans-4d\"/>\n       <use x=\"86.279297\" xlink:href=\"#DejaVuSans-61\"/>\n       <use x=\"147.558594\" xlink:href=\"#DejaVuSans-72\"/>\n      </g>\n     </g>\n    </g>\n    <g id=\"xtick_6\">\n     <g id=\"line2d_6\">\n      <g>\n       <use style=\"stroke:#000000;stroke-width:0.8;\" x=\"374.45\" xlink:href=\"#m980c46c2eb\" y=\"224.64\"/>\n      </g>\n     </g>\n    </g>\n    <g id=\"xtick_7\">\n     <g id=\"line2d_7\">\n      <defs>\n       <path d=\"M 0 0 \nL 0 2 \n\" id=\"m6a19636631\" style=\"stroke:#000000;stroke-width:0.6;\"/>\n      </defs>\n      <g>\n       <use style=\"stroke:#000000;stroke-width:0.6;\" x=\"55.702055\" xlink:href=\"#m6a19636631\" y=\"224.64\"/>\n      </g>\n     </g>\n    </g>\n    <g id=\"xtick_8\">\n     <g id=\"line2d_8\">\n      <g>\n       <use style=\"stroke:#000000;stroke-width:0.6;\" x=\"71.75411\" xlink:href=\"#m6a19636631\" y=\"224.64\"/>\n      </g>\n     </g>\n    </g>\n    <g id=\"xtick_9\">\n     <g id=\"line2d_9\">\n      <g>\n       <use style=\"stroke:#000000;stroke-width:0.6;\" x=\"87.806164\" xlink:href=\"#m6a19636631\" y=\"224.64\"/>\n      </g>\n     </g>\n    </g>\n    <g id=\"xtick_10\">\n     <g id=\"line2d_10\">\n      <g>\n       <use style=\"stroke:#000000;stroke-width:0.6;\" x=\"103.858219\" xlink:href=\"#m6a19636631\" y=\"224.64\"/>\n      </g>\n     </g>\n    </g>\n    <g id=\"xtick_11\">\n     <g id=\"line2d_11\">\n      <g>\n       <use style=\"stroke:#000000;stroke-width:0.6;\" x=\"119.910274\" xlink:href=\"#m6a19636631\" y=\"224.64\"/>\n      </g>\n     </g>\n    </g>\n    <g id=\"xtick_12\">\n     <g id=\"line2d_12\">\n      <g>\n       <use style=\"stroke:#000000;stroke-width:0.6;\" x=\"135.962329\" xlink:href=\"#m6a19636631\" y=\"224.64\"/>\n      </g>\n     </g>\n    </g>\n    <g id=\"xtick_13\">\n     <g id=\"line2d_13\">\n      <g>\n       <use style=\"stroke:#000000;stroke-width:0.6;\" x=\"152.014384\" xlink:href=\"#m6a19636631\" y=\"224.64\"/>\n      </g>\n     </g>\n    </g>\n    <g id=\"xtick_14\">\n     <g id=\"line2d_14\">\n      <g>\n       <use style=\"stroke:#000000;stroke-width:0.6;\" x=\"168.066438\" xlink:href=\"#m6a19636631\" y=\"224.64\"/>\n      </g>\n     </g>\n    </g>\n    <g id=\"xtick_15\">\n     <g id=\"line2d_15\">\n      <g>\n       <use style=\"stroke:#000000;stroke-width:0.6;\" x=\"184.118493\" xlink:href=\"#m6a19636631\" y=\"224.64\"/>\n      </g>\n     </g>\n    </g>\n    <g id=\"xtick_16\">\n     <g id=\"line2d_16\">\n      <g>\n       <use style=\"stroke:#000000;stroke-width:0.6;\" x=\"200.170548\" xlink:href=\"#m6a19636631\" y=\"224.64\"/>\n      </g>\n     </g>\n    </g>\n    <g id=\"xtick_17\">\n     <g id=\"line2d_17\">\n      <g>\n       <use style=\"stroke:#000000;stroke-width:0.6;\" x=\"216.222603\" xlink:href=\"#m6a19636631\" y=\"224.64\"/>\n      </g>\n     </g>\n    </g>\n    <g id=\"xtick_18\">\n     <g id=\"line2d_18\">\n      <g>\n       <use style=\"stroke:#000000;stroke-width:0.6;\" x=\"232.274658\" xlink:href=\"#m6a19636631\" y=\"224.64\"/>\n      </g>\n     </g>\n    </g>\n    <g id=\"xtick_19\">\n     <g id=\"line2d_19\">\n      <g>\n       <use style=\"stroke:#000000;stroke-width:0.6;\" x=\"264.378767\" xlink:href=\"#m6a19636631\" y=\"224.64\"/>\n      </g>\n     </g>\n    </g>\n    <g id=\"xtick_20\">\n     <g id=\"line2d_20\">\n      <g>\n       <use style=\"stroke:#000000;stroke-width:0.6;\" x=\"280.430822\" xlink:href=\"#m6a19636631\" y=\"224.64\"/>\n      </g>\n     </g>\n    </g>\n    <g id=\"xtick_21\">\n     <g id=\"line2d_21\">\n      <g>\n       <use style=\"stroke:#000000;stroke-width:0.6;\" x=\"296.482877\" xlink:href=\"#m6a19636631\" y=\"224.64\"/>\n      </g>\n     </g>\n    </g>\n    <g id=\"xtick_22\">\n     <g id=\"line2d_22\">\n      <g>\n       <use style=\"stroke:#000000;stroke-width:0.6;\" x=\"328.586986\" xlink:href=\"#m6a19636631\" y=\"224.64\"/>\n      </g>\n     </g>\n    </g>\n    <g id=\"xtick_23\">\n     <g id=\"line2d_23\">\n      <g>\n       <use style=\"stroke:#000000;stroke-width:0.6;\" x=\"344.639041\" xlink:href=\"#m6a19636631\" y=\"224.64\"/>\n      </g>\n     </g>\n    </g>\n    <g id=\"xtick_24\">\n     <g id=\"line2d_24\">\n      <g>\n       <use style=\"stroke:#000000;stroke-width:0.6;\" x=\"360.691096\" xlink:href=\"#m6a19636631\" y=\"224.64\"/>\n      </g>\n     </g>\n    </g>\n    <g id=\"text_5\">\n     <!-- date -->\n     <g transform=\"translate(195.775 264.114375)scale(0.1 -0.1)\">\n      <defs>\n       <path d=\"M 2906 2969 \nL 2906 4863 \nL 3481 4863 \nL 3481 0 \nL 2906 0 \nL 2906 525 \nQ 2725 213 2448 61 \nQ 2172 -91 1784 -91 \nQ 1150 -91 751 415 \nQ 353 922 353 1747 \nQ 353 2572 751 3078 \nQ 1150 3584 1784 3584 \nQ 2172 3584 2448 3432 \nQ 2725 3281 2906 2969 \nz\nM 947 1747 \nQ 947 1113 1208 752 \nQ 1469 391 1925 391 \nQ 2381 391 2643 752 \nQ 2906 1113 2906 1747 \nQ 2906 2381 2643 2742 \nQ 2381 3103 1925 3103 \nQ 1469 3103 1208 2742 \nQ 947 2381 947 1747 \nz\n\" id=\"DejaVuSans-64\" transform=\"scale(0.015625)\"/>\n       <path d=\"M 1172 4494 \nL 1172 3500 \nL 2356 3500 \nL 2356 3053 \nL 1172 3053 \nL 1172 1153 \nQ 1172 725 1289 603 \nQ 1406 481 1766 481 \nL 2356 481 \nL 2356 0 \nL 1766 0 \nQ 1100 0 847 248 \nQ 594 497 594 1153 \nL 594 3053 \nL 172 3053 \nL 172 3500 \nL 594 3500 \nL 594 4494 \nL 1172 4494 \nz\n\" id=\"DejaVuSans-74\" transform=\"scale(0.015625)\"/>\n      </defs>\n      <use xlink:href=\"#DejaVuSans-64\"/>\n      <use x=\"63.476562\" xlink:href=\"#DejaVuSans-61\"/>\n      <use x=\"124.755859\" xlink:href=\"#DejaVuSans-74\"/>\n      <use x=\"163.964844\" xlink:href=\"#DejaVuSans-65\"/>\n     </g>\n    </g>\n   </g>\n   <g id=\"matplotlib.axis_2\">\n    <g id=\"ytick_1\">\n     <g id=\"line2d_25\">\n      <defs>\n       <path d=\"M 0 0 \nL -3.5 0 \n\" id=\"mb72feae004\" style=\"stroke:#000000;stroke-width:0.8;\"/>\n      </defs>\n      <g>\n       <use style=\"stroke:#000000;stroke-width:0.8;\" x=\"39.65\" xlink:href=\"#mb72feae004\" y=\"214.85022\"/>\n      </g>\n     </g>\n     <g id=\"text_6\">\n      <!-- 1000 -->\n      <g transform=\"translate(7.2 218.649439)scale(0.1 -0.1)\">\n       <use xlink:href=\"#DejaVuSans-31\"/>\n       <use x=\"63.623047\" xlink:href=\"#DejaVuSans-30\"/>\n       <use x=\"127.246094\" xlink:href=\"#DejaVuSans-30\"/>\n       <use x=\"190.869141\" xlink:href=\"#DejaVuSans-30\"/>\n      </g>\n     </g>\n    </g>\n    <g id=\"ytick_2\">\n     <g id=\"line2d_26\">\n      <g>\n       <use style=\"stroke:#000000;stroke-width:0.8;\" x=\"39.65\" xlink:href=\"#mb72feae004\" y=\"188.650465\"/>\n      </g>\n     </g>\n     <g id=\"text_7\">\n      <!-- 2000 -->\n      <g transform=\"translate(7.2 192.449684)scale(0.1 -0.1)\">\n       <use xlink:href=\"#DejaVuSans-32\"/>\n       <use x=\"63.623047\" xlink:href=\"#DejaVuSans-30\"/>\n       <use x=\"127.246094\" xlink:href=\"#DejaVuSans-30\"/>\n       <use x=\"190.869141\" xlink:href=\"#DejaVuSans-30\"/>\n      </g>\n     </g>\n    </g>\n    <g id=\"ytick_3\">\n     <g id=\"line2d_27\">\n      <g>\n       <use style=\"stroke:#000000;stroke-width:0.8;\" x=\"39.65\" xlink:href=\"#mb72feae004\" y=\"162.450711\"/>\n      </g>\n     </g>\n     <g id=\"text_8\">\n      <!-- 3000 -->\n      <g transform=\"translate(7.2 166.24993)scale(0.1 -0.1)\">\n       <defs>\n        <path d=\"M 2597 2516 \nQ 3050 2419 3304 2112 \nQ 3559 1806 3559 1356 \nQ 3559 666 3084 287 \nQ 2609 -91 1734 -91 \nQ 1441 -91 1130 -33 \nQ 819 25 488 141 \nL 488 750 \nQ 750 597 1062 519 \nQ 1375 441 1716 441 \nQ 2309 441 2620 675 \nQ 2931 909 2931 1356 \nQ 2931 1769 2642 2001 \nQ 2353 2234 1838 2234 \nL 1294 2234 \nL 1294 2753 \nL 1863 2753 \nQ 2328 2753 2575 2939 \nQ 2822 3125 2822 3475 \nQ 2822 3834 2567 4026 \nQ 2313 4219 1838 4219 \nQ 1578 4219 1281 4162 \nQ 984 4106 628 3988 \nL 628 4550 \nQ 988 4650 1302 4700 \nQ 1616 4750 1894 4750 \nQ 2613 4750 3031 4423 \nQ 3450 4097 3450 3541 \nQ 3450 3153 3228 2886 \nQ 3006 2619 2597 2516 \nz\n\" id=\"DejaVuSans-33\" transform=\"scale(0.015625)\"/>\n       </defs>\n       <use xlink:href=\"#DejaVuSans-33\"/>\n       <use x=\"63.623047\" xlink:href=\"#DejaVuSans-30\"/>\n       <use x=\"127.246094\" xlink:href=\"#DejaVuSans-30\"/>\n       <use x=\"190.869141\" xlink:href=\"#DejaVuSans-30\"/>\n      </g>\n     </g>\n    </g>\n    <g id=\"ytick_4\">\n     <g id=\"line2d_28\">\n      <g>\n       <use style=\"stroke:#000000;stroke-width:0.8;\" x=\"39.65\" xlink:href=\"#mb72feae004\" y=\"136.250956\"/>\n      </g>\n     </g>\n     <g id=\"text_9\">\n      <!-- 4000 -->\n      <g transform=\"translate(7.2 140.050175)scale(0.1 -0.1)\">\n       <defs>\n        <path d=\"M 2419 4116 \nL 825 1625 \nL 2419 1625 \nL 2419 4116 \nz\nM 2253 4666 \nL 3047 4666 \nL 3047 1625 \nL 3713 1625 \nL 3713 1100 \nL 3047 1100 \nL 3047 0 \nL 2419 0 \nL 2419 1100 \nL 313 1100 \nL 313 1709 \nL 2253 4666 \nz\n\" id=\"DejaVuSans-34\" transform=\"scale(0.015625)\"/>\n       </defs>\n       <use xlink:href=\"#DejaVuSans-34\"/>\n       <use x=\"63.623047\" xlink:href=\"#DejaVuSans-30\"/>\n       <use x=\"127.246094\" xlink:href=\"#DejaVuSans-30\"/>\n       <use x=\"190.869141\" xlink:href=\"#DejaVuSans-30\"/>\n      </g>\n     </g>\n    </g>\n    <g id=\"ytick_5\">\n     <g id=\"line2d_29\">\n      <g>\n       <use style=\"stroke:#000000;stroke-width:0.8;\" x=\"39.65\" xlink:href=\"#mb72feae004\" y=\"110.051202\"/>\n      </g>\n     </g>\n     <g id=\"text_10\">\n      <!-- 5000 -->\n      <g transform=\"translate(7.2 113.850421)scale(0.1 -0.1)\">\n       <defs>\n        <path d=\"M 691 4666 \nL 3169 4666 \nL 3169 4134 \nL 1269 4134 \nL 1269 2991 \nQ 1406 3038 1543 3061 \nQ 1681 3084 1819 3084 \nQ 2600 3084 3056 2656 \nQ 3513 2228 3513 1497 \nQ 3513 744 3044 326 \nQ 2575 -91 1722 -91 \nQ 1428 -91 1123 -41 \nQ 819 9 494 109 \nL 494 744 \nQ 775 591 1075 516 \nQ 1375 441 1709 441 \nQ 2250 441 2565 725 \nQ 2881 1009 2881 1497 \nQ 2881 1984 2565 2268 \nQ 2250 2553 1709 2553 \nQ 1456 2553 1204 2497 \nQ 953 2441 691 2322 \nL 691 4666 \nz\n\" id=\"DejaVuSans-35\" transform=\"scale(0.015625)\"/>\n       </defs>\n       <use xlink:href=\"#DejaVuSans-35\"/>\n       <use x=\"63.623047\" xlink:href=\"#DejaVuSans-30\"/>\n       <use x=\"127.246094\" xlink:href=\"#DejaVuSans-30\"/>\n       <use x=\"190.869141\" xlink:href=\"#DejaVuSans-30\"/>\n      </g>\n     </g>\n    </g>\n    <g id=\"ytick_6\">\n     <g id=\"line2d_30\">\n      <g>\n       <use style=\"stroke:#000000;stroke-width:0.8;\" x=\"39.65\" xlink:href=\"#mb72feae004\" y=\"83.851447\"/>\n      </g>\n     </g>\n     <g id=\"text_11\">\n      <!-- 6000 -->\n      <g transform=\"translate(7.2 87.650666)scale(0.1 -0.1)\">\n       <defs>\n        <path d=\"M 2113 2584 \nQ 1688 2584 1439 2293 \nQ 1191 2003 1191 1497 \nQ 1191 994 1439 701 \nQ 1688 409 2113 409 \nQ 2538 409 2786 701 \nQ 3034 994 3034 1497 \nQ 3034 2003 2786 2293 \nQ 2538 2584 2113 2584 \nz\nM 3366 4563 \nL 3366 3988 \nQ 3128 4100 2886 4159 \nQ 2644 4219 2406 4219 \nQ 1781 4219 1451 3797 \nQ 1122 3375 1075 2522 \nQ 1259 2794 1537 2939 \nQ 1816 3084 2150 3084 \nQ 2853 3084 3261 2657 \nQ 3669 2231 3669 1497 \nQ 3669 778 3244 343 \nQ 2819 -91 2113 -91 \nQ 1303 -91 875 529 \nQ 447 1150 447 2328 \nQ 447 3434 972 4092 \nQ 1497 4750 2381 4750 \nQ 2619 4750 2861 4703 \nQ 3103 4656 3366 4563 \nz\n\" id=\"DejaVuSans-36\" transform=\"scale(0.015625)\"/>\n       </defs>\n       <use xlink:href=\"#DejaVuSans-36\"/>\n       <use x=\"63.623047\" xlink:href=\"#DejaVuSans-30\"/>\n       <use x=\"127.246094\" xlink:href=\"#DejaVuSans-30\"/>\n       <use x=\"190.869141\" xlink:href=\"#DejaVuSans-30\"/>\n      </g>\n     </g>\n    </g>\n    <g id=\"ytick_7\">\n     <g id=\"line2d_31\">\n      <g>\n       <use style=\"stroke:#000000;stroke-width:0.8;\" x=\"39.65\" xlink:href=\"#mb72feae004\" y=\"57.651693\"/>\n      </g>\n     </g>\n     <g id=\"text_12\">\n      <!-- 7000 -->\n      <g transform=\"translate(7.2 61.450912)scale(0.1 -0.1)\">\n       <defs>\n        <path d=\"M 525 4666 \nL 3525 4666 \nL 3525 4397 \nL 1831 0 \nL 1172 0 \nL 2766 4134 \nL 525 4134 \nL 525 4666 \nz\n\" id=\"DejaVuSans-37\" transform=\"scale(0.015625)\"/>\n       </defs>\n       <use xlink:href=\"#DejaVuSans-37\"/>\n       <use x=\"63.623047\" xlink:href=\"#DejaVuSans-30\"/>\n       <use x=\"127.246094\" xlink:href=\"#DejaVuSans-30\"/>\n       <use x=\"190.869141\" xlink:href=\"#DejaVuSans-30\"/>\n      </g>\n     </g>\n    </g>\n    <g id=\"ytick_8\">\n     <g id=\"line2d_32\">\n      <g>\n       <use style=\"stroke:#000000;stroke-width:0.8;\" x=\"39.65\" xlink:href=\"#mb72feae004\" y=\"31.451938\"/>\n      </g>\n     </g>\n     <g id=\"text_13\">\n      <!-- 8000 -->\n      <g transform=\"translate(7.2 35.251157)scale(0.1 -0.1)\">\n       <defs>\n        <path d=\"M 2034 2216 \nQ 1584 2216 1326 1975 \nQ 1069 1734 1069 1313 \nQ 1069 891 1326 650 \nQ 1584 409 2034 409 \nQ 2484 409 2743 651 \nQ 3003 894 3003 1313 \nQ 3003 1734 2745 1975 \nQ 2488 2216 2034 2216 \nz\nM 1403 2484 \nQ 997 2584 770 2862 \nQ 544 3141 544 3541 \nQ 544 4100 942 4425 \nQ 1341 4750 2034 4750 \nQ 2731 4750 3128 4425 \nQ 3525 4100 3525 3541 \nQ 3525 3141 3298 2862 \nQ 3072 2584 2669 2484 \nQ 3125 2378 3379 2068 \nQ 3634 1759 3634 1313 \nQ 3634 634 3220 271 \nQ 2806 -91 2034 -91 \nQ 1263 -91 848 271 \nQ 434 634 434 1313 \nQ 434 1759 690 2068 \nQ 947 2378 1403 2484 \nz\nM 1172 3481 \nQ 1172 3119 1398 2916 \nQ 1625 2713 2034 2713 \nQ 2441 2713 2670 2916 \nQ 2900 3119 2900 3481 \nQ 2900 3844 2670 4047 \nQ 2441 4250 2034 4250 \nQ 1625 4250 1398 4047 \nQ 1172 3844 1172 3481 \nz\n\" id=\"DejaVuSans-38\" transform=\"scale(0.015625)\"/>\n       </defs>\n       <use xlink:href=\"#DejaVuSans-38\"/>\n       <use x=\"63.623047\" xlink:href=\"#DejaVuSans-30\"/>\n       <use x=\"127.246094\" xlink:href=\"#DejaVuSans-30\"/>\n       <use x=\"190.869141\" xlink:href=\"#DejaVuSans-30\"/>\n      </g>\n     </g>\n    </g>\n   </g>\n   <g id=\"line2d_33\">\n    <path clip-path=\"url(#p922b398341)\" d=\"M 39.65 150.708428 \nL 53.408904 127.343835 \nL 62.581507 112.345837 \nL 64.874658 108.344421 \nL 67.167808 103.997551 \nL 69.460959 101.516813 \nL 71.75411 99.92854 \nL 74.04726 99.253601 \nL 76.340411 99.341444 \nL 78.633562 99.82815 \nL 80.926712 100.134904 \nL 83.219863 99.94898 \nL 87.806164 98.956132 \nL 90.099315 98.314408 \nL 92.392466 97.396443 \nL 94.685616 95.861355 \nL 96.978767 93.500564 \nL 99.271918 90.2334 \nL 101.565068 85.688423 \nL 103.858219 79.715255 \nL 106.15137 72.703734 \nL 113.030822 50.796571 \nL 115.323973 43.609282 \nL 117.617123 36.855684 \nL 119.910274 30.916574 \nL 122.203425 25.851894 \nL 124.496575 21.680545 \nL 126.789726 18.646421 \nL 129.082877 17.083636 \nL 131.376027 17.149953 \nL 133.669178 18.730726 \nL 135.962329 21.495877 \nL 138.255479 25.526021 \nL 140.54863 30.879245 \nL 142.841781 37.204995 \nL 147.428082 51.601934 \nL 152.014384 66.072762 \nL 154.307534 72.887664 \nL 156.600685 79.127469 \nL 158.893836 84.674578 \nL 161.186986 89.39302 \nL 163.480137 93.110403 \nL 165.773288 95.754408 \nL 168.066438 97.380049 \nL 170.359589 98.03943 \nL 172.65274 97.910475 \nL 174.94589 97.172737 \nL 177.239041 95.822358 \nL 179.532192 93.860125 \nL 181.825342 91.482628 \nL 188.704795 83.950923 \nL 190.997945 81.708857 \nL 193.291096 79.701306 \nL 195.584247 77.97482 \nL 197.877397 76.579139 \nL 200.170548 75.527181 \nL 202.463699 74.790097 \nL 204.756849 74.337328 \nL 211.636301 73.719142 \nL 213.929452 73.311063 \nL 216.222603 72.759258 \nL 220.808904 71.333582 \nL 223.102055 70.816115 \nL 227.688356 70.030033 \nL 232.274658 69.230833 \nL 234.567808 69.062931 \nL 236.860959 69.274464 \nL 239.15411 70.018728 \nL 241.44726 71.208742 \nL 243.740411 72.638798 \nL 246.033562 74.218565 \nL 248.326712 75.974543 \nL 250.619863 77.901703 \nL 252.913014 80.131616 \nL 255.206164 82.811958 \nL 264.378767 94.860193 \nL 266.671918 97.252321 \nL 268.965068 99.332432 \nL 271.258219 101.222858 \nL 273.55137 102.803543 \nL 275.844521 103.893482 \nL 278.137671 104.417736 \nL 280.430822 104.364342 \nL 282.723973 103.725487 \nL 285.017123 102.650753 \nL 287.310274 101.279049 \nL 289.603425 99.507043 \nL 291.896575 97.200765 \nL 296.482877 91.623497 \nL 298.776027 88.786662 \nL 301.069178 86.191188 \nL 303.362329 84.030028 \nL 305.655479 82.290754 \nL 307.94863 80.946443 \nL 310.241781 79.968931 \nL 314.828082 78.562887 \nL 317.121233 78.144962 \nL 319.414384 78.168101 \nL 321.707534 78.659101 \nL 324.000685 79.521954 \nL 328.586986 81.873504 \nL 330.880137 83.026583 \nL 333.173288 83.987019 \nL 335.466438 84.671555 \nL 337.759589 84.890493 \nL 340.05274 84.639474 \nL 344.639041 83.627457 \nL 349.225342 82.414189 \nL 353.811644 80.808996 \nL 358.397945 78.924167 \nL 374.45 71.931065 \nL 374.45 71.931065 \n\" style=\"fill:none;stroke:#008000;stroke-linecap:square;stroke-width:1.5;\"/>\n   </g>\n   <g id=\"line2d_34\">\n    <path clip-path=\"url(#p922b398341)\" d=\"M 39.65 214.756364 \nL 48.822603 197.168875 \nL 55.702055 184.554261 \nL 64.874658 168.129419 \nL 67.167808 163.776609 \nL 69.460959 161.075445 \nL 71.75411 159.002622 \nL 74.04726 157.588246 \nL 76.340411 156.745051 \nL 78.633562 156.326539 \nL 83.219863 156.014561 \nL 87.806164 155.750363 \nL 90.099315 155.162821 \nL 92.392466 153.939334 \nL 94.685616 152.069642 \nL 96.978767 149.574568 \nL 99.271918 146.53776 \nL 101.565068 142.946355 \nL 103.858219 138.812957 \nL 106.15137 134.226726 \nL 110.737671 124.186995 \nL 119.910274 102.697533 \nL 122.203425 98.305717 \nL 124.496575 94.776501 \nL 126.789726 92.347657 \nL 129.082877 90.9349 \nL 131.376027 90.355074 \nL 133.669178 90.387479 \nL 135.962329 90.906012 \nL 138.255479 92.062292 \nL 140.54863 94.064261 \nL 142.841781 96.880664 \nL 152.014384 110.066742 \nL 156.600685 115.854385 \nL 158.893836 118.573156 \nL 161.186986 121.013214 \nL 163.480137 122.894386 \nL 165.773288 124.007738 \nL 168.066438 124.344651 \nL 170.359589 124.068463 \nL 172.65274 123.462623 \nL 174.94589 122.54834 \nL 177.239041 121.18236 \nL 179.532192 119.354427 \nL 190.997945 109.086677 \nL 193.291096 107.246873 \nL 195.584247 105.599272 \nL 197.877397 104.335994 \nL 200.170548 103.603701 \nL 202.463699 103.338365 \nL 204.756849 103.442069 \nL 207.05 103.857917 \nL 218.515753 106.750806 \nL 220.808904 107.560266 \nL 227.688356 110.683565 \nL 229.981507 111.395488 \nL 232.274658 111.862635 \nL 236.860959 112.354964 \nL 239.15411 112.771941 \nL 241.44726 113.397301 \nL 246.033562 115.01248 \nL 250.619863 117.158808 \nL 252.913014 118.425586 \nL 257.499315 121.529108 \nL 264.378767 126.2734 \nL 271.258219 130.610778 \nL 273.55137 131.846678 \nL 275.844521 132.694568 \nL 278.137671 133.066236 \nL 280.430822 132.946121 \nL 282.723973 132.375851 \nL 285.017123 131.526278 \nL 287.310274 130.551423 \nL 289.603425 129.410845 \nL 291.896575 127.942366 \nL 294.189726 126.116206 \nL 296.482877 123.994383 \nL 301.069178 119.377001 \nL 303.362329 117.259971 \nL 305.655479 115.358044 \nL 307.94863 113.65721 \nL 310.241781 112.161596 \nL 314.828082 109.614583 \nL 317.121233 108.63599 \nL 319.414384 108.039246 \nL 321.707534 107.840354 \nL 324.000685 107.983502 \nL 326.293836 108.443291 \nL 328.586986 109.192199 \nL 333.173288 111.244398 \nL 335.466438 112.272502 \nL 337.759589 113.082502 \nL 340.05274 113.642225 \nL 344.639041 114.379912 \nL 346.932192 114.605429 \nL 349.225342 114.339282 \nL 353.811644 113.309153 \nL 358.397945 111.95209 \nL 365.277397 109.60612 \nL 372.156849 106.973469 \nL 374.45 106.012231 \nL 374.45 106.012231 \n\" style=\"fill:none;stroke:#000000;stroke-linecap:square;stroke-width:1.5;\"/>\n   </g>\n   <g id=\"line2d_35\">\n    <path clip-path=\"url(#p922b398341)\" d=\"M 39.65 214.726275 \nL 48.822603 197.364689 \nL 55.702055 184.933335 \nL 64.874658 168.720798 \nL 67.167808 164.277871 \nL 69.460959 161.450672 \nL 71.75411 159.491594 \nL 74.04726 158.493469 \nL 76.340411 158.351461 \nL 78.633562 158.804247 \nL 80.926712 159.464569 \nL 83.219863 159.978613 \nL 85.513014 160.230423 \nL 87.806164 160.127397 \nL 90.099315 159.571928 \nL 92.392466 158.642412 \nL 94.685616 157.500753 \nL 96.978767 156.107559 \nL 99.271918 154.327916 \nL 101.565068 152.092297 \nL 103.858219 149.24763 \nL 106.15137 145.678225 \nL 108.444521 141.501 \nL 115.323973 128.311922 \nL 117.617123 124.667265 \nL 119.910274 121.629694 \nL 122.203425 119.06596 \nL 124.496575 116.916135 \nL 126.789726 115.169925 \nL 129.082877 113.783591 \nL 131.376027 112.719849 \nL 133.669178 111.942939 \nL 135.962329 111.384506 \nL 138.255479 111.203502 \nL 140.54863 111.64453 \nL 142.841781 112.727688 \nL 145.134932 114.254326 \nL 147.428082 115.944501 \nL 149.721233 117.406462 \nL 152.014384 118.499367 \nL 158.893836 121.173512 \nL 163.480137 123.110481 \nL 168.066438 124.605981 \nL 172.65274 125.702038 \nL 174.94589 126.031803 \nL 179.532192 126.484009 \nL 181.825342 126.870461 \nL 188.704795 128.31831 \nL 193.291096 129.044844 \nL 195.584247 129.249143 \nL 197.877397 129.244874 \nL 200.170548 129.01345 \nL 202.463699 128.575106 \nL 204.756849 127.982138 \nL 209.343151 126.466301 \nL 211.636301 125.539583 \nL 216.222603 123.363955 \nL 220.808904 121.218948 \nL 223.102055 120.402797 \nL 225.395205 119.810791 \nL 227.688356 119.443446 \nL 229.981507 119.375288 \nL 232.274658 119.641649 \nL 234.567808 120.19623 \nL 236.860959 121.01853 \nL 239.15411 122.157951 \nL 241.44726 123.611543 \nL 243.740411 125.329788 \nL 246.033562 127.289928 \nL 250.619863 131.790943 \nL 252.913014 134.291575 \nL 259.792466 142.343238 \nL 262.085616 144.576324 \nL 264.378767 146.386327 \nL 266.671918 147.772095 \nL 268.965068 148.835141 \nL 271.258219 149.67597 \nL 273.55137 150.295055 \nL 275.844521 150.647814 \nL 278.137671 150.718282 \nL 280.430822 150.543583 \nL 282.723973 150.169211 \nL 287.310274 149.120738 \nL 291.896575 147.699068 \nL 294.189726 146.952359 \nL 296.482877 146.332814 \nL 298.776027 145.849285 \nL 301.069178 145.510665 \nL 303.362329 145.331546 \nL 307.94863 145.298517 \nL 312.534932 145.436053 \nL 317.121233 145.32202 \nL 321.707534 145.06046 \nL 326.293836 144.552857 \nL 330.880137 143.828012 \nL 333.173288 143.349559 \nL 335.466438 142.749749 \nL 337.759589 141.95748 \nL 342.34589 139.877655 \nL 351.518493 135.490569 \nL 362.984247 130.016326 \nL 374.45 124.545643 \nL 374.45 124.545643 \n\" style=\"fill:none;stroke:#ff0000;stroke-linecap:square;stroke-width:1.5;\"/>\n   </g>\n   <g id=\"patch_3\">\n    <path d=\"M 39.65 224.64 \nL 39.65 7.2 \n\" style=\"fill:none;stroke:#000000;stroke-linecap:square;stroke-linejoin:miter;stroke-width:0.8;\"/>\n   </g>\n   <g id=\"patch_4\">\n    <path d=\"M 374.45 224.64 \nL 374.45 7.2 \n\" style=\"fill:none;stroke:#000000;stroke-linecap:square;stroke-linejoin:miter;stroke-width:0.8;\"/>\n   </g>\n   <g id=\"patch_5\">\n    <path d=\"M 39.65 224.64 \nL 374.45 224.64 \n\" style=\"fill:none;stroke:#000000;stroke-linecap:square;stroke-linejoin:miter;stroke-width:0.8;\"/>\n   </g>\n   <g id=\"patch_6\">\n    <path d=\"M 39.65 7.2 \nL 374.45 7.2 \n\" style=\"fill:none;stroke:#000000;stroke-linecap:square;stroke-linejoin:miter;stroke-width:0.8;\"/>\n   </g>\n   <g id=\"legend_1\">\n    <g id=\"patch_7\">\n     <path d=\"M 290.56875 59.234375 \nL 367.45 59.234375 \nQ 369.45 59.234375 369.45 57.234375 \nL 369.45 14.2 \nQ 369.45 12.2 367.45 12.2 \nL 290.56875 12.2 \nQ 288.56875 12.2 288.56875 14.2 \nL 288.56875 57.234375 \nQ 288.56875 59.234375 290.56875 59.234375 \nz\n\" style=\"fill:#ffffff;opacity:0.8;stroke:#cccccc;stroke-linejoin:miter;\"/>\n    </g>\n    <g id=\"line2d_36\">\n     <path d=\"M 292.56875 20.298438 \nL 312.56875 20.298438 \n\" style=\"fill:none;stroke:#008000;stroke-linecap:square;stroke-width:1.5;\"/>\n    </g>\n    <g id=\"line2d_37\"/>\n    <g id=\"text_14\">\n     <!-- Positive -->\n     <g transform=\"translate(320.56875 23.798438)scale(0.1 -0.1)\">\n      <defs>\n       <path d=\"M 1259 4147 \nL 1259 2394 \nL 2053 2394 \nQ 2494 2394 2734 2622 \nQ 2975 2850 2975 3272 \nQ 2975 3691 2734 3919 \nQ 2494 4147 2053 4147 \nL 1259 4147 \nz\nM 628 4666 \nL 2053 4666 \nQ 2838 4666 3239 4311 \nQ 3641 3956 3641 3272 \nQ 3641 2581 3239 2228 \nQ 2838 1875 2053 1875 \nL 1259 1875 \nL 1259 0 \nL 628 0 \nL 628 4666 \nz\n\" id=\"DejaVuSans-50\" transform=\"scale(0.015625)\"/>\n       <path d=\"M 1959 3097 \nQ 1497 3097 1228 2736 \nQ 959 2375 959 1747 \nQ 959 1119 1226 758 \nQ 1494 397 1959 397 \nQ 2419 397 2687 759 \nQ 2956 1122 2956 1747 \nQ 2956 2369 2687 2733 \nQ 2419 3097 1959 3097 \nz\nM 1959 3584 \nQ 2709 3584 3137 3096 \nQ 3566 2609 3566 1747 \nQ 3566 888 3137 398 \nQ 2709 -91 1959 -91 \nQ 1206 -91 779 398 \nQ 353 888 353 1747 \nQ 353 2609 779 3096 \nQ 1206 3584 1959 3584 \nz\n\" id=\"DejaVuSans-6f\" transform=\"scale(0.015625)\"/>\n       <path d=\"M 2834 3397 \nL 2834 2853 \nQ 2591 2978 2328 3040 \nQ 2066 3103 1784 3103 \nQ 1356 3103 1142 2972 \nQ 928 2841 928 2578 \nQ 928 2378 1081 2264 \nQ 1234 2150 1697 2047 \nL 1894 2003 \nQ 2506 1872 2764 1633 \nQ 3022 1394 3022 966 \nQ 3022 478 2636 193 \nQ 2250 -91 1575 -91 \nQ 1294 -91 989 -36 \nQ 684 19 347 128 \nL 347 722 \nQ 666 556 975 473 \nQ 1284 391 1588 391 \nQ 1994 391 2212 530 \nQ 2431 669 2431 922 \nQ 2431 1156 2273 1281 \nQ 2116 1406 1581 1522 \nL 1381 1569 \nQ 847 1681 609 1914 \nQ 372 2147 372 2553 \nQ 372 3047 722 3315 \nQ 1072 3584 1716 3584 \nQ 2034 3584 2315 3537 \nQ 2597 3491 2834 3397 \nz\n\" id=\"DejaVuSans-73\" transform=\"scale(0.015625)\"/>\n       <path d=\"M 603 3500 \nL 1178 3500 \nL 1178 0 \nL 603 0 \nL 603 3500 \nz\nM 603 4863 \nL 1178 4863 \nL 1178 4134 \nL 603 4134 \nL 603 4863 \nz\n\" id=\"DejaVuSans-69\" transform=\"scale(0.015625)\"/>\n       <path d=\"M 191 3500 \nL 800 3500 \nL 1894 563 \nL 2988 3500 \nL 3597 3500 \nL 2284 0 \nL 1503 0 \nL 191 3500 \nz\n\" id=\"DejaVuSans-76\" transform=\"scale(0.015625)\"/>\n      </defs>\n      <use xlink:href=\"#DejaVuSans-50\"/>\n      <use x=\"56.677734\" xlink:href=\"#DejaVuSans-6f\"/>\n      <use x=\"117.859375\" xlink:href=\"#DejaVuSans-73\"/>\n      <use x=\"169.958984\" xlink:href=\"#DejaVuSans-69\"/>\n      <use x=\"197.742188\" xlink:href=\"#DejaVuSans-74\"/>\n      <use x=\"236.951172\" xlink:href=\"#DejaVuSans-69\"/>\n      <use x=\"264.734375\" xlink:href=\"#DejaVuSans-76\"/>\n      <use x=\"323.914062\" xlink:href=\"#DejaVuSans-65\"/>\n     </g>\n    </g>\n    <g id=\"line2d_38\">\n     <path d=\"M 292.56875 34.976562 \nL 312.56875 34.976562 \n\" style=\"fill:none;stroke:#000000;stroke-linecap:square;stroke-width:1.5;\"/>\n    </g>\n    <g id=\"line2d_39\"/>\n    <g id=\"text_15\">\n     <!-- Neutral -->\n     <g transform=\"translate(320.56875 38.476562)scale(0.1 -0.1)\">\n      <defs>\n       <path d=\"M 628 4666 \nL 1478 4666 \nL 3547 763 \nL 3547 4666 \nL 4159 4666 \nL 4159 0 \nL 3309 0 \nL 1241 3903 \nL 1241 0 \nL 628 0 \nL 628 4666 \nz\n\" id=\"DejaVuSans-4e\" transform=\"scale(0.015625)\"/>\n       <path d=\"M 544 1381 \nL 544 3500 \nL 1119 3500 \nL 1119 1403 \nQ 1119 906 1312 657 \nQ 1506 409 1894 409 \nQ 2359 409 2629 706 \nQ 2900 1003 2900 1516 \nL 2900 3500 \nL 3475 3500 \nL 3475 0 \nL 2900 0 \nL 2900 538 \nQ 2691 219 2414 64 \nQ 2138 -91 1772 -91 \nQ 1169 -91 856 284 \nQ 544 659 544 1381 \nz\nM 1991 3584 \nL 1991 3584 \nz\n\" id=\"DejaVuSans-75\" transform=\"scale(0.015625)\"/>\n       <path d=\"M 603 4863 \nL 1178 4863 \nL 1178 0 \nL 603 0 \nL 603 4863 \nz\n\" id=\"DejaVuSans-6c\" transform=\"scale(0.015625)\"/>\n      </defs>\n      <use xlink:href=\"#DejaVuSans-4e\"/>\n      <use x=\"74.804688\" xlink:href=\"#DejaVuSans-65\"/>\n      <use x=\"136.328125\" xlink:href=\"#DejaVuSans-75\"/>\n      <use x=\"199.707031\" xlink:href=\"#DejaVuSans-74\"/>\n      <use x=\"238.916016\" xlink:href=\"#DejaVuSans-72\"/>\n      <use x=\"280.029297\" xlink:href=\"#DejaVuSans-61\"/>\n      <use x=\"341.308594\" xlink:href=\"#DejaVuSans-6c\"/>\n     </g>\n    </g>\n    <g id=\"line2d_40\">\n     <path d=\"M 292.56875 49.654688 \nL 312.56875 49.654688 \n\" style=\"fill:none;stroke:#ff0000;stroke-linecap:square;stroke-width:1.5;\"/>\n    </g>\n    <g id=\"line2d_41\"/>\n    <g id=\"text_16\">\n     <!-- Negative -->\n     <g transform=\"translate(320.56875 53.154688)scale(0.1 -0.1)\">\n      <defs>\n       <path d=\"M 2906 1791 \nQ 2906 2416 2648 2759 \nQ 2391 3103 1925 3103 \nQ 1463 3103 1205 2759 \nQ 947 2416 947 1791 \nQ 947 1169 1205 825 \nQ 1463 481 1925 481 \nQ 2391 481 2648 825 \nQ 2906 1169 2906 1791 \nz\nM 3481 434 \nQ 3481 -459 3084 -895 \nQ 2688 -1331 1869 -1331 \nQ 1566 -1331 1297 -1286 \nQ 1028 -1241 775 -1147 \nL 775 -588 \nQ 1028 -725 1275 -790 \nQ 1522 -856 1778 -856 \nQ 2344 -856 2625 -561 \nQ 2906 -266 2906 331 \nL 2906 616 \nQ 2728 306 2450 153 \nQ 2172 0 1784 0 \nQ 1141 0 747 490 \nQ 353 981 353 1791 \nQ 353 2603 747 3093 \nQ 1141 3584 1784 3584 \nQ 2172 3584 2450 3431 \nQ 2728 3278 2906 2969 \nL 2906 3500 \nL 3481 3500 \nL 3481 434 \nz\n\" id=\"DejaVuSans-67\" transform=\"scale(0.015625)\"/>\n      </defs>\n      <use xlink:href=\"#DejaVuSans-4e\"/>\n      <use x=\"74.804688\" xlink:href=\"#DejaVuSans-65\"/>\n      <use x=\"136.328125\" xlink:href=\"#DejaVuSans-67\"/>\n      <use x=\"199.804688\" xlink:href=\"#DejaVuSans-61\"/>\n      <use x=\"261.083984\" xlink:href=\"#DejaVuSans-74\"/>\n      <use x=\"300.292969\" xlink:href=\"#DejaVuSans-69\"/>\n      <use x=\"328.076172\" xlink:href=\"#DejaVuSans-76\"/>\n      <use x=\"387.255859\" xlink:href=\"#DejaVuSans-65\"/>\n     </g>\n    </g>\n   </g>\n  </g>\n </g>\n <defs>\n  <clipPath id=\"p922b398341\">\n   <rect height=\"217.44\" width=\"334.8\" x=\"39.65\" y=\"7.2\"/>\n  </clipPath>\n </defs>\n</svg>\n",
      "image/png": "[encoded data removed]"
     },
     "metadata": {
      "needs_background": "light"
     }
    }
   ],
   "source": [
    "# 4. Generate time series data of tweet sentiment\n",
    "# control seasonal/trend/residual decomposition (True = keep, False = remove)\n",
    "# control normalisation (i.e. % of total )\n",
    "# period: an odd number to represent the seasonality period (e.g. 7:weekly, 13:fortnightly, etc...)\n",
    "pos, neu, neg = get_time_series(df, seasonal=False, trend=True, resid=False, period=13, norm=False)\n",
    "\n",
    "def plot_time_series(pos, neu, neg):\n",
    "    ax = plt.gca()\n",
    "    pos.plot.line(color={'count':'green'}, ax=ax)\n",
    "    neu.plot.line(color={'count':'k'}, ax=ax)\n",
    "    neg.plot.line(color={'count':'red'}, ax=ax)\n",
    "    ax.legend([\"Positive\", \"Neutral\", \"Negative\"])\n",
    "    plt.show()\n",
    "\n",
    "plot_time_series(pos, neu, neg)"
   ]
  },
  {
   "cell_type": "code",
   "execution_count": 7,
   "metadata": {},
   "outputs": [
    {
     "output_type": "display_data",
     "data": {
      "text/plain": "<Figure size 720x432 with 3 Axes>",
      "image/svg+xml": "<?xml version=\"1.0\" encoding=\"utf-8\" standalone=\"no\"?>\n<!DOCTYPE svg PUBLIC \"-//W3C//DTD SVG 1.1//EN\"\n  \"http://www.w3.org/Graphics/SVG/1.1/DTD/svg11.dtd\">\n<svg height=\"424.478125pt\" version=\"1.1\" viewBox=\"0 0 713.125 424.478125\" width=\"713.125pt\" xmlns=\"http://www.w3.org/2000/svg\" xmlns:xlink=\"http://www.w3.org/1999/xlink\">\n <metadata>\n  <rdf:RDF xmlns:cc=\"http://creativecommons.org/ns#\" xmlns:dc=\"http://purl.org/dc/elements/1.1/\" xmlns:rdf=\"http://www.w3.org/1999/02/22-rdf-syntax-ns#\">\n   <cc:Work>\n    <dc:type rdf:resource=\"http://purl.org/dc/dcmitype/StillImage\"/>\n    <dc:date>2021-04-23T17:30:45.355274</dc:date>\n    <dc:format>image/svg+xml</dc:format>\n    <dc:creator>\n     <cc:Agent>\n      <dc:title>Matplotlib v3.4.1, https://matplotlib.org/</dc:title>\n     </cc:Agent>\n    </dc:creator>\n   </cc:Work>\n  </rdf:RDF>\n </metadata>\n <defs>\n  <style type=\"text/css\">*{stroke-linecap:butt;stroke-linejoin:round;}</style>\n </defs>\n <g id=\"figure_1\">\n  <g id=\"patch_1\">\n   <path d=\"M 0 424.478125 \nL 713.125 424.478125 \nL 713.125 0 \nL 0 0 \nz\n\" style=\"fill:none;\"/>\n  </g>\n  <g id=\"axes_1\">\n   <g id=\"patch_2\">\n    <path d=\"M 39.65 128.8 \nL 705.925 128.8 \nL 705.925 7.2 \nL 39.65 7.2 \nz\n\" style=\"fill:#ffffff;\"/>\n   </g>\n   <g id=\"patch_3\">\n    <path clip-path=\"url(#pa8685d381a)\" d=\"M 69.935227 128.8 \nL 69.935227 7.2 \nL 196.037539 7.2 \nL 196.037539 128.8 \nz\n\" style=\"fill:#4286f4;opacity:0.2;\"/>\n   </g>\n   <g id=\"patch_4\">\n    <path clip-path=\"url(#pa8685d381a)\" d=\"M 196.037539 128.8 \nL 196.037539 7.2 \nL 270.458575 7.2 \nL 270.458575 128.8 \nz\n\" style=\"fill:#f44174;opacity:0.2;\"/>\n   </g>\n   <g id=\"patch_5\">\n    <path clip-path=\"url(#pa8685d381a)\" d=\"M 270.458575 128.8 \nL 270.458575 7.2 \nL 675.639773 7.2 \nL 675.639773 128.8 \nz\n\" style=\"fill:#4286f4;opacity:0.2;\"/>\n   </g>\n   <g id=\"matplotlib.axis_1\">\n    <g id=\"xtick_1\">\n     <g id=\"line2d_1\">\n      <defs>\n       <path d=\"M 0 0 \nL 0 3.5 \n\" id=\"mf88c8c9d1a\" style=\"stroke:#000000;stroke-width:0.8;\"/>\n      </defs>\n      <g>\n       <use style=\"stroke:#000000;stroke-width:0.8;\" x=\"69.935227\" xlink:href=\"#mf88c8c9d1a\" y=\"128.8\"/>\n      </g>\n     </g>\n    </g>\n    <g id=\"xtick_2\">\n     <g id=\"line2d_2\">\n      <g>\n       <use style=\"stroke:#000000;stroke-width:0.8;\" x=\"152.625268\" xlink:href=\"#mf88c8c9d1a\" y=\"128.8\"/>\n      </g>\n     </g>\n    </g>\n    <g id=\"xtick_3\">\n     <g id=\"line2d_3\">\n      <g>\n       <use style=\"stroke:#000000;stroke-width:0.8;\" x=\"235.315308\" xlink:href=\"#mf88c8c9d1a\" y=\"128.8\"/>\n      </g>\n     </g>\n    </g>\n    <g id=\"xtick_4\">\n     <g id=\"line2d_4\">\n      <g>\n       <use style=\"stroke:#000000;stroke-width:0.8;\" x=\"318.005348\" xlink:href=\"#mf88c8c9d1a\" y=\"128.8\"/>\n      </g>\n     </g>\n    </g>\n    <g id=\"xtick_5\">\n     <g id=\"line2d_5\">\n      <g>\n       <use style=\"stroke:#000000;stroke-width:0.8;\" x=\"400.695389\" xlink:href=\"#mf88c8c9d1a\" y=\"128.8\"/>\n      </g>\n     </g>\n    </g>\n    <g id=\"xtick_6\">\n     <g id=\"line2d_6\">\n      <g>\n       <use style=\"stroke:#000000;stroke-width:0.8;\" x=\"483.385429\" xlink:href=\"#mf88c8c9d1a\" y=\"128.8\"/>\n      </g>\n     </g>\n    </g>\n    <g id=\"xtick_7\">\n     <g id=\"line2d_7\">\n      <g>\n       <use style=\"stroke:#000000;stroke-width:0.8;\" x=\"566.075469\" xlink:href=\"#mf88c8c9d1a\" y=\"128.8\"/>\n      </g>\n     </g>\n    </g>\n    <g id=\"xtick_8\">\n     <g id=\"line2d_8\">\n      <g>\n       <use style=\"stroke:#000000;stroke-width:0.8;\" x=\"648.76551\" xlink:href=\"#mf88c8c9d1a\" y=\"128.8\"/>\n      </g>\n     </g>\n    </g>\n   </g>\n   <g id=\"matplotlib.axis_2\">\n    <g id=\"ytick_1\">\n     <g id=\"line2d_9\">\n      <defs>\n       <path d=\"M 0 0 \nL -3.5 0 \n\" id=\"mf505bb5648\" style=\"stroke:#000000;stroke-width:0.8;\"/>\n      </defs>\n      <g>\n       <use style=\"stroke:#000000;stroke-width:0.8;\" x=\"39.65\" xlink:href=\"#mf505bb5648\" y=\"111.312313\"/>\n      </g>\n     </g>\n     <g id=\"text_1\">\n      <!-- 4000 -->\n      <g transform=\"translate(7.2 115.111532)scale(0.1 -0.1)\">\n       <defs>\n        <path d=\"M 2419 4116 \nL 825 1625 \nL 2419 1625 \nL 2419 4116 \nz\nM 2253 4666 \nL 3047 4666 \nL 3047 1625 \nL 3713 1625 \nL 3713 1100 \nL 3047 1100 \nL 3047 0 \nL 2419 0 \nL 2419 1100 \nL 313 1100 \nL 313 1709 \nL 2253 4666 \nz\n\" id=\"DejaVuSans-34\" transform=\"scale(0.015625)\"/>\n        <path d=\"M 2034 4250 \nQ 1547 4250 1301 3770 \nQ 1056 3291 1056 2328 \nQ 1056 1369 1301 889 \nQ 1547 409 2034 409 \nQ 2525 409 2770 889 \nQ 3016 1369 3016 2328 \nQ 3016 3291 2770 3770 \nQ 2525 4250 2034 4250 \nz\nM 2034 4750 \nQ 2819 4750 3233 4129 \nQ 3647 3509 3647 2328 \nQ 3647 1150 3233 529 \nQ 2819 -91 2034 -91 \nQ 1250 -91 836 529 \nQ 422 1150 422 2328 \nQ 422 3509 836 4129 \nQ 1250 4750 2034 4750 \nz\n\" id=\"DejaVuSans-30\" transform=\"scale(0.015625)\"/>\n       </defs>\n       <use xlink:href=\"#DejaVuSans-34\"/>\n       <use x=\"63.623047\" xlink:href=\"#DejaVuSans-30\"/>\n       <use x=\"127.246094\" xlink:href=\"#DejaVuSans-30\"/>\n       <use x=\"190.869141\" xlink:href=\"#DejaVuSans-30\"/>\n      </g>\n     </g>\n    </g>\n    <g id=\"ytick_2\">\n     <g id=\"line2d_10\">\n      <g>\n       <use style=\"stroke:#000000;stroke-width:0.8;\" x=\"39.65\" xlink:href=\"#mf505bb5648\" y=\"89.637715\"/>\n      </g>\n     </g>\n     <g id=\"text_2\">\n      <!-- 5000 -->\n      <g transform=\"translate(7.2 93.436933)scale(0.1 -0.1)\">\n       <defs>\n        <path d=\"M 691 4666 \nL 3169 4666 \nL 3169 4134 \nL 1269 4134 \nL 1269 2991 \nQ 1406 3038 1543 3061 \nQ 1681 3084 1819 3084 \nQ 2600 3084 3056 2656 \nQ 3513 2228 3513 1497 \nQ 3513 744 3044 326 \nQ 2575 -91 1722 -91 \nQ 1428 -91 1123 -41 \nQ 819 9 494 109 \nL 494 744 \nQ 775 591 1075 516 \nQ 1375 441 1709 441 \nQ 2250 441 2565 725 \nQ 2881 1009 2881 1497 \nQ 2881 1984 2565 2268 \nQ 2250 2553 1709 2553 \nQ 1456 2553 1204 2497 \nQ 953 2441 691 2322 \nL 691 4666 \nz\n\" id=\"DejaVuSans-35\" transform=\"scale(0.015625)\"/>\n       </defs>\n       <use xlink:href=\"#DejaVuSans-35\"/>\n       <use x=\"63.623047\" xlink:href=\"#DejaVuSans-30\"/>\n       <use x=\"127.246094\" xlink:href=\"#DejaVuSans-30\"/>\n       <use x=\"190.869141\" xlink:href=\"#DejaVuSans-30\"/>\n      </g>\n     </g>\n    </g>\n    <g id=\"ytick_3\">\n     <g id=\"line2d_11\">\n      <g>\n       <use style=\"stroke:#000000;stroke-width:0.8;\" x=\"39.65\" xlink:href=\"#mf505bb5648\" y=\"67.963116\"/>\n      </g>\n     </g>\n     <g id=\"text_3\">\n      <!-- 6000 -->\n      <g transform=\"translate(7.2 71.762334)scale(0.1 -0.1)\">\n       <defs>\n        <path d=\"M 2113 2584 \nQ 1688 2584 1439 2293 \nQ 1191 2003 1191 1497 \nQ 1191 994 1439 701 \nQ 1688 409 2113 409 \nQ 2538 409 2786 701 \nQ 3034 994 3034 1497 \nQ 3034 2003 2786 2293 \nQ 2538 2584 2113 2584 \nz\nM 3366 4563 \nL 3366 3988 \nQ 3128 4100 2886 4159 \nQ 2644 4219 2406 4219 \nQ 1781 4219 1451 3797 \nQ 1122 3375 1075 2522 \nQ 1259 2794 1537 2939 \nQ 1816 3084 2150 3084 \nQ 2853 3084 3261 2657 \nQ 3669 2231 3669 1497 \nQ 3669 778 3244 343 \nQ 2819 -91 2113 -91 \nQ 1303 -91 875 529 \nQ 447 1150 447 2328 \nQ 447 3434 972 4092 \nQ 1497 4750 2381 4750 \nQ 2619 4750 2861 4703 \nQ 3103 4656 3366 4563 \nz\n\" id=\"DejaVuSans-36\" transform=\"scale(0.015625)\"/>\n       </defs>\n       <use xlink:href=\"#DejaVuSans-36\"/>\n       <use x=\"63.623047\" xlink:href=\"#DejaVuSans-30\"/>\n       <use x=\"127.246094\" xlink:href=\"#DejaVuSans-30\"/>\n       <use x=\"190.869141\" xlink:href=\"#DejaVuSans-30\"/>\n      </g>\n     </g>\n    </g>\n    <g id=\"ytick_4\">\n     <g id=\"line2d_12\">\n      <g>\n       <use style=\"stroke:#000000;stroke-width:0.8;\" x=\"39.65\" xlink:href=\"#mf505bb5648\" y=\"46.288517\"/>\n      </g>\n     </g>\n     <g id=\"text_4\">\n      <!-- 7000 -->\n      <g transform=\"translate(7.2 50.087735)scale(0.1 -0.1)\">\n       <defs>\n        <path d=\"M 525 4666 \nL 3525 4666 \nL 3525 4397 \nL 1831 0 \nL 1172 0 \nL 2766 4134 \nL 525 4134 \nL 525 4666 \nz\n\" id=\"DejaVuSans-37\" transform=\"scale(0.015625)\"/>\n       </defs>\n       <use xlink:href=\"#DejaVuSans-37\"/>\n       <use x=\"63.623047\" xlink:href=\"#DejaVuSans-30\"/>\n       <use x=\"127.246094\" xlink:href=\"#DejaVuSans-30\"/>\n       <use x=\"190.869141\" xlink:href=\"#DejaVuSans-30\"/>\n      </g>\n     </g>\n    </g>\n    <g id=\"ytick_5\">\n     <g id=\"line2d_13\">\n      <g>\n       <use style=\"stroke:#000000;stroke-width:0.8;\" x=\"39.65\" xlink:href=\"#mf505bb5648\" y=\"24.613918\"/>\n      </g>\n     </g>\n     <g id=\"text_5\">\n      <!-- 8000 -->\n      <g transform=\"translate(7.2 28.413137)scale(0.1 -0.1)\">\n       <defs>\n        <path d=\"M 2034 2216 \nQ 1584 2216 1326 1975 \nQ 1069 1734 1069 1313 \nQ 1069 891 1326 650 \nQ 1584 409 2034 409 \nQ 2484 409 2743 651 \nQ 3003 894 3003 1313 \nQ 3003 1734 2745 1975 \nQ 2488 2216 2034 2216 \nz\nM 1403 2484 \nQ 997 2584 770 2862 \nQ 544 3141 544 3541 \nQ 544 4100 942 4425 \nQ 1341 4750 2034 4750 \nQ 2731 4750 3128 4425 \nQ 3525 4100 3525 3541 \nQ 3525 3141 3298 2862 \nQ 3072 2584 2669 2484 \nQ 3125 2378 3379 2068 \nQ 3634 1759 3634 1313 \nQ 3634 634 3220 271 \nQ 2806 -91 2034 -91 \nQ 1263 -91 848 271 \nQ 434 634 434 1313 \nQ 434 1759 690 2068 \nQ 947 2378 1403 2484 \nz\nM 1172 3481 \nQ 1172 3119 1398 2916 \nQ 1625 2713 2034 2713 \nQ 2441 2713 2670 2916 \nQ 2900 3119 2900 3481 \nQ 2900 3844 2670 4047 \nQ 2441 4250 2034 4250 \nQ 1625 4250 1398 4047 \nQ 1172 3844 1172 3481 \nz\n\" id=\"DejaVuSans-38\" transform=\"scale(0.015625)\"/>\n       </defs>\n       <use xlink:href=\"#DejaVuSans-38\"/>\n       <use x=\"63.623047\" xlink:href=\"#DejaVuSans-30\"/>\n       <use x=\"127.246094\" xlink:href=\"#DejaVuSans-30\"/>\n       <use x=\"190.869141\" xlink:href=\"#DejaVuSans-30\"/>\n      </g>\n     </g>\n    </g>\n   </g>\n   <g id=\"line2d_14\">\n    <path clip-path=\"url(#pa8685d381a)\" d=\"M 69.935227 123.272727 \nL 90.607737 107.087298 \nL 103.011243 97.767654 \nL 111.280247 91.536026 \nL 115.414749 88.225724 \nL 119.549251 84.629635 \nL 123.683753 82.577363 \nL 127.818256 81.263413 \nL 131.952758 80.705048 \nL 136.08726 80.777719 \nL 140.221762 81.180362 \nL 144.356264 81.434135 \nL 148.490766 81.280323 \nL 156.75977 80.458957 \nL 160.894272 79.92807 \nL 165.028774 79.168654 \nL 169.163276 77.898702 \nL 173.297778 75.945661 \nL 177.43228 73.242794 \nL 181.566782 69.482813 \nL 185.701284 64.541316 \nL 189.835786 58.740807 \nL 198.10479 46.574633 \nL 206.373794 34.671476 \nL 210.508296 29.084342 \nL 214.642798 24.17102 \nL 218.7773 19.981099 \nL 222.911802 16.530215 \nL 227.046304 14.020137 \nL 231.180806 12.727273 \nL 235.315308 12.782135 \nL 239.44981 14.089881 \nL 243.584312 16.377442 \nL 247.718814 19.71151 \nL 251.853316 24.140139 \nL 255.987818 29.373321 \nL 260.12232 35.182523 \nL 268.391324 47.345186 \nL 272.525826 53.25512 \nL 276.660328 58.892969 \nL 280.79483 64.055051 \nL 284.929332 68.644077 \nL 289.063834 72.547562 \nL 293.198336 75.622887 \nL 297.332838 77.810227 \nL 301.46734 79.155092 \nL 305.601842 79.700586 \nL 309.736344 79.593903 \nL 313.870846 78.983586 \nL 318.005348 77.866441 \nL 322.13985 76.243119 \nL 326.274352 74.276258 \nL 338.677858 68.04541 \nL 342.81236 66.190588 \nL 346.946862 64.529777 \nL 351.081364 63.101484 \nL 355.215866 61.946862 \nL 359.350368 61.076595 \nL 363.48487 60.466819 \nL 367.619372 60.092251 \nL 380.022879 59.580837 \nL 384.157381 59.24324 \nL 388.291883 58.786741 \nL 396.560887 57.607305 \nL 400.695389 57.179213 \nL 421.367899 55.728834 \nL 425.502401 55.903832 \nL 429.636903 56.519549 \nL 433.771405 57.504026 \nL 437.905907 58.687087 \nL 442.040409 59.994 \nL 446.174911 61.44669 \nL 450.309413 63.040997 \nL 454.443915 64.885764 \nL 458.578417 67.103164 \nL 466.847421 72.210055 \nL 470.981923 74.750588 \nL 475.116425 77.070459 \nL 479.250927 79.049424 \nL 483.385429 80.770264 \nL 487.519931 82.33418 \nL 491.654433 83.641853 \nL 495.788935 84.54354 \nL 499.923437 84.977246 \nL 504.057939 84.933075 \nL 508.192441 84.404561 \nL 512.326943 83.515452 \nL 516.461445 82.380666 \nL 520.595947 80.914716 \nL 524.730449 79.006772 \nL 528.864951 76.763659 \nL 537.133955 72.045932 \nL 541.268457 69.898742 \nL 545.402959 68.110852 \nL 549.537461 66.671981 \nL 553.671963 65.559856 \nL 557.806465 64.751178 \nL 566.075469 63.587982 \nL 570.209971 63.24224 \nL 574.344473 63.261382 \nL 578.478975 63.667578 \nL 582.613477 64.381401 \nL 599.151485 68.075272 \nL 603.285987 68.641577 \nL 607.420489 68.8227 \nL 611.554991 68.615036 \nL 619.823996 67.777813 \nL 628.093 66.774097 \nL 636.362004 65.446148 \nL 648.76551 63.064886 \nL 673.572522 58.101592 \nL 673.572522 58.101592 \n\" style=\"fill:none;stroke:#1f77b4;stroke-linecap:square;stroke-width:1.5;\"/>\n   </g>\n   <g id=\"line2d_15\">\n    <path clip-path=\"url(#pa8685d381a)\" d=\"M 196.037539 128.8 \nL 196.037539 7.2 \n\" style=\"fill:none;stroke:#000000;stroke-dasharray:11.1,4.8;stroke-dashoffset:0;stroke-width:3;\"/>\n   </g>\n   <g id=\"line2d_16\">\n    <path clip-path=\"url(#pa8685d381a)\" d=\"M 270.458575 128.8 \nL 270.458575 7.2 \n\" style=\"fill:none;stroke:#000000;stroke-dasharray:11.1,4.8;stroke-dashoffset:0;stroke-width:3;\"/>\n   </g>\n   <g id=\"patch_6\">\n    <path d=\"M 39.65 128.8 \nL 39.65 7.2 \n\" style=\"fill:none;stroke:#000000;stroke-linecap:square;stroke-linejoin:miter;stroke-width:0.8;\"/>\n   </g>\n   <g id=\"patch_7\">\n    <path d=\"M 705.925 128.8 \nL 705.925 7.2 \n\" style=\"fill:none;stroke:#000000;stroke-linecap:square;stroke-linejoin:miter;stroke-width:0.8;\"/>\n   </g>\n   <g id=\"patch_8\">\n    <path d=\"M 39.65 128.8 \nL 705.925 128.8 \n\" style=\"fill:none;stroke:#000000;stroke-linecap:square;stroke-linejoin:miter;stroke-width:0.8;\"/>\n   </g>\n   <g id=\"patch_9\">\n    <path d=\"M 39.65 7.2 \nL 705.925 7.2 \n\" style=\"fill:none;stroke:#000000;stroke-linecap:square;stroke-linejoin:miter;stroke-width:0.8;\"/>\n   </g>\n  </g>\n  <g id=\"axes_2\">\n   <g id=\"patch_10\">\n    <path d=\"M 39.65 264.7 \nL 705.925 264.7 \nL 705.925 143.1 \nL 39.65 143.1 \nz\n\" style=\"fill:#ffffff;\"/>\n   </g>\n   <g id=\"patch_11\">\n    <path clip-path=\"url(#pf4c9bab320)\" d=\"M 69.935227 264.7 \nL 69.935227 143.1 \nL 196.037539 143.1 \nL 196.037539 264.7 \nz\n\" style=\"fill:#4286f4;opacity:0.2;\"/>\n   </g>\n   <g id=\"patch_12\">\n    <path clip-path=\"url(#pf4c9bab320)\" d=\"M 196.037539 264.7 \nL 196.037539 143.1 \nL 270.458575 143.1 \nL 270.458575 264.7 \nz\n\" style=\"fill:#f44174;opacity:0.2;\"/>\n   </g>\n   <g id=\"patch_13\">\n    <path clip-path=\"url(#pf4c9bab320)\" d=\"M 270.458575 264.7 \nL 270.458575 143.1 \nL 675.639773 143.1 \nL 675.639773 264.7 \nz\n\" style=\"fill:#4286f4;opacity:0.2;\"/>\n   </g>\n   <g id=\"matplotlib.axis_3\">\n    <g id=\"xtick_9\">\n     <g id=\"line2d_17\">\n      <g>\n       <use style=\"stroke:#000000;stroke-width:0.8;\" x=\"69.935227\" xlink:href=\"#mf88c8c9d1a\" y=\"264.7\"/>\n      </g>\n     </g>\n    </g>\n    <g id=\"xtick_10\">\n     <g id=\"line2d_18\">\n      <g>\n       <use style=\"stroke:#000000;stroke-width:0.8;\" x=\"152.625268\" xlink:href=\"#mf88c8c9d1a\" y=\"264.7\"/>\n      </g>\n     </g>\n    </g>\n    <g id=\"xtick_11\">\n     <g id=\"line2d_19\">\n      <g>\n       <use style=\"stroke:#000000;stroke-width:0.8;\" x=\"235.315308\" xlink:href=\"#mf88c8c9d1a\" y=\"264.7\"/>\n      </g>\n     </g>\n    </g>\n    <g id=\"xtick_12\">\n     <g id=\"line2d_20\">\n      <g>\n       <use style=\"stroke:#000000;stroke-width:0.8;\" x=\"318.005348\" xlink:href=\"#mf88c8c9d1a\" y=\"264.7\"/>\n      </g>\n     </g>\n    </g>\n    <g id=\"xtick_13\">\n     <g id=\"line2d_21\">\n      <g>\n       <use style=\"stroke:#000000;stroke-width:0.8;\" x=\"400.695389\" xlink:href=\"#mf88c8c9d1a\" y=\"264.7\"/>\n      </g>\n     </g>\n    </g>\n    <g id=\"xtick_14\">\n     <g id=\"line2d_22\">\n      <g>\n       <use style=\"stroke:#000000;stroke-width:0.8;\" x=\"483.385429\" xlink:href=\"#mf88c8c9d1a\" y=\"264.7\"/>\n      </g>\n     </g>\n    </g>\n    <g id=\"xtick_15\">\n     <g id=\"line2d_23\">\n      <g>\n       <use style=\"stroke:#000000;stroke-width:0.8;\" x=\"566.075469\" xlink:href=\"#mf88c8c9d1a\" y=\"264.7\"/>\n      </g>\n     </g>\n    </g>\n    <g id=\"xtick_16\">\n     <g id=\"line2d_24\">\n      <g>\n       <use style=\"stroke:#000000;stroke-width:0.8;\" x=\"648.76551\" xlink:href=\"#mf88c8c9d1a\" y=\"264.7\"/>\n      </g>\n     </g>\n    </g>\n   </g>\n   <g id=\"matplotlib.axis_4\">\n    <g id=\"ytick_6\">\n     <g id=\"line2d_25\">\n      <g>\n       <use style=\"stroke:#000000;stroke-width:0.8;\" x=\"39.65\" xlink:href=\"#mf505bb5648\" y=\"259.25613\"/>\n      </g>\n     </g>\n     <g id=\"text_6\">\n      <!-- 1000 -->\n      <g transform=\"translate(7.2 263.055349)scale(0.1 -0.1)\">\n       <defs>\n        <path d=\"M 794 531 \nL 1825 531 \nL 1825 4091 \nL 703 3866 \nL 703 4441 \nL 1819 4666 \nL 2450 4666 \nL 2450 531 \nL 3481 531 \nL 3481 0 \nL 794 0 \nL 794 531 \nz\n\" id=\"DejaVuSans-31\" transform=\"scale(0.015625)\"/>\n       </defs>\n       <use xlink:href=\"#DejaVuSans-31\"/>\n       <use x=\"63.623047\" xlink:href=\"#DejaVuSans-30\"/>\n       <use x=\"127.246094\" xlink:href=\"#DejaVuSans-30\"/>\n       <use x=\"190.869141\" xlink:href=\"#DejaVuSans-30\"/>\n      </g>\n     </g>\n    </g>\n    <g id=\"ytick_7\">\n     <g id=\"line2d_26\">\n      <g>\n       <use style=\"stroke:#000000;stroke-width:0.8;\" x=\"39.65\" xlink:href=\"#mf505bb5648\" y=\"235.974508\"/>\n      </g>\n     </g>\n     <g id=\"text_7\">\n      <!-- 2000 -->\n      <g transform=\"translate(7.2 239.773727)scale(0.1 -0.1)\">\n       <defs>\n        <path d=\"M 1228 531 \nL 3431 531 \nL 3431 0 \nL 469 0 \nL 469 531 \nQ 828 903 1448 1529 \nQ 2069 2156 2228 2338 \nQ 2531 2678 2651 2914 \nQ 2772 3150 2772 3378 \nQ 2772 3750 2511 3984 \nQ 2250 4219 1831 4219 \nQ 1534 4219 1204 4116 \nQ 875 4013 500 3803 \nL 500 4441 \nQ 881 4594 1212 4672 \nQ 1544 4750 1819 4750 \nQ 2544 4750 2975 4387 \nQ 3406 4025 3406 3419 \nQ 3406 3131 3298 2873 \nQ 3191 2616 2906 2266 \nQ 2828 2175 2409 1742 \nQ 1991 1309 1228 531 \nz\n\" id=\"DejaVuSans-32\" transform=\"scale(0.015625)\"/>\n       </defs>\n       <use xlink:href=\"#DejaVuSans-32\"/>\n       <use x=\"63.623047\" xlink:href=\"#DejaVuSans-30\"/>\n       <use x=\"127.246094\" xlink:href=\"#DejaVuSans-30\"/>\n       <use x=\"190.869141\" xlink:href=\"#DejaVuSans-30\"/>\n      </g>\n     </g>\n    </g>\n    <g id=\"ytick_8\">\n     <g id=\"line2d_27\">\n      <g>\n       <use style=\"stroke:#000000;stroke-width:0.8;\" x=\"39.65\" xlink:href=\"#mf505bb5648\" y=\"212.692886\"/>\n      </g>\n     </g>\n     <g id=\"text_8\">\n      <!-- 3000 -->\n      <g transform=\"translate(7.2 216.492105)scale(0.1 -0.1)\">\n       <defs>\n        <path d=\"M 2597 2516 \nQ 3050 2419 3304 2112 \nQ 3559 1806 3559 1356 \nQ 3559 666 3084 287 \nQ 2609 -91 1734 -91 \nQ 1441 -91 1130 -33 \nQ 819 25 488 141 \nL 488 750 \nQ 750 597 1062 519 \nQ 1375 441 1716 441 \nQ 2309 441 2620 675 \nQ 2931 909 2931 1356 \nQ 2931 1769 2642 2001 \nQ 2353 2234 1838 2234 \nL 1294 2234 \nL 1294 2753 \nL 1863 2753 \nQ 2328 2753 2575 2939 \nQ 2822 3125 2822 3475 \nQ 2822 3834 2567 4026 \nQ 2313 4219 1838 4219 \nQ 1578 4219 1281 4162 \nQ 984 4106 628 3988 \nL 628 4550 \nQ 988 4650 1302 4700 \nQ 1616 4750 1894 4750 \nQ 2613 4750 3031 4423 \nQ 3450 4097 3450 3541 \nQ 3450 3153 3228 2886 \nQ 3006 2619 2597 2516 \nz\n\" id=\"DejaVuSans-33\" transform=\"scale(0.015625)\"/>\n       </defs>\n       <use xlink:href=\"#DejaVuSans-33\"/>\n       <use x=\"63.623047\" xlink:href=\"#DejaVuSans-30\"/>\n       <use x=\"127.246094\" xlink:href=\"#DejaVuSans-30\"/>\n       <use x=\"190.869141\" xlink:href=\"#DejaVuSans-30\"/>\n      </g>\n     </g>\n    </g>\n    <g id=\"ytick_9\">\n     <g id=\"line2d_28\">\n      <g>\n       <use style=\"stroke:#000000;stroke-width:0.8;\" x=\"39.65\" xlink:href=\"#mf505bb5648\" y=\"189.411265\"/>\n      </g>\n     </g>\n     <g id=\"text_9\">\n      <!-- 4000 -->\n      <g transform=\"translate(7.2 193.210483)scale(0.1 -0.1)\">\n       <use xlink:href=\"#DejaVuSans-34\"/>\n       <use x=\"63.623047\" xlink:href=\"#DejaVuSans-30\"/>\n       <use x=\"127.246094\" xlink:href=\"#DejaVuSans-30\"/>\n       <use x=\"190.869141\" xlink:href=\"#DejaVuSans-30\"/>\n      </g>\n     </g>\n    </g>\n    <g id=\"ytick_10\">\n     <g id=\"line2d_29\">\n      <g>\n       <use style=\"stroke:#000000;stroke-width:0.8;\" x=\"39.65\" xlink:href=\"#mf505bb5648\" y=\"166.129643\"/>\n      </g>\n     </g>\n     <g id=\"text_10\">\n      <!-- 5000 -->\n      <g transform=\"translate(7.2 169.928861)scale(0.1 -0.1)\">\n       <use xlink:href=\"#DejaVuSans-35\"/>\n       <use x=\"63.623047\" xlink:href=\"#DejaVuSans-30\"/>\n       <use x=\"127.246094\" xlink:href=\"#DejaVuSans-30\"/>\n       <use x=\"190.869141\" xlink:href=\"#DejaVuSans-30\"/>\n      </g>\n     </g>\n    </g>\n   </g>\n   <g id=\"line2d_30\">\n    <path clip-path=\"url(#pf4c9bab320)\" d=\"M 69.935227 259.172727 \nL 82.338733 247.391123 \nL 90.607737 239.751367 \nL 98.876741 232.33454 \nL 115.414749 217.739099 \nL 119.549251 213.871105 \nL 123.683753 211.470798 \nL 127.818256 209.628846 \nL 131.952758 208.372003 \nL 136.08726 207.622723 \nL 140.221762 207.250826 \nL 148.490766 206.973596 \nL 156.75977 206.738824 \nL 160.894272 206.216723 \nL 165.028774 205.129508 \nL 169.163276 203.468063 \nL 173.297778 201.25089 \nL 177.43228 198.552323 \nL 181.566782 195.360928 \nL 185.701284 191.687909 \nL 189.835786 187.612493 \nL 193.970288 183.246787 \nL 198.10479 178.690989 \nL 202.239292 173.879279 \nL 210.508296 164.021994 \nL 214.642798 159.595027 \nL 218.7773 155.692372 \nL 222.911802 152.55624 \nL 227.046304 150.397921 \nL 231.180806 149.142518 \nL 235.315308 148.627273 \nL 239.44981 148.656068 \nL 243.584312 149.116847 \nL 247.718814 150.14434 \nL 251.853316 151.923329 \nL 255.987818 154.426041 \nL 260.12232 157.354146 \nL 268.391324 163.378706 \nL 272.525826 166.143452 \nL 280.79483 171.286466 \nL 284.929332 173.70242 \nL 289.063834 175.870704 \nL 293.198336 177.542351 \nL 297.332838 178.531698 \nL 301.46734 178.831085 \nL 305.601842 178.585659 \nL 309.736344 178.047298 \nL 313.870846 177.234848 \nL 318.005348 176.021011 \nL 322.13985 174.396673 \nL 342.81236 165.272547 \nL 346.946862 163.637661 \nL 351.081364 162.17357 \nL 355.215866 161.050995 \nL 359.350368 160.400266 \nL 363.48487 160.164483 \nL 367.619372 160.256636 \nL 371.753874 160.626167 \nL 392.426385 163.196845 \nL 396.560887 163.916148 \nL 408.964393 166.691573 \nL 413.098895 167.324202 \nL 417.233397 167.739318 \nL 425.502401 168.176811 \nL 429.636903 168.547345 \nL 437.905907 169.770299 \nL 442.040409 170.538333 \nL 450.309413 172.445603 \nL 454.443915 173.571287 \nL 458.578417 174.891464 \nL 475.116425 180.54501 \nL 487.519931 184.39929 \nL 491.654433 185.497535 \nL 495.788935 186.250987 \nL 499.923437 186.581259 \nL 504.057939 186.474522 \nL 508.192441 185.967769 \nL 516.461445 184.346546 \nL 520.595947 183.333006 \nL 524.730449 182.028086 \nL 528.864951 180.405324 \nL 532.999453 178.51983 \nL 541.268457 174.416733 \nL 545.402959 172.535498 \nL 549.537461 170.845408 \nL 553.671963 169.334013 \nL 557.806465 168.004981 \nL 566.075469 165.741654 \nL 570.209971 164.872058 \nL 574.344473 164.341778 \nL 578.478975 164.165039 \nL 582.613477 164.292244 \nL 586.747979 164.700821 \nL 590.882481 165.366316 \nL 599.151485 167.18994 \nL 603.285987 168.103534 \nL 607.420489 168.823316 \nL 611.554991 169.320697 \nL 619.823996 169.97622 \nL 623.958498 170.176619 \nL 628.093 169.940116 \nL 636.362004 169.024723 \nL 644.631008 167.81881 \nL 657.034514 165.734134 \nL 669.43802 163.394708 \nL 673.572522 162.540533 \nL 673.572522 162.540533 \n\" style=\"fill:none;stroke:#1f77b4;stroke-linecap:square;stroke-width:1.5;\"/>\n   </g>\n   <g id=\"line2d_31\">\n    <path clip-path=\"url(#pf4c9bab320)\" d=\"M 196.037539 264.7 \nL 196.037539 143.1 \n\" style=\"fill:none;stroke:#000000;stroke-dasharray:11.1,4.8;stroke-dashoffset:0;stroke-width:3;\"/>\n   </g>\n   <g id=\"line2d_32\">\n    <path clip-path=\"url(#pf4c9bab320)\" d=\"M 270.458575 264.7 \nL 270.458575 143.1 \n\" style=\"fill:none;stroke:#000000;stroke-dasharray:11.1,4.8;stroke-dashoffset:0;stroke-width:3;\"/>\n   </g>\n   <g id=\"patch_14\">\n    <path d=\"M 39.65 264.7 \nL 39.65 143.1 \n\" style=\"fill:none;stroke:#000000;stroke-linecap:square;stroke-linejoin:miter;stroke-width:0.8;\"/>\n   </g>\n   <g id=\"patch_15\">\n    <path d=\"M 705.925 264.7 \nL 705.925 143.1 \n\" style=\"fill:none;stroke:#000000;stroke-linecap:square;stroke-linejoin:miter;stroke-width:0.8;\"/>\n   </g>\n   <g id=\"patch_16\">\n    <path d=\"M 39.65 264.7 \nL 705.925 264.7 \n\" style=\"fill:none;stroke:#000000;stroke-linecap:square;stroke-linejoin:miter;stroke-width:0.8;\"/>\n   </g>\n   <g id=\"patch_17\">\n    <path d=\"M 39.65 143.1 \nL 705.925 143.1 \n\" style=\"fill:none;stroke:#000000;stroke-linecap:square;stroke-linejoin:miter;stroke-width:0.8;\"/>\n   </g>\n  </g>\n  <g id=\"axes_3\">\n   <g id=\"patch_18\">\n    <path d=\"M 39.65 400.6 \nL 705.925 400.6 \nL 705.925 279 \nL 39.65 279 \nz\n\" style=\"fill:#ffffff;\"/>\n   </g>\n   <g id=\"patch_19\">\n    <path clip-path=\"url(#p59929a813b)\" d=\"M 69.935227 400.6 \nL 69.935227 279 \nL 196.037539 279 \nL 196.037539 400.6 \nz\n\" style=\"fill:#4286f4;opacity:0.2;\"/>\n   </g>\n   <g id=\"patch_20\">\n    <path clip-path=\"url(#p59929a813b)\" d=\"M 196.037539 400.6 \nL 196.037539 279 \nL 270.458575 279 \nL 270.458575 400.6 \nz\n\" style=\"fill:#f44174;opacity:0.2;\"/>\n   </g>\n   <g id=\"patch_21\">\n    <path clip-path=\"url(#p59929a813b)\" d=\"M 270.458575 400.6 \nL 270.458575 279 \nL 675.639773 279 \nL 675.639773 400.6 \nz\n\" style=\"fill:#4286f4;opacity:0.2;\"/>\n   </g>\n   <g id=\"matplotlib.axis_5\">\n    <g id=\"xtick_17\">\n     <g id=\"line2d_33\">\n      <g>\n       <use style=\"stroke:#000000;stroke-width:0.8;\" x=\"69.935227\" xlink:href=\"#mf88c8c9d1a\" y=\"400.6\"/>\n      </g>\n     </g>\n     <g id=\"text_11\">\n      <!-- 0 -->\n      <g transform=\"translate(66.753977 415.198437)scale(0.1 -0.1)\">\n       <use xlink:href=\"#DejaVuSans-30\"/>\n      </g>\n     </g>\n    </g>\n    <g id=\"xtick_18\">\n     <g id=\"line2d_34\">\n      <g>\n       <use style=\"stroke:#000000;stroke-width:0.8;\" x=\"152.625268\" xlink:href=\"#mf88c8c9d1a\" y=\"400.6\"/>\n      </g>\n     </g>\n     <g id=\"text_12\">\n      <!-- 20 -->\n      <g transform=\"translate(146.262768 415.198437)scale(0.1 -0.1)\">\n       <use xlink:href=\"#DejaVuSans-32\"/>\n       <use x=\"63.623047\" xlink:href=\"#DejaVuSans-30\"/>\n      </g>\n     </g>\n    </g>\n    <g id=\"xtick_19\">\n     <g id=\"line2d_35\">\n      <g>\n       <use style=\"stroke:#000000;stroke-width:0.8;\" x=\"235.315308\" xlink:href=\"#mf88c8c9d1a\" y=\"400.6\"/>\n      </g>\n     </g>\n     <g id=\"text_13\">\n      <!-- 40 -->\n      <g transform=\"translate(228.952808 415.198437)scale(0.1 -0.1)\">\n       <use xlink:href=\"#DejaVuSans-34\"/>\n       <use x=\"63.623047\" xlink:href=\"#DejaVuSans-30\"/>\n      </g>\n     </g>\n    </g>\n    <g id=\"xtick_20\">\n     <g id=\"line2d_36\">\n      <g>\n       <use style=\"stroke:#000000;stroke-width:0.8;\" x=\"318.005348\" xlink:href=\"#mf88c8c9d1a\" y=\"400.6\"/>\n      </g>\n     </g>\n     <g id=\"text_14\">\n      <!-- 60 -->\n      <g transform=\"translate(311.642848 415.198437)scale(0.1 -0.1)\">\n       <use xlink:href=\"#DejaVuSans-36\"/>\n       <use x=\"63.623047\" xlink:href=\"#DejaVuSans-30\"/>\n      </g>\n     </g>\n    </g>\n    <g id=\"xtick_21\">\n     <g id=\"line2d_37\">\n      <g>\n       <use style=\"stroke:#000000;stroke-width:0.8;\" x=\"400.695389\" xlink:href=\"#mf88c8c9d1a\" y=\"400.6\"/>\n      </g>\n     </g>\n     <g id=\"text_15\">\n      <!-- 80 -->\n      <g transform=\"translate(394.332889 415.198437)scale(0.1 -0.1)\">\n       <use xlink:href=\"#DejaVuSans-38\"/>\n       <use x=\"63.623047\" xlink:href=\"#DejaVuSans-30\"/>\n      </g>\n     </g>\n    </g>\n    <g id=\"xtick_22\">\n     <g id=\"line2d_38\">\n      <g>\n       <use style=\"stroke:#000000;stroke-width:0.8;\" x=\"483.385429\" xlink:href=\"#mf88c8c9d1a\" y=\"400.6\"/>\n      </g>\n     </g>\n     <g id=\"text_16\">\n      <!-- 100 -->\n      <g transform=\"translate(473.841679 415.198437)scale(0.1 -0.1)\">\n       <use xlink:href=\"#DejaVuSans-31\"/>\n       <use x=\"63.623047\" xlink:href=\"#DejaVuSans-30\"/>\n       <use x=\"127.246094\" xlink:href=\"#DejaVuSans-30\"/>\n      </g>\n     </g>\n    </g>\n    <g id=\"xtick_23\">\n     <g id=\"line2d_39\">\n      <g>\n       <use style=\"stroke:#000000;stroke-width:0.8;\" x=\"566.075469\" xlink:href=\"#mf88c8c9d1a\" y=\"400.6\"/>\n      </g>\n     </g>\n     <g id=\"text_17\">\n      <!-- 120 -->\n      <g transform=\"translate(556.531719 415.198437)scale(0.1 -0.1)\">\n       <use xlink:href=\"#DejaVuSans-31\"/>\n       <use x=\"63.623047\" xlink:href=\"#DejaVuSans-32\"/>\n       <use x=\"127.246094\" xlink:href=\"#DejaVuSans-30\"/>\n      </g>\n     </g>\n    </g>\n    <g id=\"xtick_24\">\n     <g id=\"line2d_40\">\n      <g>\n       <use style=\"stroke:#000000;stroke-width:0.8;\" x=\"648.76551\" xlink:href=\"#mf88c8c9d1a\" y=\"400.6\"/>\n      </g>\n     </g>\n     <g id=\"text_18\">\n      <!-- 140 -->\n      <g transform=\"translate(639.22176 415.198437)scale(0.1 -0.1)\">\n       <use xlink:href=\"#DejaVuSans-31\"/>\n       <use x=\"63.623047\" xlink:href=\"#DejaVuSans-34\"/>\n       <use x=\"127.246094\" xlink:href=\"#DejaVuSans-30\"/>\n      </g>\n     </g>\n    </g>\n   </g>\n   <g id=\"matplotlib.axis_6\">\n    <g id=\"ytick_11\">\n     <g id=\"line2d_41\">\n      <g>\n       <use style=\"stroke:#000000;stroke-width:0.8;\" x=\"39.65\" xlink:href=\"#mf505bb5648\" y=\"395.20508\"/>\n      </g>\n     </g>\n     <g id=\"text_19\">\n      <!-- 1000 -->\n      <g transform=\"translate(7.2 399.004299)scale(0.1 -0.1)\">\n       <use xlink:href=\"#DejaVuSans-31\"/>\n       <use x=\"63.623047\" xlink:href=\"#DejaVuSans-30\"/>\n       <use x=\"127.246094\" xlink:href=\"#DejaVuSans-30\"/>\n       <use x=\"190.869141\" xlink:href=\"#DejaVuSans-30\"/>\n      </g>\n     </g>\n    </g>\n    <g id=\"ytick_12\">\n     <g id=\"line2d_42\">\n      <g>\n       <use style=\"stroke:#000000;stroke-width:0.8;\" x=\"39.65\" xlink:href=\"#mf505bb5648\" y=\"367.228011\"/>\n      </g>\n     </g>\n     <g id=\"text_20\">\n      <!-- 2000 -->\n      <g transform=\"translate(7.2 371.02723)scale(0.1 -0.1)\">\n       <use xlink:href=\"#DejaVuSans-32\"/>\n       <use x=\"63.623047\" xlink:href=\"#DejaVuSans-30\"/>\n       <use x=\"127.246094\" xlink:href=\"#DejaVuSans-30\"/>\n       <use x=\"190.869141\" xlink:href=\"#DejaVuSans-30\"/>\n      </g>\n     </g>\n    </g>\n    <g id=\"ytick_13\">\n     <g id=\"line2d_43\">\n      <g>\n       <use style=\"stroke:#000000;stroke-width:0.8;\" x=\"39.65\" xlink:href=\"#mf505bb5648\" y=\"339.250942\"/>\n      </g>\n     </g>\n     <g id=\"text_21\">\n      <!-- 3000 -->\n      <g transform=\"translate(7.2 343.050161)scale(0.1 -0.1)\">\n       <use xlink:href=\"#DejaVuSans-33\"/>\n       <use x=\"63.623047\" xlink:href=\"#DejaVuSans-30\"/>\n       <use x=\"127.246094\" xlink:href=\"#DejaVuSans-30\"/>\n       <use x=\"190.869141\" xlink:href=\"#DejaVuSans-30\"/>\n      </g>\n     </g>\n    </g>\n    <g id=\"ytick_14\">\n     <g id=\"line2d_44\">\n      <g>\n       <use style=\"stroke:#000000;stroke-width:0.8;\" x=\"39.65\" xlink:href=\"#mf505bb5648\" y=\"311.273873\"/>\n      </g>\n     </g>\n     <g id=\"text_22\">\n      <!-- 4000 -->\n      <g transform=\"translate(7.2 315.073091)scale(0.1 -0.1)\">\n       <use xlink:href=\"#DejaVuSans-34\"/>\n       <use x=\"63.623047\" xlink:href=\"#DejaVuSans-30\"/>\n       <use x=\"127.246094\" xlink:href=\"#DejaVuSans-30\"/>\n       <use x=\"190.869141\" xlink:href=\"#DejaVuSans-30\"/>\n      </g>\n     </g>\n    </g>\n    <g id=\"ytick_15\">\n     <g id=\"line2d_45\">\n      <g>\n       <use style=\"stroke:#000000;stroke-width:0.8;\" x=\"39.65\" xlink:href=\"#mf505bb5648\" y=\"283.296803\"/>\n      </g>\n     </g>\n     <g id=\"text_23\">\n      <!-- 5000 -->\n      <g transform=\"translate(7.2 287.096022)scale(0.1 -0.1)\">\n       <use xlink:href=\"#DejaVuSans-35\"/>\n       <use x=\"63.623047\" xlink:href=\"#DejaVuSans-30\"/>\n       <use x=\"127.246094\" xlink:href=\"#DejaVuSans-30\"/>\n       <use x=\"190.869141\" xlink:href=\"#DejaVuSans-30\"/>\n      </g>\n     </g>\n    </g>\n   </g>\n   <g id=\"line2d_46\">\n    <path clip-path=\"url(#p59929a813b)\" d=\"M 69.935227 395.072727 \nL 82.338733 381.100498 \nL 90.607737 372.03432 \nL 98.876741 363.258721 \nL 115.414749 345.946373 \nL 119.549251 341.202051 \nL 123.683753 338.183064 \nL 127.818256 336.091087 \nL 131.952758 335.025253 \nL 136.08726 334.873611 \nL 140.221762 335.357113 \nL 144.356264 336.062228 \nL 148.490766 336.611144 \nL 152.625268 336.880036 \nL 156.75977 336.770021 \nL 160.894272 336.176871 \nL 165.028774 335.184299 \nL 169.163276 333.965193 \nL 173.297778 332.477489 \nL 177.43228 330.57712 \nL 181.566782 328.189843 \nL 185.701284 325.152202 \nL 189.835786 321.34066 \nL 193.970288 316.880064 \nL 202.239292 307.289105 \nL 206.373794 302.796277 \nL 210.508296 298.904378 \nL 214.642798 295.660746 \nL 218.7773 292.923096 \nL 222.911802 290.627433 \nL 227.046304 288.762765 \nL 231.180806 287.282387 \nL 235.315308 286.146484 \nL 239.44981 285.31687 \nL 243.584312 284.720555 \nL 247.718814 284.527273 \nL 251.853316 284.998218 \nL 255.987818 286.154855 \nL 260.12232 287.785055 \nL 264.256822 289.589887 \nL 268.391324 291.151023 \nL 272.525826 292.318067 \nL 284.929332 295.173619 \nL 293.198336 297.241986 \nL 301.46734 298.838936 \nL 309.736344 300.009347 \nL 313.870846 300.361481 \nL 322.13985 300.844364 \nL 326.274352 301.257032 \nL 338.677858 302.803099 \nL 346.946862 303.578918 \nL 351.081364 303.797076 \nL 355.215866 303.792518 \nL 359.350368 303.545395 \nL 363.48487 303.077315 \nL 367.619372 302.444122 \nL 375.888377 300.825455 \nL 380.022879 299.835871 \nL 388.291883 297.512655 \nL 396.560887 295.222137 \nL 400.695389 294.35062 \nL 404.829891 293.718454 \nL 408.964393 293.32619 \nL 413.098895 293.253409 \nL 417.233397 293.537838 \nL 421.367899 294.130041 \nL 425.502401 295.008123 \nL 429.636903 296.224839 \nL 433.771405 297.777039 \nL 437.905907 299.611844 \nL 442.040409 301.704955 \nL 446.174911 304.028203 \nL 450.309413 306.511305 \nL 454.443915 309.181572 \nL 466.847421 317.779437 \nL 470.981923 320.164009 \nL 475.116425 322.096797 \nL 479.250927 323.576571 \nL 483.385429 324.711731 \nL 487.519931 325.6096 \nL 491.654433 326.270682 \nL 495.788935 326.647371 \nL 499.923437 326.72262 \nL 504.057939 326.536069 \nL 508.192441 326.1363 \nL 516.461445 325.016703 \nL 520.595947 324.316127 \nL 528.864951 322.701227 \nL 532.999453 322.039654 \nL 537.133955 321.523323 \nL 541.268457 321.161732 \nL 545.402959 320.970463 \nL 553.671963 320.935193 \nL 561.940967 321.082059 \nL 570.209971 320.960291 \nL 578.478975 320.680987 \nL 586.747979 320.138949 \nL 595.016983 319.364934 \nL 599.151485 318.854024 \nL 603.285987 318.213524 \nL 607.420489 317.36751 \nL 615.689493 315.146596 \nL 632.227502 310.461902 \nL 652.900012 304.616304 \nL 673.572522 298.774505 \nL 673.572522 298.774505 \n\" style=\"fill:none;stroke:#1f77b4;stroke-linecap:square;stroke-width:1.5;\"/>\n   </g>\n   <g id=\"line2d_47\">\n    <path clip-path=\"url(#p59929a813b)\" d=\"M 196.037539 400.6 \nL 196.037539 279 \n\" style=\"fill:none;stroke:#000000;stroke-dasharray:11.1,4.8;stroke-dashoffset:0;stroke-width:3;\"/>\n   </g>\n   <g id=\"line2d_48\">\n    <path clip-path=\"url(#p59929a813b)\" d=\"M 270.458575 400.6 \nL 270.458575 279 \n\" style=\"fill:none;stroke:#000000;stroke-dasharray:11.1,4.8;stroke-dashoffset:0;stroke-width:3;\"/>\n   </g>\n   <g id=\"patch_22\">\n    <path d=\"M 39.65 400.6 \nL 39.65 279 \n\" style=\"fill:none;stroke:#000000;stroke-linecap:square;stroke-linejoin:miter;stroke-width:0.8;\"/>\n   </g>\n   <g id=\"patch_23\">\n    <path d=\"M 705.925 400.6 \nL 705.925 279 \n\" style=\"fill:none;stroke:#000000;stroke-linecap:square;stroke-linejoin:miter;stroke-width:0.8;\"/>\n   </g>\n   <g id=\"patch_24\">\n    <path d=\"M 39.65 400.6 \nL 705.925 400.6 \n\" style=\"fill:none;stroke:#000000;stroke-linecap:square;stroke-linejoin:miter;stroke-width:0.8;\"/>\n   </g>\n   <g id=\"patch_25\">\n    <path d=\"M 39.65 279 \nL 705.925 279 \n\" style=\"fill:none;stroke:#000000;stroke-linecap:square;stroke-linejoin:miter;stroke-width:0.8;\"/>\n   </g>\n  </g>\n </g>\n <defs>\n  <clipPath id=\"pa8685d381a\">\n   <rect height=\"121.6\" width=\"666.275\" x=\"39.65\" y=\"7.2\"/>\n  </clipPath>\n  <clipPath id=\"pf4c9bab320\">\n   <rect height=\"121.6\" width=\"666.275\" x=\"39.65\" y=\"143.1\"/>\n  </clipPath>\n  <clipPath id=\"p59929a813b\">\n   <rect height=\"121.6\" width=\"666.275\" x=\"39.65\" y=\"279\"/>\n  </clipPath>\n </defs>\n</svg>\n",
      "image/png": "[encoded data removed]"
     },
     "metadata": {
      "needs_background": "light"
     }
    },
    {
     "output_type": "execute_result",
     "data": {
      "text/plain": [
       "array(['2020-12-03T00:00:00.000000000', '2020-12-21T00:00:00.000000000'],\n",
       "      dtype='datetime64[ns]')"
      ]
     },
     "metadata": {},
     "execution_count": 7
    }
   ],
   "source": [
    "# Determine change points\n",
    "get_change_points(pos, neu, neg, plot=True)"
   ]
  },
  {
   "cell_type": "code",
   "execution_count": 8,
   "metadata": {},
   "outputs": [
    {
     "output_type": "stream",
     "name": "stdout",
     "text": [
      "\n",
      "PRE-PROCESSING\n",
      "\n",
      "100%|██████████| 1609158/1609158 [00:00<00:00, 1901640.27it/s]\n",
      "\n",
      "CLEANING\n",
      "\n",
      "100%|██████████| 1609158/1609158 [01:22<00:00, 19533.36it/s]\n"
     ]
    }
   ],
   "source": [
    "# Process and clean locations\n",
    "df = clean_locations(df, workers=3, chunksize=100000)\n",
    "df.head(20)\n",
    "df.to_pickle('locatedDf.pkl')"
   ]
  },
  {
   "cell_type": "code",
   "execution_count": 9,
   "metadata": {},
   "outputs": [
    {
     "output_type": "display_data",
     "data": {
      "application/vnd.plotly.v1+json": {
       "config": {
        "linkText": "Export to plot.ly",
        "plotlyServerURL": "https://plot.ly",
        "showLink": false
       },
       "data": [
        {
         "coloraxis": "coloraxis",
         "geo": "geo",
         "hovertemplate": "Locations=%{location}<br>Proportion (thresh=None)=%{z}<extra></extra>",
         "locationmode": "USA-states",
         "locations": [
          "MI",
          "MD",
          "NM",
          "NY",
          "TX",
          "IL",
          "CA",
          "VA",
          "AZ",
          "DC",
          "MA",
          "FL",
          "CO",
          "OK",
          "IA",
          "NH",
          "AR",
          "IN",
          "OR",
          "GA",
          "MN",
          "CT",
          "KS",
          "SC",
          "AL",
          "GU",
          "MO",
          "TN",
          "RI",
          "PA",
          "ME",
          "MS",
          "WA",
          "ND",
          "NV",
          "DK",
          "NC",
          "OH",
          "NJ",
          "UT",
          "HI",
          "WI",
          "SD",
          "KY",
          "LA",
          "AK",
          "NE",
          "VT",
          "MT",
          "ID",
          "OL",
          "DE",
          "WV",
          "WY",
          "AS",
          "VI",
          "PI",
          "PR",
          "MP"
         ],
         "name": "",
         "type": "choropleth",
         "z": [
          0.42035956947868436,
          0.45064326791960635,
          0.4123148869836321,
          0.4310706885282379,
          0.41630204657727593,
          0.45278148912911453,
          0.43615109985028216,
          0.4357013098766612,
          0.4243958573072497,
          0.4445002511300854,
          0.47614796829250877,
          0.4095549026009359,
          0.44201236884163714,
          0.43864889705882354,
          0.44550359712230214,
          0.48927680798004985,
          0.4288401253918495,
          0.42185116801798184,
          0.4343867166577397,
          0.4194051771617404,
          0.44059945504087195,
          0.44680851063829785,
          0.446011673151751,
          0.42625641025641026,
          0.41845908728803916,
          0.3790983606557377,
          0.42674532940019666,
          0.4174643308650894,
          0.4916525980116301,
          0.4512448996585894,
          0.4169910693840165,
          0.45450409463148317,
          0.47205602628393567,
          0.3896636587366694,
          0.3808085167601784,
          0.5180722891566265,
          0.44696690045527254,
          0.4227774172615185,
          0.4393902289702461,
          0.46522593320235756,
          0.3948532368315239,
          0.41451895830522195,
          0.4392361111111111,
          0.4783169434144769,
          0.405254691689008,
          0.4225156358582349,
          0.4932760552857676,
          0.4241645244215938,
          0.43234165067178504,
          0.38315988647114474,
          0.32142857142857145,
          0.4099264705882353,
          0.47710622710622713,
          0.41289198606271776,
          0.41690962099125367,
          0.2222222222222222,
          0.29411764705882354,
          0.4552238805970149,
          0.5116279069767442
         ]
        }
       ],
       "layout": {
        "coloraxis": {
         "colorbar": {
          "title": {
           "text": "Proportion (thresh=None)"
          }
         },
         "colorscale": [
          [
           0,
           "rgb(103,0,31)"
          ],
          [
           0.1,
           "rgb(178,24,43)"
          ],
          [
           0.2,
           "rgb(214,96,77)"
          ],
          [
           0.3,
           "rgb(244,165,130)"
          ],
          [
           0.4,
           "rgb(253,219,199)"
          ],
          [
           0.5,
           "rgb(247,247,247)"
          ],
          [
           0.6,
           "rgb(209,229,240)"
          ],
          [
           0.7,
           "rgb(146,197,222)"
          ],
          [
           0.8,
           "rgb(67,147,195)"
          ],
          [
           0.9,
           "rgb(33,102,172)"
          ],
          [
           1,
           "rgb(5,48,97)"
          ]
         ]
        },
        "geo": {
         "domain": {
          "x": [
           0,
           1
          ],
          "y": [
           0,
           1
          ]
         },
         "scope": "usa"
        },
        "legend": {
         "tracegroupgap": 0
        },
        "margin": {
         "t": 60
        },
        "template": {
         "data": {
          "bar": [
           {
            "error_x": {
             "color": "#2a3f5f"
            },
            "error_y": {
             "color": "#2a3f5f"
            },
            "marker": {
             "line": {
              "color": "#E5ECF6",
              "width": 0.5
             }
            },
            "type": "bar"
           }
          ],
          "barpolar": [
           {
            "marker": {
             "line": {
              "color": "#E5ECF6",
              "width": 0.5
             }
            },
            "type": "barpolar"
           }
          ],
          "carpet": [
           {
            "aaxis": {
             "endlinecolor": "#2a3f5f",
             "gridcolor": "white",
             "linecolor": "white",
             "minorgridcolor": "white",
             "startlinecolor": "#2a3f5f"
            },
            "baxis": {
             "endlinecolor": "#2a3f5f",
             "gridcolor": "white",
             "linecolor": "white",
             "minorgridcolor": "white",
             "startlinecolor": "#2a3f5f"
            },
            "type": "carpet"
           }
          ],
          "choropleth": [
           {
            "colorbar": {
             "outlinewidth": 0,
             "ticks": ""
            },
            "type": "choropleth"
           }
          ],
          "contour": [
           {
            "colorbar": {
             "outlinewidth": 0,
             "ticks": ""
            },
            "colorscale": [
             [
              0,
              "#0d0887"
             ],
             [
              0.1111111111111111,
              "#46039f"
             ],
             [
              0.2222222222222222,
              "#7201a8"
             ],
             [
              0.3333333333333333,
              "#9c179e"
             ],
             [
              0.4444444444444444,
              "#bd3786"
             ],
             [
              0.5555555555555556,
              "#d8576b"
             ],
             [
              0.6666666666666666,
              "#ed7953"
             ],
             [
              0.7777777777777778,
              "#fb9f3a"
             ],
             [
              0.8888888888888888,
              "#fdca26"
             ],
             [
              1,
              "#f0f921"
             ]
            ],
            "type": "contour"
           }
          ],
          "contourcarpet": [
           {
            "colorbar": {
             "outlinewidth": 0,
             "ticks": ""
            },
            "type": "contourcarpet"
           }
          ],
          "heatmap": [
           {
            "colorbar": {
             "outlinewidth": 0,
             "ticks": ""
            },
            "colorscale": [
             [
              0,
              "#0d0887"
             ],
             [
              0.1111111111111111,
              "#46039f"
             ],
             [
              0.2222222222222222,
              "#7201a8"
             ],
             [
              0.3333333333333333,
              "#9c179e"
             ],
             [
              0.4444444444444444,
              "#bd3786"
             ],
             [
              0.5555555555555556,
              "#d8576b"
             ],
             [
              0.6666666666666666,
              "#ed7953"
             ],
             [
              0.7777777777777778,
              "#fb9f3a"
             ],
             [
              0.8888888888888888,
              "#fdca26"
             ],
             [
              1,
              "#f0f921"
             ]
            ],
            "type": "heatmap"
           }
          ],
          "heatmapgl": [
           {
            "colorbar": {
             "outlinewidth": 0,
             "ticks": ""
            },
            "colorscale": [
             [
              0,
              "#0d0887"
             ],
             [
              0.1111111111111111,
              "#46039f"
             ],
             [
              0.2222222222222222,
              "#7201a8"
             ],
             [
              0.3333333333333333,
              "#9c179e"
             ],
             [
              0.4444444444444444,
              "#bd3786"
             ],
             [
              0.5555555555555556,
              "#d8576b"
             ],
             [
              0.6666666666666666,
              "#ed7953"
             ],
             [
              0.7777777777777778,
              "#fb9f3a"
             ],
             [
              0.8888888888888888,
              "#fdca26"
             ],
             [
              1,
              "#f0f921"
             ]
            ],
            "type": "heatmapgl"
           }
          ],
          "histogram": [
           {
            "marker": {
             "colorbar": {
              "outlinewidth": 0,
              "ticks": ""
             }
            },
            "type": "histogram"
           }
          ],
          "histogram2d": [
           {
            "colorbar": {
             "outlinewidth": 0,
             "ticks": ""
            },
            "colorscale": [
             [
              0,
              "#0d0887"
             ],
             [
              0.1111111111111111,
              "#46039f"
             ],
             [
              0.2222222222222222,
              "#7201a8"
             ],
             [
              0.3333333333333333,
              "#9c179e"
             ],
             [
              0.4444444444444444,
              "#bd3786"
             ],
             [
              0.5555555555555556,
              "#d8576b"
             ],
             [
              0.6666666666666666,
              "#ed7953"
             ],
             [
              0.7777777777777778,
              "#fb9f3a"
             ],
             [
              0.8888888888888888,
              "#fdca26"
             ],
             [
              1,
              "#f0f921"
             ]
            ],
            "type": "histogram2d"
           }
          ],
          "histogram2dcontour": [
           {
            "colorbar": {
             "outlinewidth": 0,
             "ticks": ""
            },
            "colorscale": [
             [
              0,
              "#0d0887"
             ],
             [
              0.1111111111111111,
              "#46039f"
             ],
             [
              0.2222222222222222,
              "#7201a8"
             ],
             [
              0.3333333333333333,
              "#9c179e"
             ],
             [
              0.4444444444444444,
              "#bd3786"
             ],
             [
              0.5555555555555556,
              "#d8576b"
             ],
             [
              0.6666666666666666,
              "#ed7953"
             ],
             [
              0.7777777777777778,
              "#fb9f3a"
             ],
             [
              0.8888888888888888,
              "#fdca26"
             ],
             [
              1,
              "#f0f921"
             ]
            ],
            "type": "histogram2dcontour"
           }
          ],
          "mesh3d": [
           {
            "colorbar": {
             "outlinewidth": 0,
             "ticks": ""
            },
            "type": "mesh3d"
           }
          ],
          "parcoords": [
           {
            "line": {
             "colorbar": {
              "outlinewidth": 0,
              "ticks": ""
             }
            },
            "type": "parcoords"
           }
          ],
          "pie": [
           {
            "automargin": true,
            "type": "pie"
           }
          ],
          "scatter": [
           {
            "marker": {
             "colorbar": {
              "outlinewidth": 0,
              "ticks": ""
             }
            },
            "type": "scatter"
           }
          ],
          "scatter3d": [
           {
            "line": {
             "colorbar": {
              "outlinewidth": 0,
              "ticks": ""
             }
            },
            "marker": {
             "colorbar": {
              "outlinewidth": 0,
              "ticks": ""
             }
            },
            "type": "scatter3d"
           }
          ],
          "scattercarpet": [
           {
            "marker": {
             "colorbar": {
              "outlinewidth": 0,
              "ticks": ""
             }
            },
            "type": "scattercarpet"
           }
          ],
          "scattergeo": [
           {
            "marker": {
             "colorbar": {
              "outlinewidth": 0,
              "ticks": ""
             }
            },
            "type": "scattergeo"
           }
          ],
          "scattergl": [
           {
            "marker": {
             "colorbar": {
              "outlinewidth": 0,
              "ticks": ""
             }
            },
            "type": "scattergl"
           }
          ],
          "scattermapbox": [
           {
            "marker": {
             "colorbar": {
              "outlinewidth": 0,
              "ticks": ""
             }
            },
            "type": "scattermapbox"
           }
          ],
          "scatterpolar": [
           {
            "marker": {
             "colorbar": {
              "outlinewidth": 0,
              "ticks": ""
             }
            },
            "type": "scatterpolar"
           }
          ],
          "scatterpolargl": [
           {
            "marker": {
             "colorbar": {
              "outlinewidth": 0,
              "ticks": ""
             }
            },
            "type": "scatterpolargl"
           }
          ],
          "scatterternary": [
           {
            "marker": {
             "colorbar": {
              "outlinewidth": 0,
              "ticks": ""
             }
            },
            "type": "scatterternary"
           }
          ],
          "surface": [
           {
            "colorbar": {
             "outlinewidth": 0,
             "ticks": ""
            },
            "colorscale": [
             [
              0,
              "#0d0887"
             ],
             [
              0.1111111111111111,
              "#46039f"
             ],
             [
              0.2222222222222222,
              "#7201a8"
             ],
             [
              0.3333333333333333,
              "#9c179e"
             ],
             [
              0.4444444444444444,
              "#bd3786"
             ],
             [
              0.5555555555555556,
              "#d8576b"
             ],
             [
              0.6666666666666666,
              "#ed7953"
             ],
             [
              0.7777777777777778,
              "#fb9f3a"
             ],
             [
              0.8888888888888888,
              "#fdca26"
             ],
             [
              1,
              "#f0f921"
             ]
            ],
            "type": "surface"
           }
          ],
          "table": [
           {
            "cells": {
             "fill": {
              "color": "#EBF0F8"
             },
             "line": {
              "color": "white"
             }
            },
            "header": {
             "fill": {
              "color": "#C8D4E3"
             },
             "line": {
              "color": "white"
             }
            },
            "type": "table"
           }
          ]
         },
         "layout": {
          "annotationdefaults": {
           "arrowcolor": "#2a3f5f",
           "arrowhead": 0,
           "arrowwidth": 1
          },
          "autotypenumbers": "strict",
          "coloraxis": {
           "colorbar": {
            "outlinewidth": 0,
            "ticks": ""
           }
          },
          "colorscale": {
           "diverging": [
            [
             0,
             "#8e0152"
            ],
            [
             0.1,
             "#c51b7d"
            ],
            [
             0.2,
             "#de77ae"
            ],
            [
             0.3,
             "#f1b6da"
            ],
            [
             0.4,
             "#fde0ef"
            ],
            [
             0.5,
             "#f7f7f7"
            ],
            [
             0.6,
             "#e6f5d0"
            ],
            [
             0.7,
             "#b8e186"
            ],
            [
             0.8,
             "#7fbc41"
            ],
            [
             0.9,
             "#4d9221"
            ],
            [
             1,
             "#276419"
            ]
           ],
           "sequential": [
            [
             0,
             "#0d0887"
            ],
            [
             0.1111111111111111,
             "#46039f"
            ],
            [
             0.2222222222222222,
             "#7201a8"
            ],
            [
             0.3333333333333333,
             "#9c179e"
            ],
            [
             0.4444444444444444,
             "#bd3786"
            ],
            [
             0.5555555555555556,
             "#d8576b"
            ],
            [
             0.6666666666666666,
             "#ed7953"
            ],
            [
             0.7777777777777778,
             "#fb9f3a"
            ],
            [
             0.8888888888888888,
             "#fdca26"
            ],
            [
             1,
             "#f0f921"
            ]
           ],
           "sequentialminus": [
            [
             0,
             "#0d0887"
            ],
            [
             0.1111111111111111,
             "#46039f"
            ],
            [
             0.2222222222222222,
             "#7201a8"
            ],
            [
             0.3333333333333333,
             "#9c179e"
            ],
            [
             0.4444444444444444,
             "#bd3786"
            ],
            [
             0.5555555555555556,
             "#d8576b"
            ],
            [
             0.6666666666666666,
             "#ed7953"
            ],
            [
             0.7777777777777778,
             "#fb9f3a"
            ],
            [
             0.8888888888888888,
             "#fdca26"
            ],
            [
             1,
             "#f0f921"
            ]
           ]
          },
          "colorway": [
           "#636efa",
           "#EF553B",
           "#00cc96",
           "#ab63fa",
           "#FFA15A",
           "#19d3f3",
           "#FF6692",
           "#B6E880",
           "#FF97FF",
           "#FECB52"
          ],
          "font": {
           "color": "#2a3f5f"
          },
          "geo": {
           "bgcolor": "white",
           "lakecolor": "white",
           "landcolor": "#E5ECF6",
           "showlakes": true,
           "showland": true,
           "subunitcolor": "white"
          },
          "hoverlabel": {
           "align": "left"
          },
          "hovermode": "closest",
          "mapbox": {
           "style": "light"
          },
          "paper_bgcolor": "white",
          "plot_bgcolor": "#E5ECF6",
          "polar": {
           "angularaxis": {
            "gridcolor": "white",
            "linecolor": "white",
            "ticks": ""
           },
           "bgcolor": "#E5ECF6",
           "radialaxis": {
            "gridcolor": "white",
            "linecolor": "white",
            "ticks": ""
           }
          },
          "scene": {
           "xaxis": {
            "backgroundcolor": "#E5ECF6",
            "gridcolor": "white",
            "gridwidth": 2,
            "linecolor": "white",
            "showbackground": true,
            "ticks": "",
            "zerolinecolor": "white"
           },
           "yaxis": {
            "backgroundcolor": "#E5ECF6",
            "gridcolor": "white",
            "gridwidth": 2,
            "linecolor": "white",
            "showbackground": true,
            "ticks": "",
            "zerolinecolor": "white"
           },
           "zaxis": {
            "backgroundcolor": "#E5ECF6",
            "gridcolor": "white",
            "gridwidth": 2,
            "linecolor": "white",
            "showbackground": true,
            "ticks": "",
            "zerolinecolor": "white"
           }
          },
          "shapedefaults": {
           "line": {
            "color": "#2a3f5f"
           }
          },
          "ternary": {
           "aaxis": {
            "gridcolor": "white",
            "linecolor": "white",
            "ticks": ""
           },
           "baxis": {
            "gridcolor": "white",
            "linecolor": "white",
            "ticks": ""
           },
           "bgcolor": "#E5ECF6",
           "caxis": {
            "gridcolor": "white",
            "linecolor": "white",
            "ticks": ""
           }
          },
          "title": {
           "x": 0.05
          },
          "xaxis": {
           "automargin": true,
           "gridcolor": "white",
           "linecolor": "white",
           "ticks": "",
           "title": {
            "standoff": 15
           },
           "zerolinecolor": "white",
           "zerolinewidth": 2
          },
          "yaxis": {
           "automargin": true,
           "gridcolor": "white",
           "linecolor": "white",
           "ticks": "",
           "title": {
            "standoff": 15
           },
           "zerolinecolor": "white",
           "zerolinewidth": 2
          }
         }
        },
        "title": {
         "text": "Proportion of positive tweets for each US state"
        }
       }
      }
     },
     "metadata": {}
    },
    {
     "output_type": "display_data",
     "data": {
      "text/plain": "<Figure size 432x288 with 1 Axes>",
      "image/svg+xml": "<?xml version=\"1.0\" encoding=\"utf-8\" standalone=\"no\"?>\n<!DOCTYPE svg PUBLIC \"-//W3C//DTD SVG 1.1//EN\"\n  \"http://www.w3.org/Graphics/SVG/1.1/DTD/svg11.dtd\">\n<svg height=\"248.518125pt\" version=\"1.1\" viewBox=\"0 0 388.0125 248.518125\" width=\"388.0125pt\" xmlns=\"http://www.w3.org/2000/svg\" xmlns:xlink=\"http://www.w3.org/1999/xlink\">\n <metadata>\n  <rdf:RDF xmlns:cc=\"http://creativecommons.org/ns#\" xmlns:dc=\"http://purl.org/dc/elements/1.1/\" xmlns:rdf=\"http://www.w3.org/1999/02/22-rdf-syntax-ns#\">\n   <cc:Work>\n    <dc:type rdf:resource=\"http://purl.org/dc/dcmitype/StillImage\"/>\n    <dc:date>2021-04-23T17:32:41.095464</dc:date>\n    <dc:format>image/svg+xml</dc:format>\n    <dc:creator>\n     <cc:Agent>\n      <dc:title>Matplotlib v3.4.1, https://matplotlib.org/</dc:title>\n     </cc:Agent>\n    </dc:creator>\n   </cc:Work>\n  </rdf:RDF>\n </metadata>\n <defs>\n  <style type=\"text/css\">*{stroke-linecap:butt;stroke-linejoin:round;}</style>\n </defs>\n <g id=\"figure_1\">\n  <g id=\"patch_1\">\n   <path d=\"M 0 248.518125 \nL 388.0125 248.518125 \nL 388.0125 0 \nL 0 0 \nz\n\" style=\"fill:none;\"/>\n  </g>\n  <g id=\"axes_1\">\n   <g id=\"patch_2\">\n    <path d=\"M 46.0125 224.64 \nL 380.8125 224.64 \nL 380.8125 7.2 \nL 46.0125 7.2 \nz\n\" style=\"fill:#ffffff;\"/>\n   </g>\n   <g id=\"patch_3\">\n    <path clip-path=\"url(#p90da4606be)\" d=\"M 61.230682 224.64 \nL 65.371684 224.64 \nL 65.371684 184.9758 \nL 61.230682 184.9758 \nz\n\" style=\"fill:#1f77b4;\"/>\n   </g>\n   <g id=\"patch_4\">\n    <path clip-path=\"url(#p90da4606be)\" d=\"M 66.406934 224.64 \nL 70.547936 224.64 \nL 70.547936 184.41295 \nL 66.406934 184.41295 \nz\n\" style=\"fill:#1f77b4;\"/>\n   </g>\n   <g id=\"patch_5\">\n    <path clip-path=\"url(#p90da4606be)\" d=\"M 71.583186 224.64 \nL 75.724188 224.64 \nL 75.724188 218.520203 \nL 71.583186 218.520203 \nz\n\" style=\"fill:#1f77b4;\"/>\n   </g>\n   <g id=\"patch_6\">\n    <path clip-path=\"url(#p90da4606be)\" d=\"M 76.759439 224.64 \nL 80.900441 224.64 \nL 80.900441 53.144981 \nL 76.759439 53.144981 \nz\n\" style=\"fill:#1f77b4;\"/>\n   </g>\n   <g id=\"patch_7\">\n    <path clip-path=\"url(#p90da4606be)\" d=\"M 81.935691 224.64 \nL 86.076693 224.64 \nL 86.076693 123.255528 \nL 81.935691 123.255528 \nz\n\" style=\"fill:#1f77b4;\"/>\n   </g>\n   <g id=\"patch_8\">\n    <path clip-path=\"url(#p90da4606be)\" d=\"M 87.111943 224.64 \nL 91.252945 224.64 \nL 91.252945 146.098635 \nL 87.111943 146.098635 \nz\n\" style=\"fill:#1f77b4;\"/>\n   </g>\n   <g id=\"patch_9\">\n    <path clip-path=\"url(#p90da4606be)\" d=\"M 92.288196 224.64 \nL 96.429198 224.64 \nL 96.429198 17.554286 \nL 92.288196 17.554286 \nz\n\" style=\"fill:#1f77b4;\"/>\n   </g>\n   <g id=\"patch_10\">\n    <path clip-path=\"url(#p90da4606be)\" d=\"M 97.464448 224.64 \nL 101.60545 224.64 \nL 101.60545 199.695747 \nL 97.464448 199.695747 \nz\n\" style=\"fill:#1f77b4;\"/>\n   </g>\n   <g id=\"patch_11\">\n    <path clip-path=\"url(#p90da4606be)\" d=\"M 102.6407 224.64 \nL 106.781702 224.64 \nL 106.781702 183.189468 \nL 102.6407 183.189468 \nz\n\" style=\"fill:#1f77b4;\"/>\n   </g>\n   <g id=\"patch_12\">\n    <path clip-path=\"url(#p90da4606be)\" d=\"M 107.816953 224.64 \nL 111.957955 224.64 \nL 111.957955 219.891553 \nL 107.816953 219.891553 \nz\n\" style=\"fill:#1f77b4;\"/>\n   </g>\n   <g id=\"patch_13\">\n    <path clip-path=\"url(#p90da4606be)\" d=\"M 112.993205 224.64 \nL 117.134207 224.64 \nL 117.134207 157.846927 \nL 112.993205 157.846927 \nz\n\" style=\"fill:#1f77b4;\"/>\n   </g>\n   <g id=\"patch_14\">\n    <path clip-path=\"url(#p90da4606be)\" d=\"M 118.169457 224.64 \nL 122.310459 224.64 \nL 122.310459 115.063205 \nL 118.169457 115.063205 \nz\n\" style=\"fill:#1f77b4;\"/>\n   </g>\n   <g id=\"patch_15\">\n    <path clip-path=\"url(#p90da4606be)\" d=\"M 123.34571 224.64 \nL 127.486712 224.64 \nL 127.486712 190.318101 \nL 123.34571 190.318101 \nz\n\" style=\"fill:#1f77b4;\"/>\n   </g>\n   <g id=\"patch_16\">\n    <path clip-path=\"url(#p90da4606be)\" d=\"M 128.521962 224.64 \nL 132.662964 224.64 \nL 132.662964 214.260672 \nL 128.521962 214.260672 \nz\n\" style=\"fill:#1f77b4;\"/>\n   </g>\n   <g id=\"patch_17\">\n    <path clip-path=\"url(#p90da4606be)\" d=\"M 133.698214 224.64 \nL 137.839216 224.64 \nL 137.839216 211.379646 \nL 133.698214 211.379646 \nz\n\" style=\"fill:#1f77b4;\"/>\n   </g>\n   <g id=\"patch_18\">\n    <path clip-path=\"url(#p90da4606be)\" d=\"M 138.874467 224.64 \nL 143.015468 224.64 \nL 143.015468 210.294491 \nL 138.874467 210.294491 \nz\n\" style=\"fill:#1f77b4;\"/>\n   </g>\n   <g id=\"patch_19\">\n    <path clip-path=\"url(#p90da4606be)\" d=\"M 144.050719 224.64 \nL 148.191721 224.64 \nL 148.191721 217.031991 \nL 144.050719 217.031991 \nz\n\" style=\"fill:#1f77b4;\"/>\n   </g>\n   <g id=\"patch_20\">\n    <path clip-path=\"url(#p90da4606be)\" d=\"M 149.226971 224.64 \nL 153.367973 224.64 \nL 153.367973 194.930605 \nL 149.226971 194.930605 \nz\n\" style=\"fill:#1f77b4;\"/>\n   </g>\n   <g id=\"patch_21\">\n    <path clip-path=\"url(#p90da4606be)\" d=\"M 154.403224 224.64 \nL 158.544225 224.64 \nL 158.544225 202.376437 \nL 154.403224 202.376437 \nz\n\" style=\"fill:#1f77b4;\"/>\n   </g>\n   <g id=\"patch_22\">\n    <path clip-path=\"url(#p90da4606be)\" d=\"M 159.579476 224.64 \nL 163.720478 224.64 \nL 163.720478 172.676582 \nL 159.579476 172.676582 \nz\n\" style=\"fill:#1f77b4;\"/>\n   </g>\n   <g id=\"patch_23\">\n    <path clip-path=\"url(#p90da4606be)\" d=\"M 164.755728 224.64 \nL 168.89673 224.64 \nL 168.89673 189.628848 \nL 164.755728 189.628848 \nz\n\" style=\"fill:#1f77b4;\"/>\n   </g>\n   <g id=\"patch_24\">\n    <path clip-path=\"url(#p90da4606be)\" d=\"M 169.931981 224.64 \nL 174.072982 224.64 \nL 174.072982 209.507455 \nL 169.931981 209.507455 \nz\n\" style=\"fill:#1f77b4;\"/>\n   </g>\n   <g id=\"patch_25\">\n    <path clip-path=\"url(#p90da4606be)\" d=\"M 175.108233 224.64 \nL 179.249235 224.64 \nL 179.249235 209.929592 \nL 175.108233 209.929592 \nz\n\" style=\"fill:#1f77b4;\"/>\n   </g>\n   <g id=\"patch_26\">\n    <path clip-path=\"url(#p90da4606be)\" d=\"M 180.284485 224.64 \nL 184.425487 224.64 \nL 184.425487 213.01334 \nL 180.284485 213.01334 \nz\n\" style=\"fill:#1f77b4;\"/>\n   </g>\n   <g id=\"patch_27\">\n    <path clip-path=\"url(#p90da4606be)\" d=\"M 185.460737 224.64 \nL 189.601739 224.64 \nL 189.601739 203.683393 \nL 185.460737 203.683393 \nz\n\" style=\"fill:#1f77b4;\"/>\n   </g>\n   <g id=\"patch_28\">\n    <path clip-path=\"url(#p90da4606be)\" d=\"M 190.63699 224.64 \nL 194.777992 224.64 \nL 194.777992 223.476142 \nL 190.63699 223.476142 \nz\n\" style=\"fill:#1f77b4;\"/>\n   </g>\n   <g id=\"patch_29\">\n    <path clip-path=\"url(#p90da4606be)\" d=\"M 195.813242 224.64 \nL 199.954244 224.64 \nL 199.954244 207.661499 \nL 195.813242 207.661499 \nz\n\" style=\"fill:#1f77b4;\"/>\n   </g>\n   <g id=\"patch_30\">\n    <path clip-path=\"url(#p90da4606be)\" d=\"M 200.989494 224.64 \nL 205.130496 224.64 \nL 205.130496 198.228999 \nL 200.989494 198.228999 \nz\n\" style=\"fill:#1f77b4;\"/>\n   </g>\n   <g id=\"patch_31\">\n    <path clip-path=\"url(#p90da4606be)\" d=\"M 206.165747 224.64 \nL 210.306749 224.64 \nL 210.306749 211.9258 \nL 206.165747 211.9258 \nz\n\" style=\"fill:#1f77b4;\"/>\n   </g>\n   <g id=\"patch_32\">\n    <path clip-path=\"url(#p90da4606be)\" d=\"M 211.341999 224.64 \nL 215.483001 224.64 \nL 215.483001 167.358131 \nL 211.341999 167.358131 \nz\n\" style=\"fill:#1f77b4;\"/>\n   </g>\n   <g id=\"patch_33\">\n    <path clip-path=\"url(#p90da4606be)\" d=\"M 216.518251 224.64 \nL 220.659253 224.64 \nL 220.659253 214.224898 \nL 216.518251 214.224898 \nz\n\" style=\"fill:#1f77b4;\"/>\n   </g>\n   <g id=\"patch_34\">\n    <path clip-path=\"url(#p90da4606be)\" d=\"M 221.694504 224.64 \nL 225.835506 224.64 \nL 225.835506 214.155734 \nL 221.694504 214.155734 \nz\n\" style=\"fill:#1f77b4;\"/>\n   </g>\n   <g id=\"patch_35\">\n    <path clip-path=\"url(#p90da4606be)\" d=\"M 226.870756 224.64 \nL 231.011758 224.64 \nL 231.011758 86.718005 \nL 226.870756 86.718005 \nz\n\" style=\"fill:#1f77b4;\"/>\n   </g>\n   <g id=\"patch_36\">\n    <path clip-path=\"url(#p90da4606be)\" d=\"M 232.047008 224.64 \nL 236.18801 224.64 \nL 236.18801 221.732739 \nL 232.047008 221.732739 \nz\n\" style=\"fill:#1f77b4;\"/>\n   </g>\n   <g id=\"patch_37\">\n    <path clip-path=\"url(#p90da4606be)\" d=\"M 237.223261 224.64 \nL 241.364263 224.64 \nL 241.364263 208.062172 \nL 237.223261 208.062172 \nz\n\" style=\"fill:#1f77b4;\"/>\n   </g>\n   <g id=\"patch_38\">\n    <path clip-path=\"url(#p90da4606be)\" d=\"M 242.399513 224.64 \nL 246.540515 224.64 \nL 246.540515 224.442049 \nL 242.399513 224.442049 \nz\n\" style=\"fill:#1f77b4;\"/>\n   </g>\n   <g id=\"patch_39\">\n    <path clip-path=\"url(#p90da4606be)\" d=\"M 247.575765 224.64 \nL 251.716767 224.64 \nL 251.716767 185.874928 \nL 247.575765 185.874928 \nz\n\" style=\"fill:#1f77b4;\"/>\n   </g>\n   <g id=\"patch_40\">\n    <path clip-path=\"url(#p90da4606be)\" d=\"M 252.752018 224.64 \nL 256.893019 224.64 \nL 256.893019 173.186963 \nL 252.752018 173.186963 \nz\n\" style=\"fill:#1f77b4;\"/>\n   </g>\n   <g id=\"patch_41\">\n    <path clip-path=\"url(#p90da4606be)\" d=\"M 257.92827 224.64 \nL 262.069272 224.64 \nL 262.069272 185.684132 \nL 257.92827 185.684132 \nz\n\" style=\"fill:#1f77b4;\"/>\n   </g>\n   <g id=\"patch_42\">\n    <path clip-path=\"url(#p90da4606be)\" d=\"M 263.104522 224.64 \nL 267.245524 224.64 \nL 267.245524 212.500575 \nL 263.104522 212.500575 \nz\n\" style=\"fill:#1f77b4;\"/>\n   </g>\n   <g id=\"patch_43\">\n    <path clip-path=\"url(#p90da4606be)\" d=\"M 268.280775 224.64 \nL 272.421776 224.64 \nL 272.421776 218.708615 \nL 268.280775 218.708615 \nz\n\" style=\"fill:#1f77b4;\"/>\n   </g>\n   <g id=\"patch_44\">\n    <path clip-path=\"url(#p90da4606be)\" d=\"M 273.457027 224.64 \nL 277.598029 224.64 \nL 277.598029 206.965092 \nL 273.457027 206.965092 \nz\n\" style=\"fill:#1f77b4;\"/>\n   </g>\n   <g id=\"patch_45\">\n    <path clip-path=\"url(#p90da4606be)\" d=\"M 278.633279 224.64 \nL 282.774281 224.64 \nL 282.774281 221.892531 \nL 278.633279 221.892531 \nz\n\" style=\"fill:#1f77b4;\"/>\n   </g>\n   <g id=\"patch_46\">\n    <path clip-path=\"url(#p90da4606be)\" d=\"M 283.809532 224.64 \nL 287.950533 224.64 \nL 287.950533 209.846119 \nL 283.809532 209.846119 \nz\n\" style=\"fill:#1f77b4;\"/>\n   </g>\n   <g id=\"patch_47\">\n    <path clip-path=\"url(#p90da4606be)\" d=\"M 288.985784 224.64 \nL 293.126786 224.64 \nL 293.126786 202.400287 \nL 288.985784 202.400287 \nz\n\" style=\"fill:#1f77b4;\"/>\n   </g>\n   <g id=\"patch_48\">\n    <path clip-path=\"url(#p90da4606be)\" d=\"M 294.162036 224.64 \nL 298.303038 224.64 \nL 298.303038 221.208049 \nL 294.162036 221.208049 \nz\n\" style=\"fill:#1f77b4;\"/>\n   </g>\n   <g id=\"patch_49\">\n    <path clip-path=\"url(#p90da4606be)\" d=\"M 299.338288 224.64 \nL 303.47929 224.64 \nL 303.47929 211.870947 \nL 299.338288 211.870947 \nz\n\" style=\"fill:#1f77b4;\"/>\n   </g>\n   <g id=\"patch_50\">\n    <path clip-path=\"url(#p90da4606be)\" d=\"M 304.514541 224.64 \nL 308.655543 224.64 \nL 308.655543 220.929009 \nL 304.514541 220.929009 \nz\n\" style=\"fill:#1f77b4;\"/>\n   </g>\n   <g id=\"patch_51\">\n    <path clip-path=\"url(#p90da4606be)\" d=\"M 309.690793 224.64 \nL 313.831795 224.64 \nL 313.831795 219.669752 \nL 309.690793 219.669752 \nz\n\" style=\"fill:#1f77b4;\"/>\n   </g>\n   <g id=\"patch_52\">\n    <path clip-path=\"url(#p90da4606be)\" d=\"M 314.867045 224.64 \nL 319.008047 224.64 \nL 319.008047 217.077305 \nL 314.867045 217.077305 \nz\n\" style=\"fill:#1f77b4;\"/>\n   </g>\n   <g id=\"patch_53\">\n    <path clip-path=\"url(#p90da4606be)\" d=\"M 320.043298 224.64 \nL 324.1843 224.64 \nL 324.1843 224.372885 \nL 320.043298 224.372885 \nz\n\" style=\"fill:#1f77b4;\"/>\n   </g>\n   <g id=\"patch_54\">\n    <path clip-path=\"url(#p90da4606be)\" d=\"M 325.21955 224.64 \nL 329.360552 224.64 \nL 329.360552 216.855504 \nL 325.21955 216.855504 \nz\n\" style=\"fill:#1f77b4;\"/>\n   </g>\n   <g id=\"patch_55\">\n    <path clip-path=\"url(#p90da4606be)\" d=\"M 330.395802 224.64 \nL 334.536804 224.64 \nL 334.536804 222.035628 \nL 330.395802 222.035628 \nz\n\" style=\"fill:#1f77b4;\"/>\n   </g>\n   <g id=\"patch_56\">\n    <path clip-path=\"url(#p90da4606be)\" d=\"M 335.572055 224.64 \nL 339.713057 224.64 \nL 339.713057 223.271035 \nL 335.572055 223.271035 \nz\n\" style=\"fill:#1f77b4;\"/>\n   </g>\n   <g id=\"patch_57\">\n    <path clip-path=\"url(#p90da4606be)\" d=\"M 340.748307 224.64 \nL 344.889309 224.64 \nL 344.889309 223.82196 \nL 340.748307 223.82196 \nz\n\" style=\"fill:#1f77b4;\"/>\n   </g>\n   <g id=\"patch_58\">\n    <path clip-path=\"url(#p90da4606be)\" d=\"M 345.924559 224.64 \nL 350.065561 224.64 \nL 350.065561 224.597071 \nL 345.924559 224.597071 \nz\n\" style=\"fill:#1f77b4;\"/>\n   </g>\n   <g id=\"patch_59\">\n    <path clip-path=\"url(#p90da4606be)\" d=\"M 351.100812 224.64 \nL 355.241814 224.64 \nL 355.241814 224.599456 \nL 351.100812 224.599456 \nz\n\" style=\"fill:#1f77b4;\"/>\n   </g>\n   <g id=\"patch_60\">\n    <path clip-path=\"url(#p90da4606be)\" d=\"M 356.277064 224.64 \nL 360.418066 224.64 \nL 360.418066 224.320416 \nL 356.277064 224.320416 \nz\n\" style=\"fill:#1f77b4;\"/>\n   </g>\n   <g id=\"patch_61\">\n    <path clip-path=\"url(#p90da4606be)\" d=\"M 361.453316 224.64 \nL 365.594318 224.64 \nL 365.594318 224.537447 \nL 361.453316 224.537447 \nz\n\" style=\"fill:#1f77b4;\"/>\n   </g>\n   <g id=\"matplotlib.axis_1\">\n    <g id=\"xtick_1\">\n     <g id=\"line2d_1\">\n      <defs>\n       <path d=\"M 0 0 \nL 0 3.5 \n\" id=\"m9356a4d762\" style=\"stroke:#000000;stroke-width:0.8;\"/>\n      </defs>\n      <g>\n       <use style=\"stroke:#000000;stroke-width:0.8;\" x=\"63.301183\" xlink:href=\"#m9356a4d762\" y=\"224.64\"/>\n      </g>\n     </g>\n     <g id=\"text_1\">\n      <!-- MI -->\n      <g transform=\"translate(57.51212 239.238438)scale(0.1 -0.1)\">\n       <defs>\n        <path d=\"M 628 4666 \nL 1569 4666 \nL 2759 1491 \nL 3956 4666 \nL 4897 4666 \nL 4897 0 \nL 4281 0 \nL 4281 4097 \nL 3078 897 \nL 2444 897 \nL 1241 4097 \nL 1241 0 \nL 628 0 \nL 628 4666 \nz\n\" id=\"DejaVuSans-4d\" transform=\"scale(0.015625)\"/>\n        <path d=\"M 628 4666 \nL 1259 4666 \nL 1259 0 \nL 628 0 \nL 628 4666 \nz\n\" id=\"DejaVuSans-49\" transform=\"scale(0.015625)\"/>\n       </defs>\n       <use xlink:href=\"#DejaVuSans-4d\"/>\n       <use x=\"86.279297\" xlink:href=\"#DejaVuSans-49\"/>\n      </g>\n     </g>\n    </g>\n    <g id=\"xtick_2\">\n     <g id=\"line2d_2\">\n      <g>\n       <use style=\"stroke:#000000;stroke-width:0.8;\" x=\"68.477435\" xlink:href=\"#m9356a4d762\" y=\"224.64\"/>\n      </g>\n     </g>\n     <g id=\"text_2\">\n      <!-- MD -->\n      <g transform=\"translate(60.313373 239.238438)scale(0.1 -0.1)\">\n       <defs>\n        <path d=\"M 1259 4147 \nL 1259 519 \nL 2022 519 \nQ 2988 519 3436 956 \nQ 3884 1394 3884 2338 \nQ 3884 3275 3436 3711 \nQ 2988 4147 2022 4147 \nL 1259 4147 \nz\nM 628 4666 \nL 1925 4666 \nQ 3281 4666 3915 4102 \nQ 4550 3538 4550 2338 \nQ 4550 1131 3912 565 \nQ 3275 0 1925 0 \nL 628 0 \nL 628 4666 \nz\n\" id=\"DejaVuSans-44\" transform=\"scale(0.015625)\"/>\n       </defs>\n       <use xlink:href=\"#DejaVuSans-4d\"/>\n       <use x=\"86.279297\" xlink:href=\"#DejaVuSans-44\"/>\n      </g>\n     </g>\n    </g>\n    <g id=\"xtick_3\">\n     <g id=\"line2d_3\">\n      <g>\n       <use style=\"stroke:#000000;stroke-width:0.8;\" x=\"73.653687\" xlink:href=\"#m9356a4d762\" y=\"224.64\"/>\n      </g>\n     </g>\n     <g id=\"text_3\">\n      <!-- NM -->\n      <g transform=\"translate(65.599 239.238438)scale(0.1 -0.1)\">\n       <defs>\n        <path d=\"M 628 4666 \nL 1478 4666 \nL 3547 763 \nL 3547 4666 \nL 4159 4666 \nL 4159 0 \nL 3309 0 \nL 1241 3903 \nL 1241 0 \nL 628 0 \nL 628 4666 \nz\n\" id=\"DejaVuSans-4e\" transform=\"scale(0.015625)\"/>\n       </defs>\n       <use xlink:href=\"#DejaVuSans-4e\"/>\n       <use x=\"74.804688\" xlink:href=\"#DejaVuSans-4d\"/>\n      </g>\n     </g>\n    </g>\n    <g id=\"xtick_4\">\n     <g id=\"line2d_4\">\n      <g>\n       <use style=\"stroke:#000000;stroke-width:0.8;\" x=\"78.82994\" xlink:href=\"#m9356a4d762\" y=\"224.64\"/>\n      </g>\n     </g>\n     <g id=\"text_4\">\n      <!-- NY -->\n      <g transform=\"translate(72.035408 239.238438)scale(0.1 -0.1)\">\n       <defs>\n        <path d=\"M -13 4666 \nL 666 4666 \nL 1959 2747 \nL 3244 4666 \nL 3922 4666 \nL 2272 2222 \nL 2272 0 \nL 1638 0 \nL 1638 2222 \nL -13 4666 \nz\n\" id=\"DejaVuSans-59\" transform=\"scale(0.015625)\"/>\n       </defs>\n       <use xlink:href=\"#DejaVuSans-4e\"/>\n       <use x=\"74.804688\" xlink:href=\"#DejaVuSans-59\"/>\n      </g>\n     </g>\n    </g>\n    <g id=\"xtick_5\">\n     <g id=\"line2d_5\">\n      <g>\n       <use style=\"stroke:#000000;stroke-width:0.8;\" x=\"84.006192\" xlink:href=\"#m9356a4d762\" y=\"224.64\"/>\n      </g>\n     </g>\n     <g id=\"text_5\">\n      <!-- TX -->\n      <g transform=\"translate(77.527286 239.238438)scale(0.1 -0.1)\">\n       <defs>\n        <path d=\"M -19 4666 \nL 3928 4666 \nL 3928 4134 \nL 2272 4134 \nL 2272 0 \nL 1638 0 \nL 1638 4134 \nL -19 4134 \nL -19 4666 \nz\n\" id=\"DejaVuSans-54\" transform=\"scale(0.015625)\"/>\n        <path d=\"M 403 4666 \nL 1081 4666 \nL 2241 2931 \nL 3406 4666 \nL 4084 4666 \nL 2584 2425 \nL 4184 0 \nL 3506 0 \nL 2194 1984 \nL 872 0 \nL 191 0 \nL 1856 2491 \nL 403 4666 \nz\n\" id=\"DejaVuSans-58\" transform=\"scale(0.015625)\"/>\n       </defs>\n       <use xlink:href=\"#DejaVuSans-54\"/>\n       <use x=\"61.083984\" xlink:href=\"#DejaVuSans-58\"/>\n      </g>\n     </g>\n    </g>\n    <g id=\"xtick_6\">\n     <g id=\"line2d_6\">\n      <g>\n       <use style=\"stroke:#000000;stroke-width:0.8;\" x=\"89.182444\" xlink:href=\"#m9356a4d762\" y=\"224.64\"/>\n      </g>\n     </g>\n     <g id=\"text_6\">\n      <!-- IL -->\n      <g transform=\"translate(84.921507 239.238438)scale(0.1 -0.1)\">\n       <defs>\n        <path d=\"M 628 4666 \nL 1259 4666 \nL 1259 531 \nL 3531 531 \nL 3531 0 \nL 628 0 \nL 628 4666 \nz\n\" id=\"DejaVuSans-4c\" transform=\"scale(0.015625)\"/>\n       </defs>\n       <use xlink:href=\"#DejaVuSans-49\"/>\n       <use x=\"29.492188\" xlink:href=\"#DejaVuSans-4c\"/>\n      </g>\n     </g>\n    </g>\n    <g id=\"xtick_7\">\n     <g id=\"line2d_7\">\n      <g>\n       <use style=\"stroke:#000000;stroke-width:0.8;\" x=\"94.358697\" xlink:href=\"#m9356a4d762\" y=\"224.64\"/>\n      </g>\n     </g>\n     <g id=\"text_7\">\n      <!-- CA -->\n      <g transform=\"translate(87.446978 239.238438)scale(0.1 -0.1)\">\n       <defs>\n        <path d=\"M 4122 4306 \nL 4122 3641 \nQ 3803 3938 3442 4084 \nQ 3081 4231 2675 4231 \nQ 1875 4231 1450 3742 \nQ 1025 3253 1025 2328 \nQ 1025 1406 1450 917 \nQ 1875 428 2675 428 \nQ 3081 428 3442 575 \nQ 3803 722 4122 1019 \nL 4122 359 \nQ 3791 134 3420 21 \nQ 3050 -91 2638 -91 \nQ 1578 -91 968 557 \nQ 359 1206 359 2328 \nQ 359 3453 968 4101 \nQ 1578 4750 2638 4750 \nQ 3056 4750 3426 4639 \nQ 3797 4528 4122 4306 \nz\n\" id=\"DejaVuSans-43\" transform=\"scale(0.015625)\"/>\n        <path d=\"M 2188 4044 \nL 1331 1722 \nL 3047 1722 \nL 2188 4044 \nz\nM 1831 4666 \nL 2547 4666 \nL 4325 0 \nL 3669 0 \nL 3244 1197 \nL 1141 1197 \nL 716 0 \nL 50 0 \nL 1831 4666 \nz\n\" id=\"DejaVuSans-41\" transform=\"scale(0.015625)\"/>\n       </defs>\n       <use xlink:href=\"#DejaVuSans-43\"/>\n       <use x=\"69.824219\" xlink:href=\"#DejaVuSans-41\"/>\n      </g>\n     </g>\n    </g>\n    <g id=\"xtick_8\">\n     <g id=\"line2d_8\">\n      <g>\n       <use style=\"stroke:#000000;stroke-width:0.8;\" x=\"99.534949\" xlink:href=\"#m9356a4d762\" y=\"224.64\"/>\n      </g>\n     </g>\n     <g id=\"text_8\">\n      <!-- VA -->\n      <g transform=\"translate(93.013074 239.238438)scale(0.1 -0.1)\">\n       <defs>\n        <path d=\"M 1831 0 \nL 50 4666 \nL 709 4666 \nL 2188 738 \nL 3669 4666 \nL 4325 4666 \nL 2547 0 \nL 1831 0 \nz\n\" id=\"DejaVuSans-56\" transform=\"scale(0.015625)\"/>\n       </defs>\n       <use xlink:href=\"#DejaVuSans-56\"/>\n       <use x=\"62.033203\" xlink:href=\"#DejaVuSans-41\"/>\n      </g>\n     </g>\n    </g>\n    <g id=\"xtick_9\">\n     <g id=\"line2d_9\">\n      <g>\n       <use style=\"stroke:#000000;stroke-width:0.8;\" x=\"104.711201\" xlink:href=\"#m9356a4d762\" y=\"224.64\"/>\n      </g>\n     </g>\n     <g id=\"text_9\">\n      <!-- AZ -->\n      <g transform=\"translate(97.865889 239.238438)scale(0.1 -0.1)\">\n       <defs>\n        <path d=\"M 359 4666 \nL 4025 4666 \nL 4025 4184 \nL 1075 531 \nL 4097 531 \nL 4097 0 \nL 288 0 \nL 288 481 \nL 3238 4134 \nL 359 4134 \nL 359 4666 \nz\n\" id=\"DejaVuSans-5a\" transform=\"scale(0.015625)\"/>\n       </defs>\n       <use xlink:href=\"#DejaVuSans-41\"/>\n       <use x=\"68.408203\" xlink:href=\"#DejaVuSans-5a\"/>\n      </g>\n     </g>\n    </g>\n    <g id=\"xtick_10\">\n     <g id=\"line2d_10\">\n      <g>\n       <use style=\"stroke:#000000;stroke-width:0.8;\" x=\"109.887454\" xlink:href=\"#m9356a4d762\" y=\"224.64\"/>\n      </g>\n     </g>\n     <g id=\"text_10\">\n      <!-- DC -->\n      <g transform=\"translate(102.546047 239.238438)scale(0.1 -0.1)\">\n       <use xlink:href=\"#DejaVuSans-44\"/>\n       <use x=\"77.001953\" xlink:href=\"#DejaVuSans-43\"/>\n      </g>\n     </g>\n    </g>\n    <g id=\"xtick_11\">\n     <g id=\"line2d_11\">\n      <g>\n       <use style=\"stroke:#000000;stroke-width:0.8;\" x=\"115.063706\" xlink:href=\"#m9356a4d762\" y=\"224.64\"/>\n      </g>\n     </g>\n     <g id=\"text_11\">\n      <!-- MA -->\n      <g transform=\"translate(107.329331 239.238438)scale(0.1 -0.1)\">\n       <use xlink:href=\"#DejaVuSans-4d\"/>\n       <use x=\"86.279297\" xlink:href=\"#DejaVuSans-41\"/>\n      </g>\n     </g>\n    </g>\n    <g id=\"xtick_12\">\n     <g id=\"line2d_12\">\n      <g>\n       <use style=\"stroke:#000000;stroke-width:0.8;\" x=\"120.239958\" xlink:href=\"#m9356a4d762\" y=\"224.64\"/>\n      </g>\n     </g>\n     <g id=\"text_12\">\n      <!-- FL -->\n      <g transform=\"translate(114.57824 239.238438)scale(0.1 -0.1)\">\n       <defs>\n        <path d=\"M 628 4666 \nL 3309 4666 \nL 3309 4134 \nL 1259 4134 \nL 1259 2759 \nL 3109 2759 \nL 3109 2228 \nL 1259 2228 \nL 1259 0 \nL 628 0 \nL 628 4666 \nz\n\" id=\"DejaVuSans-46\" transform=\"scale(0.015625)\"/>\n       </defs>\n       <use xlink:href=\"#DejaVuSans-46\"/>\n       <use x=\"57.519531\" xlink:href=\"#DejaVuSans-4c\"/>\n      </g>\n     </g>\n    </g>\n    <g id=\"xtick_13\">\n     <g id=\"line2d_13\">\n      <g>\n       <use style=\"stroke:#000000;stroke-width:0.8;\" x=\"125.416211\" xlink:href=\"#m9356a4d762\" y=\"224.64\"/>\n      </g>\n     </g>\n     <g id=\"text_13\">\n      <!-- CO -->\n      <g transform=\"translate(117.988867 239.238438)scale(0.1 -0.1)\">\n       <defs>\n        <path d=\"M 2522 4238 \nQ 1834 4238 1429 3725 \nQ 1025 3213 1025 2328 \nQ 1025 1447 1429 934 \nQ 1834 422 2522 422 \nQ 3209 422 3611 934 \nQ 4013 1447 4013 2328 \nQ 4013 3213 3611 3725 \nQ 3209 4238 2522 4238 \nz\nM 2522 4750 \nQ 3503 4750 4090 4092 \nQ 4678 3434 4678 2328 \nQ 4678 1225 4090 567 \nQ 3503 -91 2522 -91 \nQ 1538 -91 948 565 \nQ 359 1222 359 2328 \nQ 359 3434 948 4092 \nQ 1538 4750 2522 4750 \nz\n\" id=\"DejaVuSans-4f\" transform=\"scale(0.015625)\"/>\n       </defs>\n       <use xlink:href=\"#DejaVuSans-43\"/>\n       <use x=\"69.824219\" xlink:href=\"#DejaVuSans-4f\"/>\n      </g>\n     </g>\n    </g>\n    <g id=\"xtick_14\">\n     <g id=\"line2d_14\">\n      <g>\n       <use style=\"stroke:#000000;stroke-width:0.8;\" x=\"130.592463\" xlink:href=\"#m9356a4d762\" y=\"224.64\"/>\n      </g>\n     </g>\n     <g id=\"text_14\">\n      <!-- OK -->\n      <g transform=\"translate(123.377619 239.238438)scale(0.1 -0.1)\">\n       <defs>\n        <path d=\"M 628 4666 \nL 1259 4666 \nL 1259 2694 \nL 3353 4666 \nL 4166 4666 \nL 1850 2491 \nL 4331 0 \nL 3500 0 \nL 1259 2247 \nL 1259 0 \nL 628 0 \nL 628 4666 \nz\n\" id=\"DejaVuSans-4b\" transform=\"scale(0.015625)\"/>\n       </defs>\n       <use xlink:href=\"#DejaVuSans-4f\"/>\n       <use x=\"78.710938\" xlink:href=\"#DejaVuSans-4b\"/>\n      </g>\n     </g>\n    </g>\n    <g id=\"xtick_15\">\n     <g id=\"line2d_15\">\n      <g>\n       <use style=\"stroke:#000000;stroke-width:0.8;\" x=\"135.768715\" xlink:href=\"#m9356a4d762\" y=\"224.64\"/>\n      </g>\n     </g>\n     <g id=\"text_15\">\n      <!-- IA -->\n      <g transform=\"translate(130.873403 239.238438)scale(0.1 -0.1)\">\n       <use xlink:href=\"#DejaVuSans-49\"/>\n       <use x=\"29.492188\" xlink:href=\"#DejaVuSans-41\"/>\n      </g>\n     </g>\n    </g>\n    <g id=\"xtick_16\">\n     <g id=\"line2d_16\">\n      <g>\n       <use style=\"stroke:#000000;stroke-width:0.8;\" x=\"140.944968\" xlink:href=\"#m9356a4d762\" y=\"224.64\"/>\n      </g>\n     </g>\n     <g id=\"text_16\">\n      <!-- NH -->\n      <g transform=\"translate(133.444186 239.238438)scale(0.1 -0.1)\">\n       <defs>\n        <path d=\"M 628 4666 \nL 1259 4666 \nL 1259 2753 \nL 3553 2753 \nL 3553 4666 \nL 4184 4666 \nL 4184 0 \nL 3553 0 \nL 3553 2222 \nL 1259 2222 \nL 1259 0 \nL 628 0 \nL 628 4666 \nz\n\" id=\"DejaVuSans-48\" transform=\"scale(0.015625)\"/>\n       </defs>\n       <use xlink:href=\"#DejaVuSans-4e\"/>\n       <use x=\"74.804688\" xlink:href=\"#DejaVuSans-48\"/>\n      </g>\n     </g>\n    </g>\n    <g id=\"xtick_17\">\n     <g id=\"line2d_17\">\n      <g>\n       <use style=\"stroke:#000000;stroke-width:0.8;\" x=\"146.12122\" xlink:href=\"#m9356a4d762\" y=\"224.64\"/>\n      </g>\n     </g>\n     <g id=\"text_17\">\n      <!-- AR -->\n      <g transform=\"translate(139.226689 239.238438)scale(0.1 -0.1)\">\n       <defs>\n        <path d=\"M 2841 2188 \nQ 3044 2119 3236 1894 \nQ 3428 1669 3622 1275 \nL 4263 0 \nL 3584 0 \nL 2988 1197 \nQ 2756 1666 2539 1819 \nQ 2322 1972 1947 1972 \nL 1259 1972 \nL 1259 0 \nL 628 0 \nL 628 4666 \nL 2053 4666 \nQ 2853 4666 3247 4331 \nQ 3641 3997 3641 3322 \nQ 3641 2881 3436 2590 \nQ 3231 2300 2841 2188 \nz\nM 1259 4147 \nL 1259 2491 \nL 2053 2491 \nQ 2509 2491 2742 2702 \nQ 2975 2913 2975 3322 \nQ 2975 3731 2742 3939 \nQ 2509 4147 2053 4147 \nL 1259 4147 \nz\n\" id=\"DejaVuSans-52\" transform=\"scale(0.015625)\"/>\n       </defs>\n       <use xlink:href=\"#DejaVuSans-41\"/>\n       <use x=\"68.408203\" xlink:href=\"#DejaVuSans-52\"/>\n      </g>\n     </g>\n    </g>\n    <g id=\"xtick_18\">\n     <g id=\"line2d_18\">\n      <g>\n       <use style=\"stroke:#000000;stroke-width:0.8;\" x=\"151.297472\" xlink:href=\"#m9356a4d762\" y=\"224.64\"/>\n      </g>\n     </g>\n     <g id=\"text_18\">\n      <!-- IN -->\n      <g transform=\"translate(146.081847 239.238438)scale(0.1 -0.1)\">\n       <use xlink:href=\"#DejaVuSans-49\"/>\n       <use x=\"29.492188\" xlink:href=\"#DejaVuSans-4e\"/>\n      </g>\n     </g>\n    </g>\n    <g id=\"xtick_19\">\n     <g id=\"line2d_19\">\n      <g>\n       <use style=\"stroke:#000000;stroke-width:0.8;\" x=\"156.473724\" xlink:href=\"#m9356a4d762\" y=\"224.64\"/>\n      </g>\n     </g>\n     <g id=\"text_19\">\n      <!-- OR -->\n      <g transform=\"translate(149.063568 239.238438)scale(0.1 -0.1)\">\n       <use xlink:href=\"#DejaVuSans-4f\"/>\n       <use x=\"78.710938\" xlink:href=\"#DejaVuSans-52\"/>\n      </g>\n     </g>\n    </g>\n    <g id=\"xtick_20\">\n     <g id=\"line2d_20\">\n      <g>\n       <use style=\"stroke:#000000;stroke-width:0.8;\" x=\"161.649977\" xlink:href=\"#m9356a4d762\" y=\"224.64\"/>\n      </g>\n     </g>\n     <g id=\"text_20\">\n      <!-- GA -->\n      <g transform=\"translate(154.355446 239.238438)scale(0.1 -0.1)\">\n       <defs>\n        <path d=\"M 3809 666 \nL 3809 1919 \nL 2778 1919 \nL 2778 2438 \nL 4434 2438 \nL 4434 434 \nQ 4069 175 3628 42 \nQ 3188 -91 2688 -91 \nQ 1594 -91 976 548 \nQ 359 1188 359 2328 \nQ 359 3472 976 4111 \nQ 1594 4750 2688 4750 \nQ 3144 4750 3555 4637 \nQ 3966 4525 4313 4306 \nL 4313 3634 \nQ 3963 3931 3569 4081 \nQ 3175 4231 2741 4231 \nQ 1884 4231 1454 3753 \nQ 1025 3275 1025 2328 \nQ 1025 1384 1454 906 \nQ 1884 428 2741 428 \nQ 3075 428 3337 486 \nQ 3600 544 3809 666 \nz\n\" id=\"DejaVuSans-47\" transform=\"scale(0.015625)\"/>\n       </defs>\n       <use xlink:href=\"#DejaVuSans-47\"/>\n       <use x=\"77.490234\" xlink:href=\"#DejaVuSans-41\"/>\n      </g>\n     </g>\n    </g>\n    <g id=\"xtick_21\">\n     <g id=\"line2d_21\">\n      <g>\n       <use style=\"stroke:#000000;stroke-width:0.8;\" x=\"166.826229\" xlink:href=\"#m9356a4d762\" y=\"224.64\"/>\n      </g>\n     </g>\n     <g id=\"text_21\">\n      <!-- MN -->\n      <g transform=\"translate(158.771542 239.238438)scale(0.1 -0.1)\">\n       <use xlink:href=\"#DejaVuSans-4d\"/>\n       <use x=\"86.279297\" xlink:href=\"#DejaVuSans-4e\"/>\n      </g>\n     </g>\n    </g>\n    <g id=\"xtick_22\">\n     <g id=\"line2d_22\">\n      <g>\n       <use style=\"stroke:#000000;stroke-width:0.8;\" x=\"172.002481\" xlink:href=\"#m9356a4d762\" y=\"224.64\"/>\n      </g>\n     </g>\n     <g id=\"text_22\">\n      <!-- CT -->\n      <g transform=\"translate(165.457169 239.238438)scale(0.1 -0.1)\">\n       <use xlink:href=\"#DejaVuSans-43\"/>\n       <use x=\"69.824219\" xlink:href=\"#DejaVuSans-54\"/>\n      </g>\n     </g>\n    </g>\n    <g id=\"xtick_23\">\n     <g id=\"line2d_23\">\n      <g>\n       <use style=\"stroke:#000000;stroke-width:0.8;\" x=\"177.178734\" xlink:href=\"#m9356a4d762\" y=\"224.64\"/>\n      </g>\n     </g>\n     <g id=\"text_23\">\n      <!-- KS -->\n      <g transform=\"translate(170.725609 239.238438)scale(0.1 -0.1)\">\n       <defs>\n        <path d=\"M 3425 4513 \nL 3425 3897 \nQ 3066 4069 2747 4153 \nQ 2428 4238 2131 4238 \nQ 1616 4238 1336 4038 \nQ 1056 3838 1056 3469 \nQ 1056 3159 1242 3001 \nQ 1428 2844 1947 2747 \nL 2328 2669 \nQ 3034 2534 3370 2195 \nQ 3706 1856 3706 1288 \nQ 3706 609 3251 259 \nQ 2797 -91 1919 -91 \nQ 1588 -91 1214 -16 \nQ 841 59 441 206 \nL 441 856 \nQ 825 641 1194 531 \nQ 1563 422 1919 422 \nQ 2459 422 2753 634 \nQ 3047 847 3047 1241 \nQ 3047 1584 2836 1778 \nQ 2625 1972 2144 2069 \nL 1759 2144 \nQ 1053 2284 737 2584 \nQ 422 2884 422 3419 \nQ 422 4038 858 4394 \nQ 1294 4750 2059 4750 \nQ 2388 4750 2728 4690 \nQ 3069 4631 3425 4513 \nz\n\" id=\"DejaVuSans-53\" transform=\"scale(0.015625)\"/>\n       </defs>\n       <use xlink:href=\"#DejaVuSans-4b\"/>\n       <use x=\"65.576172\" xlink:href=\"#DejaVuSans-53\"/>\n      </g>\n     </g>\n    </g>\n    <g id=\"xtick_24\">\n     <g id=\"line2d_24\">\n      <g>\n       <use style=\"stroke:#000000;stroke-width:0.8;\" x=\"182.354986\" xlink:href=\"#m9356a4d762\" y=\"224.64\"/>\n      </g>\n     </g>\n     <g id=\"text_24\">\n      <!-- SC -->\n      <g transform=\"translate(175.689361 239.238438)scale(0.1 -0.1)\">\n       <use xlink:href=\"#DejaVuSans-53\"/>\n       <use x=\"63.476562\" xlink:href=\"#DejaVuSans-43\"/>\n      </g>\n     </g>\n    </g>\n    <g id=\"xtick_25\">\n     <g id=\"line2d_25\">\n      <g>\n       <use style=\"stroke:#000000;stroke-width:0.8;\" x=\"187.531238\" xlink:href=\"#m9356a4d762\" y=\"224.64\"/>\n      </g>\n     </g>\n     <g id=\"text_25\">\n      <!-- AL -->\n      <g transform=\"translate(181.324988 239.238438)scale(0.1 -0.1)\">\n       <use xlink:href=\"#DejaVuSans-41\"/>\n       <use x=\"68.408203\" xlink:href=\"#DejaVuSans-4c\"/>\n      </g>\n     </g>\n    </g>\n    <g id=\"xtick_26\">\n     <g id=\"line2d_26\">\n      <g>\n       <use style=\"stroke:#000000;stroke-width:0.8;\" x=\"192.707491\" xlink:href=\"#m9356a4d762\" y=\"224.64\"/>\n      </g>\n     </g>\n     <g id=\"text_26\">\n      <!-- GU -->\n      <g transform=\"translate(185.173897 239.238438)scale(0.1 -0.1)\">\n       <defs>\n        <path d=\"M 556 4666 \nL 1191 4666 \nL 1191 1831 \nQ 1191 1081 1462 751 \nQ 1734 422 2344 422 \nQ 2950 422 3222 751 \nQ 3494 1081 3494 1831 \nL 3494 4666 \nL 4128 4666 \nL 4128 1753 \nQ 4128 841 3676 375 \nQ 3225 -91 2344 -91 \nQ 1459 -91 1007 375 \nQ 556 841 556 1753 \nL 556 4666 \nz\n\" id=\"DejaVuSans-55\" transform=\"scale(0.015625)\"/>\n       </defs>\n       <use xlink:href=\"#DejaVuSans-47\"/>\n       <use x=\"77.490234\" xlink:href=\"#DejaVuSans-55\"/>\n      </g>\n     </g>\n    </g>\n    <g id=\"xtick_27\">\n     <g id=\"line2d_27\">\n      <g>\n       <use style=\"stroke:#000000;stroke-width:0.8;\" x=\"197.883743\" xlink:href=\"#m9356a4d762\" y=\"224.64\"/>\n      </g>\n     </g>\n     <g id=\"text_27\">\n      <!-- MO -->\n      <g transform=\"translate(189.633743 239.238438)scale(0.1 -0.1)\">\n       <use xlink:href=\"#DejaVuSans-4d\"/>\n       <use x=\"86.279297\" xlink:href=\"#DejaVuSans-4f\"/>\n      </g>\n     </g>\n    </g>\n    <g id=\"xtick_28\">\n     <g id=\"line2d_28\">\n      <g>\n       <use style=\"stroke:#000000;stroke-width:0.8;\" x=\"203.059995\" xlink:href=\"#m9356a4d762\" y=\"224.64\"/>\n      </g>\n     </g>\n     <g id=\"text_28\">\n      <!-- TN -->\n      <g transform=\"translate(196.265464 239.238438)scale(0.1 -0.1)\">\n       <use xlink:href=\"#DejaVuSans-54\"/>\n       <use x=\"61.083984\" xlink:href=\"#DejaVuSans-4e\"/>\n      </g>\n     </g>\n    </g>\n    <g id=\"xtick_29\">\n     <g id=\"line2d_29\">\n      <g>\n       <use style=\"stroke:#000000;stroke-width:0.8;\" x=\"208.236248\" xlink:href=\"#m9356a4d762\" y=\"224.64\"/>\n      </g>\n     </g>\n     <g id=\"text_29\">\n      <!-- RI -->\n      <g transform=\"translate(203.287029 239.238438)scale(0.1 -0.1)\">\n       <use xlink:href=\"#DejaVuSans-52\"/>\n       <use x=\"69.482422\" xlink:href=\"#DejaVuSans-49\"/>\n      </g>\n     </g>\n    </g>\n    <g id=\"xtick_30\">\n     <g id=\"line2d_30\">\n      <g>\n       <use style=\"stroke:#000000;stroke-width:0.8;\" x=\"213.4125\" xlink:href=\"#m9356a4d762\" y=\"224.64\"/>\n      </g>\n     </g>\n     <g id=\"text_30\">\n      <!-- PA -->\n      <g transform=\"translate(207.296094 239.238438)scale(0.1 -0.1)\">\n       <defs>\n        <path d=\"M 1259 4147 \nL 1259 2394 \nL 2053 2394 \nQ 2494 2394 2734 2622 \nQ 2975 2850 2975 3272 \nQ 2975 3691 2734 3919 \nQ 2494 4147 2053 4147 \nL 1259 4147 \nz\nM 628 4666 \nL 2053 4666 \nQ 2838 4666 3239 4311 \nQ 3641 3956 3641 3272 \nQ 3641 2581 3239 2228 \nQ 2838 1875 2053 1875 \nL 1259 1875 \nL 1259 0 \nL 628 0 \nL 628 4666 \nz\n\" id=\"DejaVuSans-50\" transform=\"scale(0.015625)\"/>\n       </defs>\n       <use xlink:href=\"#DejaVuSans-50\"/>\n       <use x=\"53.927734\" xlink:href=\"#DejaVuSans-41\"/>\n      </g>\n     </g>\n    </g>\n    <g id=\"xtick_31\">\n     <g id=\"line2d_31\">\n      <g>\n       <use style=\"stroke:#000000;stroke-width:0.8;\" x=\"218.588752\" xlink:href=\"#m9356a4d762\" y=\"224.64\"/>\n      </g>\n     </g>\n     <g id=\"text_31\">\n      <!-- ME -->\n      <g transform=\"translate(211.115315 239.238438)scale(0.1 -0.1)\">\n       <defs>\n        <path d=\"M 628 4666 \nL 3578 4666 \nL 3578 4134 \nL 1259 4134 \nL 1259 2753 \nL 3481 2753 \nL 3481 2222 \nL 1259 2222 \nL 1259 531 \nL 3634 531 \nL 3634 0 \nL 628 0 \nL 628 4666 \nz\n\" id=\"DejaVuSans-45\" transform=\"scale(0.015625)\"/>\n       </defs>\n       <use xlink:href=\"#DejaVuSans-4d\"/>\n       <use x=\"86.279297\" xlink:href=\"#DejaVuSans-45\"/>\n      </g>\n     </g>\n    </g>\n    <g id=\"xtick_32\">\n     <g id=\"line2d_32\">\n      <g>\n       <use style=\"stroke:#000000;stroke-width:0.8;\" x=\"223.765005\" xlink:href=\"#m9356a4d762\" y=\"224.64\"/>\n      </g>\n     </g>\n     <g id=\"text_32\">\n      <!-- MS -->\n      <g transform=\"translate(216.276723 239.238438)scale(0.1 -0.1)\">\n       <use xlink:href=\"#DejaVuSans-4d\"/>\n       <use x=\"86.279297\" xlink:href=\"#DejaVuSans-53\"/>\n      </g>\n     </g>\n    </g>\n    <g id=\"xtick_33\">\n     <g id=\"line2d_33\">\n      <g>\n       <use style=\"stroke:#000000;stroke-width:0.8;\" x=\"228.941257\" xlink:href=\"#m9356a4d762\" y=\"224.64\"/>\n      </g>\n     </g>\n     <g id=\"text_33\">\n      <!-- WA -->\n      <g transform=\"translate(220.852194 239.238438)scale(0.1 -0.1)\">\n       <defs>\n        <path d=\"M 213 4666 \nL 850 4666 \nL 1831 722 \nL 2809 4666 \nL 3519 4666 \nL 4500 722 \nL 5478 4666 \nL 6119 4666 \nL 4947 0 \nL 4153 0 \nL 3169 4050 \nL 2175 0 \nL 1381 0 \nL 213 4666 \nz\n\" id=\"DejaVuSans-57\" transform=\"scale(0.015625)\"/>\n       </defs>\n       <use xlink:href=\"#DejaVuSans-57\"/>\n       <use x=\"93.376953\" xlink:href=\"#DejaVuSans-41\"/>\n      </g>\n     </g>\n    </g>\n    <g id=\"xtick_34\">\n     <g id=\"line2d_34\">\n      <g>\n       <use style=\"stroke:#000000;stroke-width:0.8;\" x=\"234.117509\" xlink:href=\"#m9356a4d762\" y=\"224.64\"/>\n      </g>\n     </g>\n     <g id=\"text_34\">\n      <!-- ND -->\n      <g transform=\"translate(226.526884 239.238438)scale(0.1 -0.1)\">\n       <use xlink:href=\"#DejaVuSans-4e\"/>\n       <use x=\"74.804688\" xlink:href=\"#DejaVuSans-44\"/>\n      </g>\n     </g>\n    </g>\n    <g id=\"xtick_35\">\n     <g id=\"line2d_35\">\n      <g>\n       <use style=\"stroke:#000000;stroke-width:0.8;\" x=\"239.293762\" xlink:href=\"#m9356a4d762\" y=\"224.64\"/>\n      </g>\n     </g>\n     <g id=\"text_35\">\n      <!-- NV -->\n      <g transform=\"translate(232.132824 239.238438)scale(0.1 -0.1)\">\n       <use xlink:href=\"#DejaVuSans-4e\"/>\n       <use x=\"74.804688\" xlink:href=\"#DejaVuSans-56\"/>\n      </g>\n     </g>\n    </g>\n    <g id=\"xtick_36\">\n     <g id=\"line2d_36\">\n      <g>\n       <use style=\"stroke:#000000;stroke-width:0.8;\" x=\"244.470014\" xlink:href=\"#m9356a4d762\" y=\"224.64\"/>\n      </g>\n     </g>\n     <g id=\"text_36\">\n      <!-- DK -->\n      <g transform=\"translate(237.341108 239.238438)scale(0.1 -0.1)\">\n       <use xlink:href=\"#DejaVuSans-44\"/>\n       <use x=\"77.001953\" xlink:href=\"#DejaVuSans-4b\"/>\n      </g>\n     </g>\n    </g>\n    <g id=\"xtick_37\">\n     <g id=\"line2d_37\">\n      <g>\n       <use style=\"stroke:#000000;stroke-width:0.8;\" x=\"249.646266\" xlink:href=\"#m9356a4d762\" y=\"224.64\"/>\n      </g>\n     </g>\n     <g id=\"text_37\">\n      <!-- NC -->\n      <g transform=\"translate(242.414235 239.238438)scale(0.1 -0.1)\">\n       <use xlink:href=\"#DejaVuSans-4e\"/>\n       <use x=\"74.804688\" xlink:href=\"#DejaVuSans-43\"/>\n      </g>\n     </g>\n    </g>\n    <g id=\"xtick_38\">\n     <g id=\"line2d_38\">\n      <g>\n       <use style=\"stroke:#000000;stroke-width:0.8;\" x=\"254.822519\" xlink:href=\"#m9356a4d762\" y=\"224.64\"/>\n      </g>\n     </g>\n     <g id=\"text_38\">\n      <!-- OH -->\n      <g transform=\"translate(247.126425 239.238438)scale(0.1 -0.1)\">\n       <use xlink:href=\"#DejaVuSans-4f\"/>\n       <use x=\"78.710938\" xlink:href=\"#DejaVuSans-48\"/>\n      </g>\n     </g>\n    </g>\n    <g id=\"xtick_39\">\n     <g id=\"line2d_39\">\n      <g>\n       <use style=\"stroke:#000000;stroke-width:0.8;\" x=\"259.998771\" xlink:href=\"#m9356a4d762\" y=\"224.64\"/>\n      </g>\n     </g>\n     <g id=\"text_39\">\n      <!-- NJ -->\n      <g transform=\"translate(254.783146 239.238438)scale(0.1 -0.1)\">\n       <defs>\n        <path d=\"M 628 4666 \nL 1259 4666 \nL 1259 325 \nQ 1259 -519 939 -900 \nQ 619 -1281 -91 -1281 \nL -331 -1281 \nL -331 -750 \nL -134 -750 \nQ 284 -750 456 -515 \nQ 628 -281 628 325 \nL 628 4666 \nz\n\" id=\"DejaVuSans-4a\" transform=\"scale(0.015625)\"/>\n       </defs>\n       <use xlink:href=\"#DejaVuSans-4e\"/>\n       <use x=\"74.804688\" xlink:href=\"#DejaVuSans-4a\"/>\n      </g>\n     </g>\n    </g>\n    <g id=\"xtick_40\">\n     <g id=\"line2d_40\">\n      <g>\n       <use style=\"stroke:#000000;stroke-width:0.8;\" x=\"265.175023\" xlink:href=\"#m9356a4d762\" y=\"224.64\"/>\n      </g>\n     </g>\n     <g id=\"text_40\">\n      <!-- UT -->\n      <g transform=\"translate(258.461742 239.238438)scale(0.1 -0.1)\">\n       <use xlink:href=\"#DejaVuSans-55\"/>\n       <use x=\"73.193359\" xlink:href=\"#DejaVuSans-54\"/>\n      </g>\n     </g>\n    </g>\n    <g id=\"xtick_41\">\n     <g id=\"line2d_41\">\n      <g>\n       <use style=\"stroke:#000000;stroke-width:0.8;\" x=\"270.351276\" xlink:href=\"#m9356a4d762\" y=\"224.64\"/>\n      </g>\n     </g>\n     <g id=\"text_41\">\n      <!-- HI -->\n      <g transform=\"translate(265.116119 239.238438)scale(0.1 -0.1)\">\n       <use xlink:href=\"#DejaVuSans-48\"/>\n       <use x=\"75.195312\" xlink:href=\"#DejaVuSans-49\"/>\n      </g>\n     </g>\n    </g>\n    <g id=\"xtick_42\">\n     <g id=\"line2d_42\">\n      <g>\n       <use style=\"stroke:#000000;stroke-width:0.8;\" x=\"275.527528\" xlink:href=\"#m9356a4d762\" y=\"224.64\"/>\n      </g>\n     </g>\n     <g id=\"text_42\">\n      <!-- WI -->\n      <g transform=\"translate(269.108778 239.238438)scale(0.1 -0.1)\">\n       <use xlink:href=\"#DejaVuSans-57\"/>\n       <use x=\"98.876953\" xlink:href=\"#DejaVuSans-49\"/>\n      </g>\n     </g>\n    </g>\n    <g id=\"xtick_43\">\n     <g id=\"line2d_43\">\n      <g>\n       <use style=\"stroke:#000000;stroke-width:0.8;\" x=\"280.70378\" xlink:href=\"#m9356a4d762\" y=\"224.64\"/>\n      </g>\n     </g>\n     <g id=\"text_43\">\n      <!-- SD -->\n      <g transform=\"translate(273.679561 239.238438)scale(0.1 -0.1)\">\n       <use xlink:href=\"#DejaVuSans-53\"/>\n       <use x=\"63.476562\" xlink:href=\"#DejaVuSans-44\"/>\n      </g>\n     </g>\n    </g>\n    <g id=\"xtick_44\">\n     <g id=\"line2d_44\">\n      <g>\n       <use style=\"stroke:#000000;stroke-width:0.8;\" x=\"285.880032\" xlink:href=\"#m9356a4d762\" y=\"224.64\"/>\n      </g>\n     </g>\n     <g id=\"text_44\">\n      <!-- KY -->\n      <g transform=\"translate(279.72847 239.238438)scale(0.1 -0.1)\">\n       <use xlink:href=\"#DejaVuSans-4b\"/>\n       <use x=\"61.951172\" xlink:href=\"#DejaVuSans-59\"/>\n      </g>\n     </g>\n    </g>\n    <g id=\"xtick_45\">\n     <g id=\"line2d_45\">\n      <g>\n       <use style=\"stroke:#000000;stroke-width:0.8;\" x=\"291.056285\" xlink:href=\"#m9356a4d762\" y=\"224.64\"/>\n      </g>\n     </g>\n     <g id=\"text_45\">\n      <!-- LA -->\n      <g transform=\"translate(284.737535 239.238438)scale(0.1 -0.1)\">\n       <use xlink:href=\"#DejaVuSans-4c\"/>\n       <use x=\"57.962891\" xlink:href=\"#DejaVuSans-41\"/>\n      </g>\n     </g>\n    </g>\n    <g id=\"xtick_46\">\n     <g id=\"line2d_46\">\n      <g>\n       <use style=\"stroke:#000000;stroke-width:0.8;\" x=\"296.232537\" xlink:href=\"#m9356a4d762\" y=\"224.64\"/>\n      </g>\n     </g>\n     <g id=\"text_46\">\n      <!-- AK -->\n      <g transform=\"translate(289.533318 239.238438)scale(0.1 -0.1)\">\n       <use xlink:href=\"#DejaVuSans-41\"/>\n       <use x=\"68.408203\" xlink:href=\"#DejaVuSans-4b\"/>\n      </g>\n     </g>\n    </g>\n    <g id=\"xtick_47\">\n     <g id=\"line2d_47\">\n      <g>\n       <use style=\"stroke:#000000;stroke-width:0.8;\" x=\"301.408789\" xlink:href=\"#m9356a4d762\" y=\"224.64\"/>\n      </g>\n     </g>\n     <g id=\"text_47\">\n      <!-- NE -->\n      <g transform=\"translate(294.508789 239.238438)scale(0.1 -0.1)\">\n       <use xlink:href=\"#DejaVuSans-4e\"/>\n       <use x=\"74.804688\" xlink:href=\"#DejaVuSans-45\"/>\n      </g>\n     </g>\n    </g>\n    <g id=\"xtick_48\">\n     <g id=\"line2d_48\">\n      <g>\n       <use style=\"stroke:#000000;stroke-width:0.8;\" x=\"306.585042\" xlink:href=\"#m9356a4d762\" y=\"224.64\"/>\n      </g>\n     </g>\n     <g id=\"text_48\">\n      <!-- VT -->\n      <g transform=\"translate(300.110823 239.238438)scale(0.1 -0.1)\">\n       <use xlink:href=\"#DejaVuSans-56\"/>\n       <use x=\"68.408203\" xlink:href=\"#DejaVuSans-54\"/>\n      </g>\n     </g>\n    </g>\n    <g id=\"xtick_49\">\n     <g id=\"line2d_49\">\n      <g>\n       <use style=\"stroke:#000000;stroke-width:0.8;\" x=\"311.761294\" xlink:href=\"#m9356a4d762\" y=\"224.64\"/>\n      </g>\n     </g>\n     <g id=\"text_49\">\n      <!-- MT -->\n      <g transform=\"translate(304.393325 239.238438)scale(0.1 -0.1)\">\n       <use xlink:href=\"#DejaVuSans-4d\"/>\n       <use x=\"86.279297\" xlink:href=\"#DejaVuSans-54\"/>\n      </g>\n     </g>\n    </g>\n    <g id=\"xtick_50\">\n     <g id=\"line2d_50\">\n      <g>\n       <use style=\"stroke:#000000;stroke-width:0.8;\" x=\"316.937546\" xlink:href=\"#m9356a4d762\" y=\"224.64\"/>\n      </g>\n     </g>\n     <g id=\"text_50\">\n      <!-- ID -->\n      <g transform=\"translate(311.612546 239.238438)scale(0.1 -0.1)\">\n       <use xlink:href=\"#DejaVuSans-49\"/>\n       <use x=\"29.492188\" xlink:href=\"#DejaVuSans-44\"/>\n      </g>\n     </g>\n    </g>\n    <g id=\"xtick_51\">\n     <g id=\"line2d_51\">\n      <g>\n       <use style=\"stroke:#000000;stroke-width:0.8;\" x=\"322.113799\" xlink:href=\"#m9356a4d762\" y=\"224.64\"/>\n      </g>\n     </g>\n     <g id=\"text_51\">\n      <!-- OL -->\n      <g transform=\"translate(315.391924 239.238438)scale(0.1 -0.1)\">\n       <use xlink:href=\"#DejaVuSans-4f\"/>\n       <use x=\"78.710938\" xlink:href=\"#DejaVuSans-4c\"/>\n      </g>\n     </g>\n    </g>\n    <g id=\"xtick_52\">\n     <g id=\"line2d_52\">\n      <g>\n       <use style=\"stroke:#000000;stroke-width:0.8;\" x=\"327.290051\" xlink:href=\"#m9356a4d762\" y=\"224.64\"/>\n      </g>\n     </g>\n     <g id=\"text_52\">\n      <!-- DE -->\n      <g transform=\"translate(320.280676 239.238438)scale(0.1 -0.1)\">\n       <use xlink:href=\"#DejaVuSans-44\"/>\n       <use x=\"77.001953\" xlink:href=\"#DejaVuSans-45\"/>\n      </g>\n     </g>\n    </g>\n    <g id=\"xtick_53\">\n     <g id=\"line2d_53\">\n      <g>\n       <use style=\"stroke:#000000;stroke-width:0.8;\" x=\"332.466303\" xlink:href=\"#m9356a4d762\" y=\"224.64\"/>\n      </g>\n     </g>\n     <g id=\"text_53\">\n      <!-- WV -->\n      <g transform=\"translate(324.102241 239.238438)scale(0.1 -0.1)\">\n       <use xlink:href=\"#DejaVuSans-57\"/>\n       <use x=\"98.876953\" xlink:href=\"#DejaVuSans-56\"/>\n      </g>\n     </g>\n    </g>\n    <g id=\"xtick_54\">\n     <g id=\"line2d_54\">\n      <g>\n       <use style=\"stroke:#000000;stroke-width:0.8;\" x=\"337.642556\" xlink:href=\"#m9356a4d762\" y=\"224.64\"/>\n      </g>\n     </g>\n     <g id=\"text_54\">\n      <!-- WY -->\n      <g transform=\"translate(329.644899 239.238438)scale(0.1 -0.1)\">\n       <use xlink:href=\"#DejaVuSans-57\"/>\n       <use x=\"98.876953\" xlink:href=\"#DejaVuSans-59\"/>\n      </g>\n     </g>\n    </g>\n    <g id=\"xtick_55\">\n     <g id=\"line2d_55\">\n      <g>\n       <use style=\"stroke:#000000;stroke-width:0.8;\" x=\"342.818808\" xlink:href=\"#m9356a4d762\" y=\"224.64\"/>\n      </g>\n     </g>\n     <g id=\"text_55\">\n      <!-- AS -->\n      <g transform=\"translate(336.224277 239.238438)scale(0.1 -0.1)\">\n       <use xlink:href=\"#DejaVuSans-41\"/>\n       <use x=\"68.408203\" xlink:href=\"#DejaVuSans-53\"/>\n      </g>\n     </g>\n    </g>\n    <g id=\"xtick_56\">\n     <g id=\"line2d_56\">\n      <g>\n       <use style=\"stroke:#000000;stroke-width:0.8;\" x=\"347.99506\" xlink:href=\"#m9356a4d762\" y=\"224.64\"/>\n      </g>\n     </g>\n     <g id=\"text_56\">\n      <!-- VI -->\n      <g transform=\"translate(343.099748 239.238438)scale(0.1 -0.1)\">\n       <use xlink:href=\"#DejaVuSans-56\"/>\n       <use x=\"68.408203\" xlink:href=\"#DejaVuSans-49\"/>\n      </g>\n     </g>\n    </g>\n    <g id=\"xtick_57\">\n     <g id=\"line2d_57\">\n      <g>\n       <use style=\"stroke:#000000;stroke-width:0.8;\" x=\"353.171313\" xlink:href=\"#m9356a4d762\" y=\"224.64\"/>\n      </g>\n     </g>\n     <g id=\"text_57\">\n      <!-- PI -->\n      <g transform=\"translate(348.681469 239.238438)scale(0.1 -0.1)\">\n       <use xlink:href=\"#DejaVuSans-50\"/>\n       <use x=\"60.302734\" xlink:href=\"#DejaVuSans-49\"/>\n      </g>\n     </g>\n    </g>\n    <g id=\"xtick_58\">\n     <g id=\"line2d_58\">\n      <g>\n       <use style=\"stroke:#000000;stroke-width:0.8;\" x=\"358.347565\" xlink:href=\"#m9356a4d762\" y=\"224.64\"/>\n      </g>\n     </g>\n     <g id=\"text_58\">\n      <!-- PR -->\n      <g transform=\"translate(351.858502 239.238438)scale(0.1 -0.1)\">\n       <use xlink:href=\"#DejaVuSans-50\"/>\n       <use x=\"60.302734\" xlink:href=\"#DejaVuSans-52\"/>\n      </g>\n     </g>\n    </g>\n    <g id=\"xtick_59\">\n     <g id=\"line2d_59\">\n      <g>\n       <use style=\"stroke:#000000;stroke-width:0.8;\" x=\"363.523817\" xlink:href=\"#m9356a4d762\" y=\"224.64\"/>\n      </g>\n     </g>\n     <g id=\"text_59\">\n      <!-- MP -->\n      <g transform=\"translate(356.194911 239.238438)scale(0.1 -0.1)\">\n       <use xlink:href=\"#DejaVuSans-4d\"/>\n       <use x=\"86.279297\" xlink:href=\"#DejaVuSans-50\"/>\n      </g>\n     </g>\n    </g>\n   </g>\n   <g id=\"matplotlib.axis_2\">\n    <g id=\"ytick_1\">\n     <g id=\"line2d_60\">\n      <defs>\n       <path d=\"M 0 0 \nL -3.5 0 \n\" id=\"mc89254dcb1\" style=\"stroke:#000000;stroke-width:0.8;\"/>\n      </defs>\n      <g>\n       <use style=\"stroke:#000000;stroke-width:0.8;\" x=\"46.0125\" xlink:href=\"#mc89254dcb1\" y=\"224.64\"/>\n      </g>\n     </g>\n     <g id=\"text_60\">\n      <!-- 0 -->\n      <g transform=\"translate(32.65 228.439219)scale(0.1 -0.1)\">\n       <defs>\n        <path d=\"M 2034 4250 \nQ 1547 4250 1301 3770 \nQ 1056 3291 1056 2328 \nQ 1056 1369 1301 889 \nQ 1547 409 2034 409 \nQ 2525 409 2770 889 \nQ 3016 1369 3016 2328 \nQ 3016 3291 2770 3770 \nQ 2525 4250 2034 4250 \nz\nM 2034 4750 \nQ 2819 4750 3233 4129 \nQ 3647 3509 3647 2328 \nQ 3647 1150 3233 529 \nQ 2819 -91 2034 -91 \nQ 1250 -91 836 529 \nQ 422 1150 422 2328 \nQ 422 3509 836 4129 \nQ 1250 4750 2034 4750 \nz\n\" id=\"DejaVuSans-30\" transform=\"scale(0.015625)\"/>\n       </defs>\n       <use xlink:href=\"#DejaVuSans-30\"/>\n      </g>\n     </g>\n    </g>\n    <g id=\"ytick_2\">\n     <g id=\"line2d_61\">\n      <g>\n       <use style=\"stroke:#000000;stroke-width:0.8;\" x=\"46.0125\" xlink:href=\"#mc89254dcb1\" y=\"176.940883\"/>\n      </g>\n     </g>\n     <g id=\"text_61\">\n      <!-- 20000 -->\n      <g transform=\"translate(7.2 180.740102)scale(0.1 -0.1)\">\n       <defs>\n        <path d=\"M 1228 531 \nL 3431 531 \nL 3431 0 \nL 469 0 \nL 469 531 \nQ 828 903 1448 1529 \nQ 2069 2156 2228 2338 \nQ 2531 2678 2651 2914 \nQ 2772 3150 2772 3378 \nQ 2772 3750 2511 3984 \nQ 2250 4219 1831 4219 \nQ 1534 4219 1204 4116 \nQ 875 4013 500 3803 \nL 500 4441 \nQ 881 4594 1212 4672 \nQ 1544 4750 1819 4750 \nQ 2544 4750 2975 4387 \nQ 3406 4025 3406 3419 \nQ 3406 3131 3298 2873 \nQ 3191 2616 2906 2266 \nQ 2828 2175 2409 1742 \nQ 1991 1309 1228 531 \nz\n\" id=\"DejaVuSans-32\" transform=\"scale(0.015625)\"/>\n       </defs>\n       <use xlink:href=\"#DejaVuSans-32\"/>\n       <use x=\"63.623047\" xlink:href=\"#DejaVuSans-30\"/>\n       <use x=\"127.246094\" xlink:href=\"#DejaVuSans-30\"/>\n       <use x=\"190.869141\" xlink:href=\"#DejaVuSans-30\"/>\n       <use x=\"254.492188\" xlink:href=\"#DejaVuSans-30\"/>\n      </g>\n     </g>\n    </g>\n    <g id=\"ytick_3\">\n     <g id=\"line2d_62\">\n      <g>\n       <use style=\"stroke:#000000;stroke-width:0.8;\" x=\"46.0125\" xlink:href=\"#mc89254dcb1\" y=\"129.241767\"/>\n      </g>\n     </g>\n     <g id=\"text_62\">\n      <!-- 40000 -->\n      <g transform=\"translate(7.2 133.040986)scale(0.1 -0.1)\">\n       <defs>\n        <path d=\"M 2419 4116 \nL 825 1625 \nL 2419 1625 \nL 2419 4116 \nz\nM 2253 4666 \nL 3047 4666 \nL 3047 1625 \nL 3713 1625 \nL 3713 1100 \nL 3047 1100 \nL 3047 0 \nL 2419 0 \nL 2419 1100 \nL 313 1100 \nL 313 1709 \nL 2253 4666 \nz\n\" id=\"DejaVuSans-34\" transform=\"scale(0.015625)\"/>\n       </defs>\n       <use xlink:href=\"#DejaVuSans-34\"/>\n       <use x=\"63.623047\" xlink:href=\"#DejaVuSans-30\"/>\n       <use x=\"127.246094\" xlink:href=\"#DejaVuSans-30\"/>\n       <use x=\"190.869141\" xlink:href=\"#DejaVuSans-30\"/>\n       <use x=\"254.492188\" xlink:href=\"#DejaVuSans-30\"/>\n      </g>\n     </g>\n    </g>\n    <g id=\"ytick_4\">\n     <g id=\"line2d_63\">\n      <g>\n       <use style=\"stroke:#000000;stroke-width:0.8;\" x=\"46.0125\" xlink:href=\"#mc89254dcb1\" y=\"81.54265\"/>\n      </g>\n     </g>\n     <g id=\"text_63\">\n      <!-- 60000 -->\n      <g transform=\"translate(7.2 85.341869)scale(0.1 -0.1)\">\n       <defs>\n        <path d=\"M 2113 2584 \nQ 1688 2584 1439 2293 \nQ 1191 2003 1191 1497 \nQ 1191 994 1439 701 \nQ 1688 409 2113 409 \nQ 2538 409 2786 701 \nQ 3034 994 3034 1497 \nQ 3034 2003 2786 2293 \nQ 2538 2584 2113 2584 \nz\nM 3366 4563 \nL 3366 3988 \nQ 3128 4100 2886 4159 \nQ 2644 4219 2406 4219 \nQ 1781 4219 1451 3797 \nQ 1122 3375 1075 2522 \nQ 1259 2794 1537 2939 \nQ 1816 3084 2150 3084 \nQ 2853 3084 3261 2657 \nQ 3669 2231 3669 1497 \nQ 3669 778 3244 343 \nQ 2819 -91 2113 -91 \nQ 1303 -91 875 529 \nQ 447 1150 447 2328 \nQ 447 3434 972 4092 \nQ 1497 4750 2381 4750 \nQ 2619 4750 2861 4703 \nQ 3103 4656 3366 4563 \nz\n\" id=\"DejaVuSans-36\" transform=\"scale(0.015625)\"/>\n       </defs>\n       <use xlink:href=\"#DejaVuSans-36\"/>\n       <use x=\"63.623047\" xlink:href=\"#DejaVuSans-30\"/>\n       <use x=\"127.246094\" xlink:href=\"#DejaVuSans-30\"/>\n       <use x=\"190.869141\" xlink:href=\"#DejaVuSans-30\"/>\n       <use x=\"254.492188\" xlink:href=\"#DejaVuSans-30\"/>\n      </g>\n     </g>\n    </g>\n    <g id=\"ytick_5\">\n     <g id=\"line2d_64\">\n      <g>\n       <use style=\"stroke:#000000;stroke-width:0.8;\" x=\"46.0125\" xlink:href=\"#mc89254dcb1\" y=\"33.843534\"/>\n      </g>\n     </g>\n     <g id=\"text_64\">\n      <!-- 80000 -->\n      <g transform=\"translate(7.2 37.642753)scale(0.1 -0.1)\">\n       <defs>\n        <path d=\"M 2034 2216 \nQ 1584 2216 1326 1975 \nQ 1069 1734 1069 1313 \nQ 1069 891 1326 650 \nQ 1584 409 2034 409 \nQ 2484 409 2743 651 \nQ 3003 894 3003 1313 \nQ 3003 1734 2745 1975 \nQ 2488 2216 2034 2216 \nz\nM 1403 2484 \nQ 997 2584 770 2862 \nQ 544 3141 544 3541 \nQ 544 4100 942 4425 \nQ 1341 4750 2034 4750 \nQ 2731 4750 3128 4425 \nQ 3525 4100 3525 3541 \nQ 3525 3141 3298 2862 \nQ 3072 2584 2669 2484 \nQ 3125 2378 3379 2068 \nQ 3634 1759 3634 1313 \nQ 3634 634 3220 271 \nQ 2806 -91 2034 -91 \nQ 1263 -91 848 271 \nQ 434 634 434 1313 \nQ 434 1759 690 2068 \nQ 947 2378 1403 2484 \nz\nM 1172 3481 \nQ 1172 3119 1398 2916 \nQ 1625 2713 2034 2713 \nQ 2441 2713 2670 2916 \nQ 2900 3119 2900 3481 \nQ 2900 3844 2670 4047 \nQ 2441 4250 2034 4250 \nQ 1625 4250 1398 4047 \nQ 1172 3844 1172 3481 \nz\n\" id=\"DejaVuSans-38\" transform=\"scale(0.015625)\"/>\n       </defs>\n       <use xlink:href=\"#DejaVuSans-38\"/>\n       <use x=\"63.623047\" xlink:href=\"#DejaVuSans-30\"/>\n       <use x=\"127.246094\" xlink:href=\"#DejaVuSans-30\"/>\n       <use x=\"190.869141\" xlink:href=\"#DejaVuSans-30\"/>\n       <use x=\"254.492188\" xlink:href=\"#DejaVuSans-30\"/>\n      </g>\n     </g>\n    </g>\n   </g>\n   <g id=\"patch_62\">\n    <path d=\"M 46.0125 224.64 \nL 46.0125 7.2 \n\" style=\"fill:none;stroke:#000000;stroke-linecap:square;stroke-linejoin:miter;stroke-width:0.8;\"/>\n   </g>\n   <g id=\"patch_63\">\n    <path d=\"M 380.8125 224.64 \nL 380.8125 7.2 \n\" style=\"fill:none;stroke:#000000;stroke-linecap:square;stroke-linejoin:miter;stroke-width:0.8;\"/>\n   </g>\n   <g id=\"patch_64\">\n    <path d=\"M 46.0125 224.64 \nL 380.8125 224.64 \n\" style=\"fill:none;stroke:#000000;stroke-linecap:square;stroke-linejoin:miter;stroke-width:0.8;\"/>\n   </g>\n   <g id=\"patch_65\">\n    <path d=\"M 46.0125 7.2 \nL 380.8125 7.2 \n\" style=\"fill:none;stroke:#000000;stroke-linecap:square;stroke-linejoin:miter;stroke-width:0.8;\"/>\n   </g>\n  </g>\n </g>\n <defs>\n  <clipPath id=\"p90da4606be\">\n   <rect height=\"217.44\" width=\"334.8\" x=\"46.0125\" y=\"7.2\"/>\n  </clipPath>\n </defs>\n</svg>\n",
      "image/png": "[encoded data removed]"
     },
     "metadata": {
      "needs_background": "light"
     }
    }
   ],
   "source": [
    "# Plot the proportions of positive tweets per state (note that it also returns the total count of tweets per state)\n",
    "# threshold=None for raw proportions, or threshold=<value between 0 and 1> to apply thresholding\n",
    "fig, counts = plotGlobalSentiments(threshold=None)\n",
    "iplot(fig)\n",
    "plt.bar(counts.keys(), counts.values())\n",
    "plt.show()"
   ]
  },
  {
   "cell_type": "code",
   "execution_count": 10,
   "metadata": {},
   "outputs": [
    {
     "output_type": "stream",
     "name": "stdout",
     "text": [
      "state\nAlabama                 0\nAlaska                  0\nArizona                 1\nArkansas                0\nCalifornia              1\nColorado                1\nConnecticut             1\nDelaware                1\nDistrict of Columbia    1\nFlorida                 0\nGeorgia                 1\nHawaii                  1\nIdaho                   0\nIllinois                1\nIndiana                 0\nIowa                    0\nKansas                  0\nKentucky                0\nLouisiana               0\nMaine                   1\nMaryland                1\nMassachusetts           1\nMichigan                1\nMinnesota               1\nMississippi             0\nMissouri                0\nMontana                 0\nNebraska                0\nNevada                  1\nNew Hampshire           1\nNew Jersey              1\nNew Mexico              1\nNew York                1\nNorth Carolina          0\nNorth Dakota            0\nOhio                    0\nOklahoma                0\nOregon                  1\nPennsylvania            1\nRhode Island            1\nSouth Carolina          0\nSouth Dakota            0\nTennessee               0\nTexas                   0\nUtah                    0\nVermont                 1\nVirginia                1\nWashington              1\nWest Virginia           0\nWisconsin               1\nWyoming                 0\nName: DEM percent, dtype: int64\n"
     ]
    },
    {
     "output_type": "display_data",
     "data": {
      "application/vnd.plotly.v1+json": {
       "config": {
        "linkText": "Export to plot.ly",
        "plotlyServerURL": "https://plot.ly",
        "showLink": false
       },
       "data": [
        {
         "colorbar": {
          "title": {
           "text": "Percentage"
          }
         },
         "colorscale": [
          [
           0,
           "rgb(103,0,31)"
          ],
          [
           0.1,
           "rgb(178,24,43)"
          ],
          [
           0.2,
           "rgb(214,96,77)"
          ],
          [
           0.3,
           "rgb(244,165,130)"
          ],
          [
           0.4,
           "rgb(253,219,199)"
          ],
          [
           0.5,
           "rgb(247,247,247)"
          ],
          [
           0.6,
           "rgb(209,229,240)"
          ],
          [
           0.7,
           "rgb(146,197,222)"
          ],
          [
           0.8,
           "rgb(67,147,195)"
          ],
          [
           0.9,
           "rgb(33,102,172)"
          ],
          [
           1,
           "rgb(5,48,97)"
          ]
         ],
         "locationmode": "USA-states",
         "locations": [
          "AL",
          "AK",
          "AZ",
          "AR",
          "CA",
          "CO",
          "CT",
          "DE",
          "DC",
          "FL",
          "GA",
          "HI",
          "ID",
          "IL",
          "IN",
          "IA",
          "KS",
          "KY",
          "LA",
          "ME",
          "MD",
          "MA",
          "MI",
          "MN",
          "MS",
          "MO",
          "MT",
          "NE",
          "NV",
          "NH",
          "NJ",
          "NM",
          "NY",
          "NC",
          "ND",
          "OH",
          "OK",
          "OR",
          "PA",
          "RI",
          "SC",
          "SD",
          "TN",
          "TX",
          "UT",
          "VT",
          "VA",
          "WA",
          "WV",
          "WI",
          "WY"
         ],
         "marker": {
          "line": {
           "color": "black",
           "width": 0.5
          }
         },
         "text": [
          "Alabama",
          "Alaska",
          "Arizona",
          "Arkansas",
          "California",
          "Colorado",
          "Connecticut",
          "Delaware",
          "District of Columbia",
          "Florida",
          "Georgia",
          "Hawaii",
          "Idaho",
          "Illinois",
          "Indiana",
          "Iowa",
          "Kansas",
          "Kentucky",
          "Louisiana",
          "Maine",
          "Maryland",
          "Massachusetts",
          "Michigan",
          "Minnesota",
          "Mississippi",
          "Missouri",
          "Montana",
          "Nebraska",
          "Nevada",
          "New Hampshire",
          "New Jersey",
          "New Mexico",
          "New York",
          "North Carolina",
          "North Dakota",
          "Ohio",
          "Oklahoma",
          "Oregon",
          "Pennsylvania",
          "Rhode Island",
          "South Carolina",
          "South Dakota",
          "Tennessee",
          "Texas",
          "Utah",
          "Vermont",
          "Virginia",
          "Washington",
          "West Virginia",
          "Wisconsin",
          "Wyoming"
         ],
         "type": "choropleth",
         "z": [
          0,
          0,
          1,
          0,
          1,
          1,
          1,
          1,
          1,
          0,
          1,
          1,
          0,
          1,
          0,
          0,
          0,
          0,
          0,
          1,
          1,
          1,
          1,
          1,
          0,
          0,
          0,
          0,
          1,
          1,
          1,
          1,
          1,
          0,
          0,
          0,
          0,
          1,
          1,
          1,
          0,
          0,
          0,
          0,
          0,
          1,
          1,
          1,
          0,
          1,
          0
         ]
        }
       ],
       "layout": {
        "geo": {
         "scope": "usa"
        },
        "template": {
         "data": {
          "bar": [
           {
            "error_x": {
             "color": "#2a3f5f"
            },
            "error_y": {
             "color": "#2a3f5f"
            },
            "marker": {
             "line": {
              "color": "#E5ECF6",
              "width": 0.5
             }
            },
            "type": "bar"
           }
          ],
          "barpolar": [
           {
            "marker": {
             "line": {
              "color": "#E5ECF6",
              "width": 0.5
             }
            },
            "type": "barpolar"
           }
          ],
          "carpet": [
           {
            "aaxis": {
             "endlinecolor": "#2a3f5f",
             "gridcolor": "white",
             "linecolor": "white",
             "minorgridcolor": "white",
             "startlinecolor": "#2a3f5f"
            },
            "baxis": {
             "endlinecolor": "#2a3f5f",
             "gridcolor": "white",
             "linecolor": "white",
             "minorgridcolor": "white",
             "startlinecolor": "#2a3f5f"
            },
            "type": "carpet"
           }
          ],
          "choropleth": [
           {
            "colorbar": {
             "outlinewidth": 0,
             "ticks": ""
            },
            "type": "choropleth"
           }
          ],
          "contour": [
           {
            "colorbar": {
             "outlinewidth": 0,
             "ticks": ""
            },
            "colorscale": [
             [
              0,
              "#0d0887"
             ],
             [
              0.1111111111111111,
              "#46039f"
             ],
             [
              0.2222222222222222,
              "#7201a8"
             ],
             [
              0.3333333333333333,
              "#9c179e"
             ],
             [
              0.4444444444444444,
              "#bd3786"
             ],
             [
              0.5555555555555556,
              "#d8576b"
             ],
             [
              0.6666666666666666,
              "#ed7953"
             ],
             [
              0.7777777777777778,
              "#fb9f3a"
             ],
             [
              0.8888888888888888,
              "#fdca26"
             ],
             [
              1,
              "#f0f921"
             ]
            ],
            "type": "contour"
           }
          ],
          "contourcarpet": [
           {
            "colorbar": {
             "outlinewidth": 0,
             "ticks": ""
            },
            "type": "contourcarpet"
           }
          ],
          "heatmap": [
           {
            "colorbar": {
             "outlinewidth": 0,
             "ticks": ""
            },
            "colorscale": [
             [
              0,
              "#0d0887"
             ],
             [
              0.1111111111111111,
              "#46039f"
             ],
             [
              0.2222222222222222,
              "#7201a8"
             ],
             [
              0.3333333333333333,
              "#9c179e"
             ],
             [
              0.4444444444444444,
              "#bd3786"
             ],
             [
              0.5555555555555556,
              "#d8576b"
             ],
             [
              0.6666666666666666,
              "#ed7953"
             ],
             [
              0.7777777777777778,
              "#fb9f3a"
             ],
             [
              0.8888888888888888,
              "#fdca26"
             ],
             [
              1,
              "#f0f921"
             ]
            ],
            "type": "heatmap"
           }
          ],
          "heatmapgl": [
           {
            "colorbar": {
             "outlinewidth": 0,
             "ticks": ""
            },
            "colorscale": [
             [
              0,
              "#0d0887"
             ],
             [
              0.1111111111111111,
              "#46039f"
             ],
             [
              0.2222222222222222,
              "#7201a8"
             ],
             [
              0.3333333333333333,
              "#9c179e"
             ],
             [
              0.4444444444444444,
              "#bd3786"
             ],
             [
              0.5555555555555556,
              "#d8576b"
             ],
             [
              0.6666666666666666,
              "#ed7953"
             ],
             [
              0.7777777777777778,
              "#fb9f3a"
             ],
             [
              0.8888888888888888,
              "#fdca26"
             ],
             [
              1,
              "#f0f921"
             ]
            ],
            "type": "heatmapgl"
           }
          ],
          "histogram": [
           {
            "marker": {
             "colorbar": {
              "outlinewidth": 0,
              "ticks": ""
             }
            },
            "type": "histogram"
           }
          ],
          "histogram2d": [
           {
            "colorbar": {
             "outlinewidth": 0,
             "ticks": ""
            },
            "colorscale": [
             [
              0,
              "#0d0887"
             ],
             [
              0.1111111111111111,
              "#46039f"
             ],
             [
              0.2222222222222222,
              "#7201a8"
             ],
             [
              0.3333333333333333,
              "#9c179e"
             ],
             [
              0.4444444444444444,
              "#bd3786"
             ],
             [
              0.5555555555555556,
              "#d8576b"
             ],
             [
              0.6666666666666666,
              "#ed7953"
             ],
             [
              0.7777777777777778,
              "#fb9f3a"
             ],
             [
              0.8888888888888888,
              "#fdca26"
             ],
             [
              1,
              "#f0f921"
             ]
            ],
            "type": "histogram2d"
           }
          ],
          "histogram2dcontour": [
           {
            "colorbar": {
             "outlinewidth": 0,
             "ticks": ""
            },
            "colorscale": [
             [
              0,
              "#0d0887"
             ],
             [
              0.1111111111111111,
              "#46039f"
             ],
             [
              0.2222222222222222,
              "#7201a8"
             ],
             [
              0.3333333333333333,
              "#9c179e"
             ],
             [
              0.4444444444444444,
              "#bd3786"
             ],
             [
              0.5555555555555556,
              "#d8576b"
             ],
             [
              0.6666666666666666,
              "#ed7953"
             ],
             [
              0.7777777777777778,
              "#fb9f3a"
             ],
             [
              0.8888888888888888,
              "#fdca26"
             ],
             [
              1,
              "#f0f921"
             ]
            ],
            "type": "histogram2dcontour"
           }
          ],
          "mesh3d": [
           {
            "colorbar": {
             "outlinewidth": 0,
             "ticks": ""
            },
            "type": "mesh3d"
           }
          ],
          "parcoords": [
           {
            "line": {
             "colorbar": {
              "outlinewidth": 0,
              "ticks": ""
             }
            },
            "type": "parcoords"
           }
          ],
          "pie": [
           {
            "automargin": true,
            "type": "pie"
           }
          ],
          "scatter": [
           {
            "marker": {
             "colorbar": {
              "outlinewidth": 0,
              "ticks": ""
             }
            },
            "type": "scatter"
           }
          ],
          "scatter3d": [
           {
            "line": {
             "colorbar": {
              "outlinewidth": 0,
              "ticks": ""
             }
            },
            "marker": {
             "colorbar": {
              "outlinewidth": 0,
              "ticks": ""
             }
            },
            "type": "scatter3d"
           }
          ],
          "scattercarpet": [
           {
            "marker": {
             "colorbar": {
              "outlinewidth": 0,
              "ticks": ""
             }
            },
            "type": "scattercarpet"
           }
          ],
          "scattergeo": [
           {
            "marker": {
             "colorbar": {
              "outlinewidth": 0,
              "ticks": ""
             }
            },
            "type": "scattergeo"
           }
          ],
          "scattergl": [
           {
            "marker": {
             "colorbar": {
              "outlinewidth": 0,
              "ticks": ""
             }
            },
            "type": "scattergl"
           }
          ],
          "scattermapbox": [
           {
            "marker": {
             "colorbar": {
              "outlinewidth": 0,
              "ticks": ""
             }
            },
            "type": "scattermapbox"
           }
          ],
          "scatterpolar": [
           {
            "marker": {
             "colorbar": {
              "outlinewidth": 0,
              "ticks": ""
             }
            },
            "type": "scatterpolar"
           }
          ],
          "scatterpolargl": [
           {
            "marker": {
             "colorbar": {
              "outlinewidth": 0,
              "ticks": ""
             }
            },
            "type": "scatterpolargl"
           }
          ],
          "scatterternary": [
           {
            "marker": {
             "colorbar": {
              "outlinewidth": 0,
              "ticks": ""
             }
            },
            "type": "scatterternary"
           }
          ],
          "surface": [
           {
            "colorbar": {
             "outlinewidth": 0,
             "ticks": ""
            },
            "colorscale": [
             [
              0,
              "#0d0887"
             ],
             [
              0.1111111111111111,
              "#46039f"
             ],
             [
              0.2222222222222222,
              "#7201a8"
             ],
             [
              0.3333333333333333,
              "#9c179e"
             ],
             [
              0.4444444444444444,
              "#bd3786"
             ],
             [
              0.5555555555555556,
              "#d8576b"
             ],
             [
              0.6666666666666666,
              "#ed7953"
             ],
             [
              0.7777777777777778,
              "#fb9f3a"
             ],
             [
              0.8888888888888888,
              "#fdca26"
             ],
             [
              1,
              "#f0f921"
             ]
            ],
            "type": "surface"
           }
          ],
          "table": [
           {
            "cells": {
             "fill": {
              "color": "#EBF0F8"
             },
             "line": {
              "color": "white"
             }
            },
            "header": {
             "fill": {
              "color": "#C8D4E3"
             },
             "line": {
              "color": "white"
             }
            },
            "type": "table"
           }
          ]
         },
         "layout": {
          "annotationdefaults": {
           "arrowcolor": "#2a3f5f",
           "arrowhead": 0,
           "arrowwidth": 1
          },
          "autotypenumbers": "strict",
          "coloraxis": {
           "colorbar": {
            "outlinewidth": 0,
            "ticks": ""
           }
          },
          "colorscale": {
           "diverging": [
            [
             0,
             "#8e0152"
            ],
            [
             0.1,
             "#c51b7d"
            ],
            [
             0.2,
             "#de77ae"
            ],
            [
             0.3,
             "#f1b6da"
            ],
            [
             0.4,
             "#fde0ef"
            ],
            [
             0.5,
             "#f7f7f7"
            ],
            [
             0.6,
             "#e6f5d0"
            ],
            [
             0.7,
             "#b8e186"
            ],
            [
             0.8,
             "#7fbc41"
            ],
            [
             0.9,
             "#4d9221"
            ],
            [
             1,
             "#276419"
            ]
           ],
           "sequential": [
            [
             0,
             "#0d0887"
            ],
            [
             0.1111111111111111,
             "#46039f"
            ],
            [
             0.2222222222222222,
             "#7201a8"
            ],
            [
             0.3333333333333333,
             "#9c179e"
            ],
            [
             0.4444444444444444,
             "#bd3786"
            ],
            [
             0.5555555555555556,
             "#d8576b"
            ],
            [
             0.6666666666666666,
             "#ed7953"
            ],
            [
             0.7777777777777778,
             "#fb9f3a"
            ],
            [
             0.8888888888888888,
             "#fdca26"
            ],
            [
             1,
             "#f0f921"
            ]
           ],
           "sequentialminus": [
            [
             0,
             "#0d0887"
            ],
            [
             0.1111111111111111,
             "#46039f"
            ],
            [
             0.2222222222222222,
             "#7201a8"
            ],
            [
             0.3333333333333333,
             "#9c179e"
            ],
            [
             0.4444444444444444,
             "#bd3786"
            ],
            [
             0.5555555555555556,
             "#d8576b"
            ],
            [
             0.6666666666666666,
             "#ed7953"
            ],
            [
             0.7777777777777778,
             "#fb9f3a"
            ],
            [
             0.8888888888888888,
             "#fdca26"
            ],
            [
             1,
             "#f0f921"
            ]
           ]
          },
          "colorway": [
           "#636efa",
           "#EF553B",
           "#00cc96",
           "#ab63fa",
           "#FFA15A",
           "#19d3f3",
           "#FF6692",
           "#B6E880",
           "#FF97FF",
           "#FECB52"
          ],
          "font": {
           "color": "#2a3f5f"
          },
          "geo": {
           "bgcolor": "white",
           "lakecolor": "white",
           "landcolor": "#E5ECF6",
           "showlakes": true,
           "showland": true,
           "subunitcolor": "white"
          },
          "hoverlabel": {
           "align": "left"
          },
          "hovermode": "closest",
          "mapbox": {
           "style": "light"
          },
          "paper_bgcolor": "white",
          "plot_bgcolor": "#E5ECF6",
          "polar": {
           "angularaxis": {
            "gridcolor": "white",
            "linecolor": "white",
            "ticks": ""
           },
           "bgcolor": "#E5ECF6",
           "radialaxis": {
            "gridcolor": "white",
            "linecolor": "white",
            "ticks": ""
           }
          },
          "scene": {
           "xaxis": {
            "backgroundcolor": "#E5ECF6",
            "gridcolor": "white",
            "gridwidth": 2,
            "linecolor": "white",
            "showbackground": true,
            "ticks": "",
            "zerolinecolor": "white"
           },
           "yaxis": {
            "backgroundcolor": "#E5ECF6",
            "gridcolor": "white",
            "gridwidth": 2,
            "linecolor": "white",
            "showbackground": true,
            "ticks": "",
            "zerolinecolor": "white"
           },
           "zaxis": {
            "backgroundcolor": "#E5ECF6",
            "gridcolor": "white",
            "gridwidth": 2,
            "linecolor": "white",
            "showbackground": true,
            "ticks": "",
            "zerolinecolor": "white"
           }
          },
          "shapedefaults": {
           "line": {
            "color": "#2a3f5f"
           }
          },
          "ternary": {
           "aaxis": {
            "gridcolor": "white",
            "linecolor": "white",
            "ticks": ""
           },
           "baxis": {
            "gridcolor": "white",
            "linecolor": "white",
            "ticks": ""
           },
           "bgcolor": "#E5ECF6",
           "caxis": {
            "gridcolor": "white",
            "linecolor": "white",
            "ticks": ""
           }
          },
          "title": {
           "x": 0.05
          },
          "xaxis": {
           "automargin": true,
           "gridcolor": "white",
           "linecolor": "white",
           "ticks": "",
           "title": {
            "standoff": 15
           },
           "zerolinecolor": "white",
           "zerolinewidth": 2
          },
          "yaxis": {
           "automargin": true,
           "gridcolor": "white",
           "linecolor": "white",
           "ticks": "",
           "title": {
            "standoff": 15
           },
           "zerolinecolor": "white",
           "zerolinewidth": 2
          }
         }
        },
        "title": {
         "text": "Democratic Party votes percent(2020 US elecion)"
        }
       }
      }
     },
     "metadata": {}
    }
   ],
   "source": [
    "# Plot election results\n",
    "# Requires you to first download some files from kaggle \n",
    "# president_county_candidate.csv from https://www.kaggle.com/unanimad/us-election-2020?select=president_county_candidate.csv\n",
    "# world_country_and_usa_states_latitude_and_longitude_values.csv from https://www.kaggle.com/paultimothymooney/latitude-and-longitude-for-every-country-and-state?select=world_country_and_usa_states_latitude_and_longitude_values.csv\n",
    "import plotly.graph_objs as go\n",
    "\n",
    "df = pd.read_csv('president_county_candidate.csv')\n",
    "df = df[(df['party']=='DEM') | (df['party']=='REP')] # Selecting only democratic and republican party.\n",
    "\n",
    "\n",
    "df = df.groupby(['state','party']).sum().unstack()\n",
    "\n",
    "df.drop('won', axis=1, inplace=True)\n",
    "df.columns = ['DEM','REP']\n",
    "\n",
    "# Percentage of Democratic Party votes.\n",
    "df['DEM percent'] = df['DEM']/(df['REP']+df['DEM']) *100\n",
    "def threshold(val, thresh=50):\n",
    "    if val > thresh:\n",
    "        return 1\n",
    "    else:\n",
    "        return 0\n",
    "\n",
    "df['DEM percent'] = df['DEM percent'].map(threshold)\n",
    "\n",
    "print(df['DEM percent'], )\n",
    "state_code = pd.read_csv(\"world_country_and_usa_states_latitude_and_longitude_values.csv\")\n",
    "state_code = state_code[['usa_state_code','usa_state']]\n",
    "\n",
    "state_code = state_code.dropna()\n",
    "df = df.merge(state_code, left_on='state',right_on='usa_state')\n",
    "data = dict(type = 'choropleth',\n",
    "           locations = df['usa_state_code'],\n",
    "           locationmode = 'USA-states',\n",
    "           colorscale = 'RdBu', #jet, magenta, rainbow etc\n",
    "           z = df['DEM percent'], # column you want to plot\n",
    "           text = df['usa_state'], # text to add in the map, I am just adding state names.\n",
    "           marker = dict(line = dict(color= 'black', width=0.5)), # boundaries of states.\n",
    "           colorbar = dict(title = 'Percentage')) # title of the bar.\n",
    "\n",
    "            \n",
    "layout = dict(title = 'Democratic Party votes percent(2020 US elecion)',\n",
    "              geo = dict(scope = 'usa')) # you can also add lakes in the map.\n",
    "\n",
    "choromap = go.Figure(data= data, layout = layout)\n",
    "iplot(choromap)"
   ]
  },
  {
   "cell_type": "code",
   "execution_count": null,
   "metadata": {},
   "outputs": [],
   "source": []
  }
 ]
}