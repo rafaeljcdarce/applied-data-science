{
 "metadata": {
  "language_info": {
   "codemirror_mode": {
    "name": "ipython",
    "version": 3
   },
   "file_extension": ".py",
   "mimetype": "text/x-python",
   "name": "python",
   "nbconvert_exporter": "python",
   "pygments_lexer": "ipython3",
   "version": "3.8.5"
  },
  "orig_nbformat": 2,
  "kernelspec": {
   "name": "python3",
   "display_name": "Python 3.8.5  ('venv': venv)",
   "metadata": {
    "interpreter": {
     "hash": "ea281f575c47f51c0cf6ca9dbeb558bd676f3fbd79187259193cfb6ba31f45ad"
    }
   }
  }
 },
 "nbformat": 4,
 "nbformat_minor": 2,
 "cells": [
  {
   "cell_type": "code",
   "execution_count": 1,
   "metadata": {},
   "outputs": [],
   "source": [
    "import pandas as pd\n",
    "from applied_data_science.sentiment_pipeline import SentimentPipeline"
   ]
  },
  {
   "cell_type": "code",
   "execution_count": 2,
   "metadata": {},
   "outputs": [
    {
     "output_type": "execute_result",
     "data": {
      "text/plain": [
       "           id                date  \\\n",
       "0  1467810369 2009-04-06 22:19:45   \n",
       "1  1467810672 2009-04-06 22:19:49   \n",
       "2  1467810917 2009-04-06 22:19:53   \n",
       "3  1467811184 2009-04-06 22:19:57   \n",
       "4  1467811193 2009-04-06 22:19:57   \n",
       "5  1467811372 2009-04-06 22:20:00   \n",
       "6  1467811592 2009-04-06 22:20:03   \n",
       "7  1467811594 2009-04-06 22:20:03   \n",
       "8  1467811795 2009-04-06 22:20:05   \n",
       "9  1467812025 2009-04-06 22:20:09   \n",
       "\n",
       "                                                text  \n",
       "0  @switchfoot http://twitpic.com/2y1zl - Awww, t...  \n",
       "1  is upset that he can't update his Facebook by ...  \n",
       "2  @Kenichan I dived many times for the ball. Man...  \n",
       "3    my whole body feels itchy and like its on fire   \n",
       "4  @nationwideclass no, it's not behaving at all....  \n",
       "5                      @Kwesidei not the whole crew   \n",
       "6                                        Need a hug   \n",
       "7  @LOLTrish hey  long time no see! Yes.. Rains a...  \n",
       "8               @Tatiana_K nope they didn't have it   \n",
       "9                          @twittera que me muera ?   "
      ],
      "text/html": "<div>\n<style scoped>\n    .dataframe tbody tr th:only-of-type {\n        vertical-align: middle;\n    }\n\n    .dataframe tbody tr th {\n        vertical-align: top;\n    }\n\n    .dataframe thead th {\n        text-align: right;\n    }\n</style>\n<table border=\"1\" class=\"dataframe\">\n  <thead>\n    <tr style=\"text-align: right;\">\n      <th></th>\n      <th>id</th>\n      <th>date</th>\n      <th>text</th>\n    </tr>\n  </thead>\n  <tbody>\n    <tr>\n      <th>0</th>\n      <td>1467810369</td>\n      <td>2009-04-06 22:19:45</td>\n      <td>@switchfoot http://twitpic.com/2y1zl - Awww, t...</td>\n    </tr>\n    <tr>\n      <th>1</th>\n      <td>1467810672</td>\n      <td>2009-04-06 22:19:49</td>\n      <td>is upset that he can't update his Facebook by ...</td>\n    </tr>\n    <tr>\n      <th>2</th>\n      <td>1467810917</td>\n      <td>2009-04-06 22:19:53</td>\n      <td>@Kenichan I dived many times for the ball. Man...</td>\n    </tr>\n    <tr>\n      <th>3</th>\n      <td>1467811184</td>\n      <td>2009-04-06 22:19:57</td>\n      <td>my whole body feels itchy and like its on fire</td>\n    </tr>\n    <tr>\n      <th>4</th>\n      <td>1467811193</td>\n      <td>2009-04-06 22:19:57</td>\n      <td>@nationwideclass no, it's not behaving at all....</td>\n    </tr>\n    <tr>\n      <th>5</th>\n      <td>1467811372</td>\n      <td>2009-04-06 22:20:00</td>\n      <td>@Kwesidei not the whole crew</td>\n    </tr>\n    <tr>\n      <th>6</th>\n      <td>1467811592</td>\n      <td>2009-04-06 22:20:03</td>\n      <td>Need a hug</td>\n    </tr>\n    <tr>\n      <th>7</th>\n      <td>1467811594</td>\n      <td>2009-04-06 22:20:03</td>\n      <td>@LOLTrish hey  long time no see! Yes.. Rains a...</td>\n    </tr>\n    <tr>\n      <th>8</th>\n      <td>1467811795</td>\n      <td>2009-04-06 22:20:05</td>\n      <td>@Tatiana_K nope they didn't have it</td>\n    </tr>\n    <tr>\n      <th>9</th>\n      <td>1467812025</td>\n      <td>2009-04-06 22:20:09</td>\n      <td>@twittera que me muera ?</td>\n    </tr>\n  </tbody>\n</table>\n</div>"
     },
     "metadata": {},
     "execution_count": 2
    }
   ],
   "source": [
    "df = pd.read_csv('data.csv', encoding = 'latin', header=None) # load example data\n",
    "df.columns = ['sentiment', 'id', 'date', 'query', 'user_id', 'text'] # set column names\n",
    "df = df.drop(['query', 'user_id', 'sentiment'], axis=1) # drop extra columns\n",
    "df['date'] = pd.to_datetime(df['date'], format=\"%a %b %d %H:%M:%S PDT %Y\") # parse dates e.g. Tue Jun 16 08:40:50 PDT 2009\n",
    "df.head(10)"
   ]
  },
  {
   "cell_type": "code",
   "execution_count": 3,
   "metadata": {},
   "outputs": [
    {
     "output_type": "stream",
     "name": "stdout",
     "text": [
      "\n",
      "CLEANING\n",
      "100%|██████████| 1600000/1600000 [00:01<00:00, 876691.35it/s]\n",
      "\n",
      "ANALYSING\n",
      "100%|██████████| 1600000/1600000 [00:10<00:00, 147925.56it/s]\n",
      "\n",
      "CLASSIFYING\n",
      "100%|██████████| 1600000/1600000 [00:00<00:00, 2518399.11it/s]\n",
      "\n",
      "DONE\n"
     ]
    },
    {
     "output_type": "execute_result",
     "data": {
      "text/plain": [
       "                                          clean_text  sentiment_score  \\\n",
       "0   - Awww, that's a bummer. You shoulda got Davi...          -0.0173   \n",
       "1  is upset that he can't update his Facebook by ...          -0.7500   \n",
       "2   I dived many times for the ball. Managed to s...           0.4939   \n",
       "3    my whole body feels itchy and like its on fire           -0.2500   \n",
       "4   no, it's not behaving at all. i'm mad. why am...          -0.4939   \n",
       "5                                not the whole crew            0.0000   \n",
       "6                                        Need a hug            0.4767   \n",
       "7   hey long time no see! Yes.. Rains a bit ,only...           0.6208   \n",
       "8                          nope they didn't have it            0.0000   \n",
       "9                                    que me muera ?            0.0000   \n",
       "\n",
       "   sentiment  \n",
       "0          0  \n",
       "1         -1  \n",
       "2          1  \n",
       "3         -1  \n",
       "4         -1  \n",
       "5          0  \n",
       "6          1  \n",
       "7          1  \n",
       "8          0  \n",
       "9          0  "
      ],
      "text/html": "<div>\n<style scoped>\n    .dataframe tbody tr th:only-of-type {\n        vertical-align: middle;\n    }\n\n    .dataframe tbody tr th {\n        vertical-align: top;\n    }\n\n    .dataframe thead th {\n        text-align: right;\n    }\n</style>\n<table border=\"1\" class=\"dataframe\">\n  <thead>\n    <tr style=\"text-align: right;\">\n      <th></th>\n      <th>clean_text</th>\n      <th>sentiment_score</th>\n      <th>sentiment</th>\n    </tr>\n  </thead>\n  <tbody>\n    <tr>\n      <th>0</th>\n      <td>- Awww, that's a bummer. You shoulda got Davi...</td>\n      <td>-0.0173</td>\n      <td>0</td>\n    </tr>\n    <tr>\n      <th>1</th>\n      <td>is upset that he can't update his Facebook by ...</td>\n      <td>-0.7500</td>\n      <td>-1</td>\n    </tr>\n    <tr>\n      <th>2</th>\n      <td>I dived many times for the ball. Managed to s...</td>\n      <td>0.4939</td>\n      <td>1</td>\n    </tr>\n    <tr>\n      <th>3</th>\n      <td>my whole body feels itchy and like its on fire</td>\n      <td>-0.2500</td>\n      <td>-1</td>\n    </tr>\n    <tr>\n      <th>4</th>\n      <td>no, it's not behaving at all. i'm mad. why am...</td>\n      <td>-0.4939</td>\n      <td>-1</td>\n    </tr>\n    <tr>\n      <th>5</th>\n      <td>not the whole crew</td>\n      <td>0.0000</td>\n      <td>0</td>\n    </tr>\n    <tr>\n      <th>6</th>\n      <td>Need a hug</td>\n      <td>0.4767</td>\n      <td>1</td>\n    </tr>\n    <tr>\n      <th>7</th>\n      <td>hey long time no see! Yes.. Rains a bit ,only...</td>\n      <td>0.6208</td>\n      <td>1</td>\n    </tr>\n    <tr>\n      <th>8</th>\n      <td>nope they didn't have it</td>\n      <td>0.0000</td>\n      <td>0</td>\n    </tr>\n    <tr>\n      <th>9</th>\n      <td>que me muera ?</td>\n      <td>0.0000</td>\n      <td>0</td>\n    </tr>\n  </tbody>\n</table>\n</div>"
     },
     "metadata": {},
     "execution_count": 3
    }
   ],
   "source": [
    "# set workers <= CPU cores, set chunksize based on dataset size (my data has 1.6 million tweets)\n",
    "# threshold reccommended by VADER docs, change labels if u want\n",
    "pipe = SentimentPipeline(workers=10, chunksize=100000, threshold=0.05, pos_label=1, neu_label=0, neg_label=-1) \n",
    "output = pipe(df['text'])\n",
    "output.head(10)"
   ]
  },
  {
   "cell_type": "code",
   "execution_count": 4,
   "metadata": {},
   "outputs": [
    {
     "output_type": "execute_result",
     "data": {
      "text/plain": [
       "           id                date  \\\n",
       "0  1467810369 2009-04-06 22:19:45   \n",
       "1  1467810672 2009-04-06 22:19:49   \n",
       "2  1467810917 2009-04-06 22:19:53   \n",
       "3  1467811184 2009-04-06 22:19:57   \n",
       "4  1467811193 2009-04-06 22:19:57   \n",
       "5  1467811372 2009-04-06 22:20:00   \n",
       "6  1467811592 2009-04-06 22:20:03   \n",
       "7  1467811594 2009-04-06 22:20:03   \n",
       "8  1467811795 2009-04-06 22:20:05   \n",
       "9  1467812025 2009-04-06 22:20:09   \n",
       "\n",
       "                                                text  \\\n",
       "0  @switchfoot http://twitpic.com/2y1zl - Awww, t...   \n",
       "1  is upset that he can't update his Facebook by ...   \n",
       "2  @Kenichan I dived many times for the ball. Man...   \n",
       "3    my whole body feels itchy and like its on fire    \n",
       "4  @nationwideclass no, it's not behaving at all....   \n",
       "5                      @Kwesidei not the whole crew    \n",
       "6                                        Need a hug    \n",
       "7  @LOLTrish hey  long time no see! Yes.. Rains a...   \n",
       "8               @Tatiana_K nope they didn't have it    \n",
       "9                          @twittera que me muera ?    \n",
       "\n",
       "                                          clean_text  sentiment_score  \\\n",
       "0   - Awww, that's a bummer. You shoulda got Davi...          -0.0173   \n",
       "1  is upset that he can't update his Facebook by ...          -0.7500   \n",
       "2   I dived many times for the ball. Managed to s...           0.4939   \n",
       "3    my whole body feels itchy and like its on fire           -0.2500   \n",
       "4   no, it's not behaving at all. i'm mad. why am...          -0.4939   \n",
       "5                                not the whole crew            0.0000   \n",
       "6                                        Need a hug            0.4767   \n",
       "7   hey long time no see! Yes.. Rains a bit ,only...           0.6208   \n",
       "8                          nope they didn't have it            0.0000   \n",
       "9                                    que me muera ?            0.0000   \n",
       "\n",
       "   sentiment  \n",
       "0          0  \n",
       "1         -1  \n",
       "2          1  \n",
       "3         -1  \n",
       "4         -1  \n",
       "5          0  \n",
       "6          1  \n",
       "7          1  \n",
       "8          0  \n",
       "9          0  "
      ],
      "text/html": "<div>\n<style scoped>\n    .dataframe tbody tr th:only-of-type {\n        vertical-align: middle;\n    }\n\n    .dataframe tbody tr th {\n        vertical-align: top;\n    }\n\n    .dataframe thead th {\n        text-align: right;\n    }\n</style>\n<table border=\"1\" class=\"dataframe\">\n  <thead>\n    <tr style=\"text-align: right;\">\n      <th></th>\n      <th>id</th>\n      <th>date</th>\n      <th>text</th>\n      <th>clean_text</th>\n      <th>sentiment_score</th>\n      <th>sentiment</th>\n    </tr>\n  </thead>\n  <tbody>\n    <tr>\n      <th>0</th>\n      <td>1467810369</td>\n      <td>2009-04-06 22:19:45</td>\n      <td>@switchfoot http://twitpic.com/2y1zl - Awww, t...</td>\n      <td>- Awww, that's a bummer. You shoulda got Davi...</td>\n      <td>-0.0173</td>\n      <td>0</td>\n    </tr>\n    <tr>\n      <th>1</th>\n      <td>1467810672</td>\n      <td>2009-04-06 22:19:49</td>\n      <td>is upset that he can't update his Facebook by ...</td>\n      <td>is upset that he can't update his Facebook by ...</td>\n      <td>-0.7500</td>\n      <td>-1</td>\n    </tr>\n    <tr>\n      <th>2</th>\n      <td>1467810917</td>\n      <td>2009-04-06 22:19:53</td>\n      <td>@Kenichan I dived many times for the ball. Man...</td>\n      <td>I dived many times for the ball. Managed to s...</td>\n      <td>0.4939</td>\n      <td>1</td>\n    </tr>\n    <tr>\n      <th>3</th>\n      <td>1467811184</td>\n      <td>2009-04-06 22:19:57</td>\n      <td>my whole body feels itchy and like its on fire</td>\n      <td>my whole body feels itchy and like its on fire</td>\n      <td>-0.2500</td>\n      <td>-1</td>\n    </tr>\n    <tr>\n      <th>4</th>\n      <td>1467811193</td>\n      <td>2009-04-06 22:19:57</td>\n      <td>@nationwideclass no, it's not behaving at all....</td>\n      <td>no, it's not behaving at all. i'm mad. why am...</td>\n      <td>-0.4939</td>\n      <td>-1</td>\n    </tr>\n    <tr>\n      <th>5</th>\n      <td>1467811372</td>\n      <td>2009-04-06 22:20:00</td>\n      <td>@Kwesidei not the whole crew</td>\n      <td>not the whole crew</td>\n      <td>0.0000</td>\n      <td>0</td>\n    </tr>\n    <tr>\n      <th>6</th>\n      <td>1467811592</td>\n      <td>2009-04-06 22:20:03</td>\n      <td>Need a hug</td>\n      <td>Need a hug</td>\n      <td>0.4767</td>\n      <td>1</td>\n    </tr>\n    <tr>\n      <th>7</th>\n      <td>1467811594</td>\n      <td>2009-04-06 22:20:03</td>\n      <td>@LOLTrish hey  long time no see! Yes.. Rains a...</td>\n      <td>hey long time no see! Yes.. Rains a bit ,only...</td>\n      <td>0.6208</td>\n      <td>1</td>\n    </tr>\n    <tr>\n      <th>8</th>\n      <td>1467811795</td>\n      <td>2009-04-06 22:20:05</td>\n      <td>@Tatiana_K nope they didn't have it</td>\n      <td>nope they didn't have it</td>\n      <td>0.0000</td>\n      <td>0</td>\n    </tr>\n    <tr>\n      <th>9</th>\n      <td>1467812025</td>\n      <td>2009-04-06 22:20:09</td>\n      <td>@twittera que me muera ?</td>\n      <td>que me muera ?</td>\n      <td>0.0000</td>\n      <td>0</td>\n    </tr>\n  </tbody>\n</table>\n</div>"
     },
     "metadata": {},
     "execution_count": 4
    }
   ],
   "source": [
    "# how to merge output with exisiting df\n",
    "df = df.merge(output, how = 'left', left_index = True, right_index = True)\n",
    "df.head(10)"
   ]
  },
  {
   "cell_type": "code",
   "execution_count": 5,
   "metadata": {},
   "outputs": [],
   "source": [
    "\n",
    "# with open('clean.pkl', 'rb') as f:\n",
    "#     df = pickle.load(f)\n",
    "\n",
    "# def filter_by_keywords(df, keywords):\n",
    "#     return df[pd.DataFrame(df.text.tolist()).isin(keywords).any(1).values]\n",
    "\n",
    "# def time_series(df, keywords=[]):\n",
    "#     if keywords:\n",
    "#         df = filter_by_keywords(df, keywords)\n",
    "#     df = df.set_index(df.date)\n",
    "#     df = df.drop(['id', 'text', 'date'], axis=1)\n",
    "#     # print(df[df.sentiment==4].head(100))\n",
    "\n",
    "#     neg = df[df.sentiment==0]\n",
    "#     pos = df[df.sentiment==4]\n",
    "\n",
    "#     pos = pos.resample('D').agg({'sentiment':'size'}).fillna(0) \n",
    "#     pos = pos.rename(columns={'sentiment':'count'})\n",
    "\n",
    "\n",
    "#     neg = neg.resample('D').agg({'sentiment':'size'}).fillna(0) \n",
    "#     neg = neg.rename(columns={'sentiment':'count'})\n",
    "#     # df = df.resample('D').agg({'sentiment':'size'}).fillna(0)\n",
    "#     # df.rename(columns={\"date\": \"count\"})\n",
    "\n",
    "\n",
    "#     # neg.set_index(pos.date, inplace=True)\n",
    "#     # neg = pos.resample('D').sum().fillna(0)\n",
    "#     return pos, neg\n",
    "\n",
    "# # print(df.head(100000))\n",
    "# pos, neg = time_series(df)\n",
    "# ax = plt.gca()\n",
    "# pos.plot(kind='line',y='count', ax=ax)\n",
    "# neg.plot(kind='line',y='count', ax=ax)\n",
    "# ax.legend([\"Positive\", \"Negative\"])\n",
    "\n",
    "# plt.show()"
   ]
  }
 ]
}